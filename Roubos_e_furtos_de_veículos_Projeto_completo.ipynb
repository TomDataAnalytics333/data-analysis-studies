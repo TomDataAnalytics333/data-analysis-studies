{
  "nbformat": 4,
  "nbformat_minor": 0,
  "metadata": {
    "colab": {
      "provenance": [],
      "collapsed_sections": [
        "mB42u-EzyxWf",
        "4pl3djaG2-LQ",
        "-WcQj38m17yW",
        "0iPOkRocNL-A",
        "2Io4qjjoc70H"
      ],
      "toc_visible": true,
      "authorship_tag": "ABX9TyOBQFit2d+2ayaZI7QFUmsx"
    },
    "kernelspec": {
      "name": "python3",
      "display_name": "Python 3"
    },
    "language_info": {
      "name": "python"
    }
  },
  "cells": [
    {
      "cell_type": "markdown",
      "source": [
        "# Importando e Instalando Bibliotecas\n",
        "\n"
      ],
      "metadata": {
        "id": "mB42u-EzyxWf"
      }
    },
    {
      "cell_type": "code",
      "source": [
        "pip install gcsfs"
      ],
      "metadata": {
        "colab": {
          "base_uri": "https://localhost:8080/"
        },
        "id": "Y7tEyuZyywJS",
        "outputId": "ec37030f-e0f5-434a-c9c4-249c0b6ea928"
      },
      "execution_count": null,
      "outputs": [
        {
          "output_type": "stream",
          "name": "stdout",
          "text": [
            "Looking in indexes: https://pypi.org/simple, https://us-python.pkg.dev/colab-wheels/public/simple/\n",
            "Requirement already satisfied: gcsfs in /usr/local/lib/python3.10/dist-packages (2023.4.0)\n",
            "Requirement already satisfied: google-auth>=1.2 in /usr/local/lib/python3.10/dist-packages (from gcsfs) (2.17.3)\n",
            "Requirement already satisfied: google-auth-oauthlib in /usr/local/lib/python3.10/dist-packages (from gcsfs) (1.0.0)\n",
            "Requirement already satisfied: requests in /usr/local/lib/python3.10/dist-packages (from gcsfs) (2.27.1)\n",
            "Requirement already satisfied: decorator>4.1.2 in /usr/local/lib/python3.10/dist-packages (from gcsfs) (4.4.2)\n",
            "Requirement already satisfied: aiohttp!=4.0.0a0,!=4.0.0a1 in /usr/local/lib/python3.10/dist-packages (from gcsfs) (3.8.4)\n",
            "Requirement already satisfied: google-cloud-storage in /usr/local/lib/python3.10/dist-packages (from gcsfs) (2.8.0)\n",
            "Requirement already satisfied: fsspec==2023.4.0 in /usr/local/lib/python3.10/dist-packages (from gcsfs) (2023.4.0)\n",
            "Requirement already satisfied: yarl<2.0,>=1.0 in /usr/local/lib/python3.10/dist-packages (from aiohttp!=4.0.0a0,!=4.0.0a1->gcsfs) (1.9.2)\n",
            "Requirement already satisfied: attrs>=17.3.0 in /usr/local/lib/python3.10/dist-packages (from aiohttp!=4.0.0a0,!=4.0.0a1->gcsfs) (23.1.0)\n",
            "Requirement already satisfied: async-timeout<5.0,>=4.0.0a3 in /usr/local/lib/python3.10/dist-packages (from aiohttp!=4.0.0a0,!=4.0.0a1->gcsfs) (4.0.2)\n",
            "Requirement already satisfied: aiosignal>=1.1.2 in /usr/local/lib/python3.10/dist-packages (from aiohttp!=4.0.0a0,!=4.0.0a1->gcsfs) (1.3.1)\n",
            "Requirement already satisfied: charset-normalizer<4.0,>=2.0 in /usr/local/lib/python3.10/dist-packages (from aiohttp!=4.0.0a0,!=4.0.0a1->gcsfs) (2.0.12)\n",
            "Requirement already satisfied: frozenlist>=1.1.1 in /usr/local/lib/python3.10/dist-packages (from aiohttp!=4.0.0a0,!=4.0.0a1->gcsfs) (1.3.3)\n",
            "Requirement already satisfied: multidict<7.0,>=4.5 in /usr/local/lib/python3.10/dist-packages (from aiohttp!=4.0.0a0,!=4.0.0a1->gcsfs) (6.0.4)\n",
            "Requirement already satisfied: six>=1.9.0 in /usr/local/lib/python3.10/dist-packages (from google-auth>=1.2->gcsfs) (1.16.0)\n",
            "Requirement already satisfied: rsa<5,>=3.1.4 in /usr/local/lib/python3.10/dist-packages (from google-auth>=1.2->gcsfs) (4.9)\n",
            "Requirement already satisfied: cachetools<6.0,>=2.0.0 in /usr/local/lib/python3.10/dist-packages (from google-auth>=1.2->gcsfs) (5.3.0)\n",
            "Requirement already satisfied: pyasn1-modules>=0.2.1 in /usr/local/lib/python3.10/dist-packages (from google-auth>=1.2->gcsfs) (0.3.0)\n",
            "Requirement already satisfied: requests-oauthlib>=0.7.0 in /usr/local/lib/python3.10/dist-packages (from google-auth-oauthlib->gcsfs) (1.3.1)\n",
            "Requirement already satisfied: google-api-core!=2.0.*,!=2.1.*,!=2.2.*,!=2.3.0,<3.0.0dev,>=1.31.5 in /usr/local/lib/python3.10/dist-packages (from google-cloud-storage->gcsfs) (2.11.0)\n",
            "Requirement already satisfied: google-cloud-core<3.0dev,>=2.3.0 in /usr/local/lib/python3.10/dist-packages (from google-cloud-storage->gcsfs) (2.3.2)\n",
            "Requirement already satisfied: google-resumable-media>=2.3.2 in /usr/local/lib/python3.10/dist-packages (from google-cloud-storage->gcsfs) (2.5.0)\n",
            "Requirement already satisfied: urllib3<1.27,>=1.21.1 in /usr/local/lib/python3.10/dist-packages (from requests->gcsfs) (1.26.15)\n",
            "Requirement already satisfied: idna<4,>=2.5 in /usr/local/lib/python3.10/dist-packages (from requests->gcsfs) (3.4)\n",
            "Requirement already satisfied: certifi>=2017.4.17 in /usr/local/lib/python3.10/dist-packages (from requests->gcsfs) (2022.12.7)\n",
            "Requirement already satisfied: googleapis-common-protos<2.0dev,>=1.56.2 in /usr/local/lib/python3.10/dist-packages (from google-api-core!=2.0.*,!=2.1.*,!=2.2.*,!=2.3.0,<3.0.0dev,>=1.31.5->google-cloud-storage->gcsfs) (1.59.0)\n",
            "Requirement already satisfied: protobuf!=3.20.0,!=3.20.1,!=4.21.0,!=4.21.1,!=4.21.2,!=4.21.3,!=4.21.4,!=4.21.5,<5.0.0dev,>=3.19.5 in /usr/local/lib/python3.10/dist-packages (from google-api-core!=2.0.*,!=2.1.*,!=2.2.*,!=2.3.0,<3.0.0dev,>=1.31.5->google-cloud-storage->gcsfs) (3.20.3)\n",
            "Requirement already satisfied: google-crc32c<2.0dev,>=1.0 in /usr/local/lib/python3.10/dist-packages (from google-resumable-media>=2.3.2->google-cloud-storage->gcsfs) (1.5.0)\n",
            "Requirement already satisfied: pyasn1<0.6.0,>=0.4.6 in /usr/local/lib/python3.10/dist-packages (from pyasn1-modules>=0.2.1->google-auth>=1.2->gcsfs) (0.5.0)\n",
            "Requirement already satisfied: oauthlib>=3.0.0 in /usr/local/lib/python3.10/dist-packages (from requests-oauthlib>=0.7.0->google-auth-oauthlib->gcsfs) (3.2.2)\n"
          ]
        }
      ]
    },
    {
      "cell_type": "code",
      "source": [
        "pip install pandera"
      ],
      "metadata": {
        "colab": {
          "base_uri": "https://localhost:8080/"
        },
        "id": "Ls_rKoMcy5Z9",
        "outputId": "19db1624-d794-4ec8-817e-4e5a8f42f1e9"
      },
      "execution_count": null,
      "outputs": [
        {
          "output_type": "stream",
          "name": "stdout",
          "text": [
            "Looking in indexes: https://pypi.org/simple, https://us-python.pkg.dev/colab-wheels/public/simple/\n",
            "Requirement already satisfied: pandera in /usr/local/lib/python3.10/dist-packages (0.14.5)\n",
            "Requirement already satisfied: multimethod in /usr/local/lib/python3.10/dist-packages (from pandera) (1.9.1)\n",
            "Requirement already satisfied: numpy>=1.19.0 in /usr/local/lib/python3.10/dist-packages (from pandera) (1.22.4)\n",
            "Requirement already satisfied: pydantic in /usr/local/lib/python3.10/dist-packages (from pandera) (1.10.7)\n",
            "Requirement already satisfied: wrapt in /usr/local/lib/python3.10/dist-packages (from pandera) (1.14.1)\n",
            "Requirement already satisfied: typing-inspect>=0.6.0 in /usr/local/lib/python3.10/dist-packages (from pandera) (0.8.0)\n",
            "Requirement already satisfied: packaging>=20.0 in /usr/local/lib/python3.10/dist-packages (from pandera) (23.1)\n",
            "Requirement already satisfied: pandas>=1.2.0 in /usr/local/lib/python3.10/dist-packages (from pandera) (1.5.3)\n",
            "Requirement already satisfied: pytz>=2020.1 in /usr/local/lib/python3.10/dist-packages (from pandas>=1.2.0->pandera) (2022.7.1)\n",
            "Requirement already satisfied: python-dateutil>=2.8.1 in /usr/local/lib/python3.10/dist-packages (from pandas>=1.2.0->pandera) (2.8.2)\n",
            "Requirement already satisfied: typing-extensions>=3.7.4 in /usr/local/lib/python3.10/dist-packages (from typing-inspect>=0.6.0->pandera) (4.5.0)\n",
            "Requirement already satisfied: mypy-extensions>=0.3.0 in /usr/local/lib/python3.10/dist-packages (from typing-inspect>=0.6.0->pandera) (1.0.0)\n",
            "Requirement already satisfied: six>=1.5 in /usr/local/lib/python3.10/dist-packages (from python-dateutil>=2.8.1->pandas>=1.2.0->pandera) (1.16.0)\n"
          ]
        }
      ]
    },
    {
      "cell_type": "code",
      "source": [
        "pip install openpyxl"
      ],
      "metadata": {
        "colab": {
          "base_uri": "https://localhost:8080/"
        },
        "id": "HluvuTGDCn9K",
        "outputId": "7c885b17-d82b-4bae-a6dc-cc159b38c25f"
      },
      "execution_count": null,
      "outputs": [
        {
          "output_type": "stream",
          "name": "stdout",
          "text": [
            "Looking in indexes: https://pypi.org/simple, https://us-python.pkg.dev/colab-wheels/public/simple/\n",
            "Requirement already satisfied: openpyxl in /usr/local/lib/python3.10/dist-packages (3.0.10)\n",
            "Requirement already satisfied: et-xmlfile in /usr/local/lib/python3.10/dist-packages (from openpyxl) (1.1.0)\n"
          ]
        }
      ]
    },
    {
      "cell_type": "code",
      "source": [
        "import pandas as pd\n",
        "import os\n",
        "import numpy as np\n",
        "from google.cloud import storage\n",
        "import pandera as pa\n",
        "import glob\n",
        "import chardet"
      ],
      "metadata": {
        "id": "oKtztppmzXmX"
      },
      "execution_count": null,
      "outputs": []
    },
    {
      "cell_type": "code",
      "source": [
        "import sys\n",
        "import warnings\n",
        "if not sys.warnoptions:\n",
        "    warnings.simplefilter(\"ignore\")"
      ],
      "metadata": {
        "id": "8MW9n6H8p3KA"
      },
      "execution_count": null,
      "outputs": []
    },
    {
      "cell_type": "markdown",
      "source": [
        "Configurando Pandas"
      ],
      "metadata": {
        "id": "c0kXfdu4zeVs"
      }
    },
    {
      "cell_type": "code",
      "source": [
        "pd.set_option('display.max_columns',20)"
      ],
      "metadata": {
        "id": "Nu90za7Rzdj5"
      },
      "execution_count": null,
      "outputs": []
    },
    {
      "cell_type": "markdown",
      "source": [
        "#Conector com Google Cloud"
      ],
      "metadata": {
        "id": "4pl3djaG2-LQ"
      }
    },
    {
      "cell_type": "code",
      "source": [
        "#CONFIGURANDO DA CHAVE DE SEGURANCA (Enviada com o projeto)\n",
        "\n",
        "serviceAccount = '/content/projeto-final-384719-f1efca397470.json'\n",
        "os.environ['GOOGLE_APPLICATION_CREDENTIALS'] = serviceAccount"
      ],
      "metadata": {
        "id": "DxkPxd1qzpjA"
      },
      "execution_count": null,
      "outputs": []
    },
    {
      "cell_type": "code",
      "source": [
        "#Configurações Google Cloud Storage\n",
        "client = storage.Client()\n",
        "bucket = client.get_bucket('projeto_final_crimes')"
      ],
      "metadata": {
        "id": "qXhuIbJ_z4Sc"
      },
      "execution_count": null,
      "outputs": []
    },
    {
      "cell_type": "code",
      "source": [
        "#ROUBOS\n",
        "path_roubos_2023 = 'gs://projeto_final_crimes/brutos_roubos/roubos_2023.csv'\n",
        "path_roubos_2022 = 'gs://projeto_final_crimes/brutos_roubos/roubos_2022.csv'\n",
        "path_roubos_2021 = 'gs://projeto_final_crimes/brutos_roubos/roubos_2021.csv'\n",
        "path_roubos_2020 = 'gs://projeto_final_crimes/brutos_roubos/roubos_2020.csv'\n",
        "path_roubos_2019 = 'gs://projeto_final_crimes/brutos_roubos/roubos_2019.csv'\n",
        "path_roubos_2018 = 'gs://projeto_final_crimes/brutos_roubos/roubos_2018.csv'"
      ],
      "metadata": {
        "id": "VhsV2QmT17Hm"
      },
      "execution_count": null,
      "outputs": []
    },
    {
      "cell_type": "code",
      "source": [
        "#FURTOS\n",
        "path_furtos_2023 = 'gs://projeto_final_crimes/brutos_furtos/furtos_2023.csv'\n",
        "path_furtos_2022 = 'gs://projeto_final_crimes/brutos_furtos/furtos_2022.csv'\n",
        "path_furtos_2021 = 'gs://projeto_final_crimes/brutos_furtos/furtos_2021.csv'\n",
        "path_furtos_2020 = 'gs://projeto_final_crimes/brutos_furtos/furtos_2020.csv'\n",
        "path_furtos_2019 = 'gs://projeto_final_crimes/brutos_furtos/furtos_2019.csv'\n",
        "path_furtos_2018 = 'gs://projeto_final_crimes/brutos_furtos/furtos_2018.csv'"
      ],
      "metadata": {
        "id": "ogwVXAtk2UWR"
      },
      "execution_count": null,
      "outputs": []
    },
    {
      "cell_type": "markdown",
      "source": [
        "#Concatenando os dataframes"
      ],
      "metadata": {
        "id": "0iPOkRocNL-A"
      }
    },
    {
      "cell_type": "code",
      "source": [
        "# #ROUBOS\n",
        "\n",
        "df_roubos_2023 = pd.read_csv(path_roubos_2023,sep=',',encoding='utf-8')\n",
        "df_roubos_2022 = pd.read_csv(path_roubos_2022,sep=',',encoding='utf-8')\n",
        "df_roubos_2021 = pd.read_csv(path_roubos_2021,sep=',',encoding='utf-8')\n",
        "df_roubos_2020 = pd.read_csv(path_roubos_2020,sep=',',encoding='utf-8')\n",
        "df_roubos_2019 = pd.read_csv(path_roubos_2019,sep=',',encoding='utf-8')\n",
        "df_roubos_2018 = pd.read_csv(path_roubos_2018,sep=',',encoding='utf-8')"
      ],
      "metadata": {
        "colab": {
          "base_uri": "https://localhost:8080/"
        },
        "id": "7cC9GuV0VX8y",
        "outputId": "46dd7fcf-0cb5-4dec-8852-6aacb54b4da7"
      },
      "execution_count": null,
      "outputs": [
        {
          "output_type": "stream",
          "name": "stderr",
          "text": [
            "<ipython-input-124-13e9e0aa568b>:4: DtypeWarning: Columns (21,29,30,31,32,33,34,36,37,38,39,40,41) have mixed types. Specify dtype option on import or set low_memory=False.\n",
            "  df_roubos_2022 = pd.read_csv(path_roubos_2022,sep=',',encoding='utf-8')\n",
            "<ipython-input-124-13e9e0aa568b>:6: DtypeWarning: Columns (32,36,38,42) have mixed types. Specify dtype option on import or set low_memory=False.\n",
            "  df_roubos_2020 = pd.read_csv(path_roubos_2020,sep=',',encoding='utf-8')\n",
            "<ipython-input-124-13e9e0aa568b>:7: DtypeWarning: Columns (31,32,34,36,37,38) have mixed types. Specify dtype option on import or set low_memory=False.\n",
            "  df_roubos_2019 = pd.read_csv(path_roubos_2019,sep=',',encoding='utf-8')\n"
          ]
        }
      ]
    },
    {
      "cell_type": "code",
      "source": [
        "#FURTOS\n",
        "\n",
        "df_furtos_2023 = pd.read_csv(path_furtos_2023,sep=',',encoding='utf-8')\n",
        "df_furtos_2022 = pd.read_csv(path_furtos_2022,sep=',',encoding='utf-8')\n",
        "df_furtos_2021 = pd.read_csv(path_furtos_2021,sep=',',encoding='utf-8')\n",
        "df_furtos_2020 = pd.read_csv(path_furtos_2020,sep=',',encoding='utf-8')\n",
        "df_furtos_2019 = pd.read_csv(path_furtos_2019,sep=',',encoding='utf-8')\n",
        "df_furtos_2018 = pd.read_csv(path_furtos_2018,sep=',',encoding='utf-8')"
      ],
      "metadata": {
        "colab": {
          "base_uri": "https://localhost:8080/"
        },
        "id": "MnkUmIU9bq0U",
        "outputId": "270120fc-4376-4dd5-add9-e925bcabe091"
      },
      "execution_count": null,
      "outputs": [
        {
          "output_type": "stream",
          "name": "stderr",
          "text": [
            "<ipython-input-125-31fe70169f70>:4: DtypeWarning: Columns (21,27,31,32,36,37,38) have mixed types. Specify dtype option on import or set low_memory=False.\n",
            "  df_furtos_2022 = pd.read_csv(path_furtos_2022,sep=',',encoding='utf-8')\n",
            "<ipython-input-125-31fe70169f70>:5: DtypeWarning: Columns (29,30,31,33,34,36,37,38,39,40,41) have mixed types. Specify dtype option on import or set low_memory=False.\n",
            "  df_furtos_2021 = pd.read_csv(path_furtos_2021,sep=',',encoding='utf-8')\n",
            "<ipython-input-125-31fe70169f70>:6: DtypeWarning: Columns (29,30,31,32,33,34,36,37,39,40,41) have mixed types. Specify dtype option on import or set low_memory=False.\n",
            "  df_furtos_2020 = pd.read_csv(path_furtos_2020,sep=',',encoding='utf-8')\n",
            "<ipython-input-125-31fe70169f70>:7: DtypeWarning: Columns (31,32,34,36,37) have mixed types. Specify dtype option on import or set low_memory=False.\n",
            "  df_furtos_2019 = pd.read_csv(path_furtos_2019,sep=',',encoding='utf-8')\n",
            "<ipython-input-125-31fe70169f70>:8: DtypeWarning: Columns (29,30,31,32,33,34,36,37,38,39,40,41) have mixed types. Specify dtype option on import or set low_memory=False.\n",
            "  df_furtos_2018 = pd.read_csv(path_furtos_2018,sep=',',encoding='utf-8')\n"
          ]
        }
      ]
    },
    {
      "cell_type": "code",
      "source": [
        "df_furtos = pd.concat([df_furtos_2023,df_furtos_2022,df_furtos_2021,df_furtos_2020,df_furtos_2019,df_furtos_2018], axis=0).reset_index(drop=True)"
      ],
      "metadata": {
        "id": "Z3gBmIFzRG0y"
      },
      "execution_count": null,
      "outputs": []
    },
    {
      "cell_type": "code",
      "source": [
        "df_roubos = pd.concat([df_roubos_2023,df_roubos_2022,df_roubos_2021,df_roubos_2020,df_roubos_2019,df_roubos_2018], axis=0).reset_index(drop=True)"
      ],
      "metadata": {
        "id": "CIhoVakAcrFo"
      },
      "execution_count": null,
      "outputs": []
    },
    {
      "cell_type": "markdown",
      "source": [
        "#Tratamento Roubos"
      ],
      "metadata": {
        "id": "2Io4qjjoc70H"
      }
    },
    {
      "cell_type": "markdown",
      "source": [
        "##Dropando colunas"
      ],
      "metadata": {
        "id": "gzgMdH0OsOKi"
      }
    },
    {
      "cell_type": "code",
      "source": [
        "df_roubos.dtypes"
      ],
      "metadata": {
        "colab": {
          "base_uri": "https://localhost:8080/"
        },
        "id": "bM-AdNuzc5rH",
        "outputId": "21359da5-d750-4572-d6f8-790e718ab582"
      },
      "execution_count": null,
      "outputs": [
        {
          "output_type": "execute_result",
          "data": {
            "text/plain": [
              "ANO_BO                        int64\n",
              "NUM_BO                        int64\n",
              "NUMERO_BOLETIM               object\n",
              "BO_INICIADO                  object\n",
              "BO_EMITIDO                   object\n",
              "DATAOCORRENCIA               object\n",
              "HORAOCORRENCIA               object\n",
              "PERIDOOCORRENCIA             object\n",
              "DATACOMUNICACAO              object\n",
              "DATAELABORACAO               object\n",
              "BO_AUTORIA                   object\n",
              "FLAGRANTE                    object\n",
              "NUMERO_BOLETIM_PRINCIPAL     object\n",
              "LOGRADOURO                   object\n",
              "NUMERO                      float64\n",
              "BAIRRO                       object\n",
              "CIDADE                       object\n",
              "UF                           object\n",
              "LATITUDE                     object\n",
              "LONGITUDE                    object\n",
              "DESCRICAOLOCAL               object\n",
              "EXAME                        object\n",
              "SOLUCAO                      object\n",
              "DELEGACIA_NOME               object\n",
              "DELEGACIA_CIRCUNSCRICAO      object\n",
              "ESPECIE                      object\n",
              "RUBRICA                      object\n",
              "DESDOBRAMENTO                object\n",
              "STATUS                       object\n",
              "TIPOPESSOA                   object\n",
              "VITIMAFATAL                  object\n",
              "NATURALIDADE                 object\n",
              "NACIONALIDADE                object\n",
              "SEXO                         object\n",
              "DATANASCIMENTO               object\n",
              "IDADE                        object\n",
              "ESTADOCIVIL                  object\n",
              "PROFISSAO                    object\n",
              "GRAUINSTRUCAO                object\n",
              "CORCUTIS                     object\n",
              "NATUREZAVINCULADA            object\n",
              "TIPOVINCULO                  object\n",
              "RELACIONAMENTO               object\n",
              "PARENTESCO                   object\n",
              "PLACA_VEICULO                object\n",
              "UF_VEICULO                   object\n",
              "CIDADE_VEICULO               object\n",
              "DESCR_COR_VEICULO            object\n",
              "DESCR_MARCA_VEICULO          object\n",
              "ANO_FABRICACAO               object\n",
              "ANO_MODELO                   object\n",
              "DESCR_TIPO_VEICULO           object\n",
              "QUANT_CELULAR                object\n",
              "MARCA_CELULAR                object\n",
              "Unnamed: 54                  object\n",
              "Unnamed: 55                  object\n",
              "dtype: object"
            ]
          },
          "metadata": {},
          "execution_count": 128
        }
      ]
    },
    {
      "cell_type": "code",
      "source": [
        "df_roubos['Unnamed: 55'].tail(5)"
      ],
      "metadata": {
        "colab": {
          "base_uri": "https://localhost:8080/"
        },
        "id": "1PMICjWOdBYx",
        "outputId": "e8e69e73-0920-4b5e-c158-dc4be2bd7831"
      },
      "execution_count": null,
      "outputs": [
        {
          "output_type": "execute_result",
          "data": {
            "text/plain": [
              "236787    NaN\n",
              "236788    NaN\n",
              "236789    NaN\n",
              "236790    NaN\n",
              "236791    NaN\n",
              "Name: Unnamed: 55, dtype: object"
            ]
          },
          "metadata": {},
          "execution_count": 129
        }
      ]
    },
    {
      "cell_type": "code",
      "source": [
        "df_roubos.head(10)"
      ],
      "metadata": {
        "colab": {
          "base_uri": "https://localhost:8080/",
          "height": 647
        },
        "id": "GvNjQ7tmdTuG",
        "outputId": "950712ac-6908-4420-c5ce-c2893484d847"
      },
      "execution_count": null,
      "outputs": [
        {
          "output_type": "execute_result",
          "data": {
            "text/plain": [
              "   ANO_BO  NUM_BO NUMERO_BOLETIM          BO_INICIADO           BO_EMITIDO  \\\n",
              "0    2023    8696      8696/2023  01/01/2023 01:23:54  01/01/2023 01:23:58   \n",
              "1    2023      70        70/2023  01/01/2023 01:31:03  01/01/2023 01:31:03   \n",
              "2    2023      34        34/2023  01/01/2023 02:41:56  01/01/2023 02:41:56   \n",
              "3    2023       3         3/2023  01/01/2023 02:57:28  01/01/2023 02:57:28   \n",
              "4    2023       3         3/2023  01/01/2023 02:57:28  01/01/2023 02:57:28   \n",
              "5    2023       3         3/2023  01/01/2023 02:57:28  01/01/2023 02:57:28   \n",
              "6    2023       3         3/2023  01/01/2023 02:57:28  01/01/2023 02:57:28   \n",
              "7    2023    8697      8697/2023  01/01/2023 03:30:10  01/01/2023 03:30:10   \n",
              "8    2023    8697      8697/2023  01/01/2023 03:30:10  01/01/2023 03:30:10   \n",
              "9    2023    8697      8697/2023  01/01/2023 03:30:10  01/01/2023 03:30:10   \n",
              "\n",
              "  DATAOCORRENCIA HORAOCORRENCIA PERIDOOCORRENCIA DATACOMUNICACAO  \\\n",
              "0     31/12/2022          22:20          A NOITE      31/12/2022   \n",
              "1     31/12/2022          15:54          A TARDE      31/12/2022   \n",
              "2     31/12/2022          23:50          A NOITE      01/01/2023   \n",
              "3     01/11/2022          22:50          A NOITE      02/11/2022   \n",
              "4     01/11/2022          22:50          A NOITE      02/11/2022   \n",
              "5     01/11/2022          22:50          A NOITE      02/11/2022   \n",
              "6     01/11/2022          22:50          A NOITE      02/11/2022   \n",
              "7     31/12/2022          22:20          A NOITE      31/12/2022   \n",
              "8     31/12/2022          22:20          A NOITE      31/12/2022   \n",
              "9     31/12/2022          22:20          A NOITE      31/12/2022   \n",
              "\n",
              "        DATAELABORACAO  ... CIDADE_VEICULO DESCR_COR_VEICULO  \\\n",
              "0  01/01/2023 01:23:54  ...        FXZ3H05                SP   \n",
              "1  01/01/2023 01:31:03  ...        FKV8033                SP   \n",
              "2  01/01/2023 02:41:56  ...        FEY4426                SP   \n",
              "3  01/01/2023 02:57:28  ...            NaN               NaN   \n",
              "4  01/01/2023 02:57:28  ...        QJW6D05                SP   \n",
              "5  01/01/2023 02:57:28  ...            NaN               NaN   \n",
              "6  01/01/2023 02:57:28  ...        QJW6D05                SP   \n",
              "7  01/01/2023 03:30:10  ...            NaN               NaN   \n",
              "8  01/01/2023 03:30:10  ...        FXZ3H05                SP   \n",
              "9  01/01/2023 03:30:10  ...            NaN               NaN   \n",
              "\n",
              "  DESCR_MARCA_VEICULO ANO_FABRICACAO                ANO_MODELO  \\\n",
              "0             S.PAULO          Preta         HONDA/FIT EXL CVT   \n",
              "1             S.PAULO          Preta  I/HONDA CR-V EXL FLEX4WD   \n",
              "2             S.PAULO          Verde   FIAT/DOBLO ADV 1.8 FLEX   \n",
              "3                 NaN            NaN                       NaN   \n",
              "4      EMBU DAS ARTES          Preta   KAWASAKI/VERSYS-X 300 A   \n",
              "5                 NaN            NaN                       NaN   \n",
              "6      EMBU DAS ARTES          Preta   KAWASAKI/VERSYS-X 300 A   \n",
              "7                 NaN            NaN                       NaN   \n",
              "8             S.PAULO          Preta         HONDA/FIT EXL CVT   \n",
              "9                 NaN            NaN                       NaN   \n",
              "\n",
              "  DESCR_TIPO_VEICULO QUANT_CELULAR MARCA_CELULAR Unnamed: 54 Unnamed: 55  \n",
              "0               2021           NaN     AUTOMOVEL         NaN         NaN  \n",
              "1               2013        2013.0     CAMIONETA         NaN         NaN  \n",
              "2               2012        2013.0     AUTOMOVEL         NaN         NaN  \n",
              "3                  0           0.0           NaN         NaN         NaN  \n",
              "4               2019        2020.0     MOTOCICLO         NaN         NaN  \n",
              "5                  0           0.0           NaN         NaN         NaN  \n",
              "6               2019        2020.0     MOTOCICLO         NaN         NaN  \n",
              "7                  0           0.0           NaN         NaN         NaN  \n",
              "8               2021           NaN     AUTOMOVEL         NaN         NaN  \n",
              "9                  0           0.0           NaN         NaN         NaN  \n",
              "\n",
              "[10 rows x 56 columns]"
            ],
            "text/html": [
              "\n",
              "  <div id=\"df-a8e33616-7f9a-4551-bacb-fec9fff5df5d\">\n",
              "    <div class=\"colab-df-container\">\n",
              "      <div>\n",
              "<style scoped>\n",
              "    .dataframe tbody tr th:only-of-type {\n",
              "        vertical-align: middle;\n",
              "    }\n",
              "\n",
              "    .dataframe tbody tr th {\n",
              "        vertical-align: top;\n",
              "    }\n",
              "\n",
              "    .dataframe thead th {\n",
              "        text-align: right;\n",
              "    }\n",
              "</style>\n",
              "<table border=\"1\" class=\"dataframe\">\n",
              "  <thead>\n",
              "    <tr style=\"text-align: right;\">\n",
              "      <th></th>\n",
              "      <th>ANO_BO</th>\n",
              "      <th>NUM_BO</th>\n",
              "      <th>NUMERO_BOLETIM</th>\n",
              "      <th>BO_INICIADO</th>\n",
              "      <th>BO_EMITIDO</th>\n",
              "      <th>DATAOCORRENCIA</th>\n",
              "      <th>HORAOCORRENCIA</th>\n",
              "      <th>PERIDOOCORRENCIA</th>\n",
              "      <th>DATACOMUNICACAO</th>\n",
              "      <th>DATAELABORACAO</th>\n",
              "      <th>...</th>\n",
              "      <th>CIDADE_VEICULO</th>\n",
              "      <th>DESCR_COR_VEICULO</th>\n",
              "      <th>DESCR_MARCA_VEICULO</th>\n",
              "      <th>ANO_FABRICACAO</th>\n",
              "      <th>ANO_MODELO</th>\n",
              "      <th>DESCR_TIPO_VEICULO</th>\n",
              "      <th>QUANT_CELULAR</th>\n",
              "      <th>MARCA_CELULAR</th>\n",
              "      <th>Unnamed: 54</th>\n",
              "      <th>Unnamed: 55</th>\n",
              "    </tr>\n",
              "  </thead>\n",
              "  <tbody>\n",
              "    <tr>\n",
              "      <th>0</th>\n",
              "      <td>2023</td>\n",
              "      <td>8696</td>\n",
              "      <td>8696/2023</td>\n",
              "      <td>01/01/2023 01:23:54</td>\n",
              "      <td>01/01/2023 01:23:58</td>\n",
              "      <td>31/12/2022</td>\n",
              "      <td>22:20</td>\n",
              "      <td>A NOITE</td>\n",
              "      <td>31/12/2022</td>\n",
              "      <td>01/01/2023 01:23:54</td>\n",
              "      <td>...</td>\n",
              "      <td>FXZ3H05</td>\n",
              "      <td>SP</td>\n",
              "      <td>S.PAULO</td>\n",
              "      <td>Preta</td>\n",
              "      <td>HONDA/FIT EXL CVT</td>\n",
              "      <td>2021</td>\n",
              "      <td>NaN</td>\n",
              "      <td>AUTOMOVEL</td>\n",
              "      <td>NaN</td>\n",
              "      <td>NaN</td>\n",
              "    </tr>\n",
              "    <tr>\n",
              "      <th>1</th>\n",
              "      <td>2023</td>\n",
              "      <td>70</td>\n",
              "      <td>70/2023</td>\n",
              "      <td>01/01/2023 01:31:03</td>\n",
              "      <td>01/01/2023 01:31:03</td>\n",
              "      <td>31/12/2022</td>\n",
              "      <td>15:54</td>\n",
              "      <td>A TARDE</td>\n",
              "      <td>31/12/2022</td>\n",
              "      <td>01/01/2023 01:31:03</td>\n",
              "      <td>...</td>\n",
              "      <td>FKV8033</td>\n",
              "      <td>SP</td>\n",
              "      <td>S.PAULO</td>\n",
              "      <td>Preta</td>\n",
              "      <td>I/HONDA CR-V EXL FLEX4WD</td>\n",
              "      <td>2013</td>\n",
              "      <td>2013.0</td>\n",
              "      <td>CAMIONETA</td>\n",
              "      <td>NaN</td>\n",
              "      <td>NaN</td>\n",
              "    </tr>\n",
              "    <tr>\n",
              "      <th>2</th>\n",
              "      <td>2023</td>\n",
              "      <td>34</td>\n",
              "      <td>34/2023</td>\n",
              "      <td>01/01/2023 02:41:56</td>\n",
              "      <td>01/01/2023 02:41:56</td>\n",
              "      <td>31/12/2022</td>\n",
              "      <td>23:50</td>\n",
              "      <td>A NOITE</td>\n",
              "      <td>01/01/2023</td>\n",
              "      <td>01/01/2023 02:41:56</td>\n",
              "      <td>...</td>\n",
              "      <td>FEY4426</td>\n",
              "      <td>SP</td>\n",
              "      <td>S.PAULO</td>\n",
              "      <td>Verde</td>\n",
              "      <td>FIAT/DOBLO ADV 1.8 FLEX</td>\n",
              "      <td>2012</td>\n",
              "      <td>2013.0</td>\n",
              "      <td>AUTOMOVEL</td>\n",
              "      <td>NaN</td>\n",
              "      <td>NaN</td>\n",
              "    </tr>\n",
              "    <tr>\n",
              "      <th>3</th>\n",
              "      <td>2023</td>\n",
              "      <td>3</td>\n",
              "      <td>3/2023</td>\n",
              "      <td>01/01/2023 02:57:28</td>\n",
              "      <td>01/01/2023 02:57:28</td>\n",
              "      <td>01/11/2022</td>\n",
              "      <td>22:50</td>\n",
              "      <td>A NOITE</td>\n",
              "      <td>02/11/2022</td>\n",
              "      <td>01/01/2023 02:57:28</td>\n",
              "      <td>...</td>\n",
              "      <td>NaN</td>\n",
              "      <td>NaN</td>\n",
              "      <td>NaN</td>\n",
              "      <td>NaN</td>\n",
              "      <td>NaN</td>\n",
              "      <td>0</td>\n",
              "      <td>0.0</td>\n",
              "      <td>NaN</td>\n",
              "      <td>NaN</td>\n",
              "      <td>NaN</td>\n",
              "    </tr>\n",
              "    <tr>\n",
              "      <th>4</th>\n",
              "      <td>2023</td>\n",
              "      <td>3</td>\n",
              "      <td>3/2023</td>\n",
              "      <td>01/01/2023 02:57:28</td>\n",
              "      <td>01/01/2023 02:57:28</td>\n",
              "      <td>01/11/2022</td>\n",
              "      <td>22:50</td>\n",
              "      <td>A NOITE</td>\n",
              "      <td>02/11/2022</td>\n",
              "      <td>01/01/2023 02:57:28</td>\n",
              "      <td>...</td>\n",
              "      <td>QJW6D05</td>\n",
              "      <td>SP</td>\n",
              "      <td>EMBU DAS ARTES</td>\n",
              "      <td>Preta</td>\n",
              "      <td>KAWASAKI/VERSYS-X 300 A</td>\n",
              "      <td>2019</td>\n",
              "      <td>2020.0</td>\n",
              "      <td>MOTOCICLO</td>\n",
              "      <td>NaN</td>\n",
              "      <td>NaN</td>\n",
              "    </tr>\n",
              "    <tr>\n",
              "      <th>5</th>\n",
              "      <td>2023</td>\n",
              "      <td>3</td>\n",
              "      <td>3/2023</td>\n",
              "      <td>01/01/2023 02:57:28</td>\n",
              "      <td>01/01/2023 02:57:28</td>\n",
              "      <td>01/11/2022</td>\n",
              "      <td>22:50</td>\n",
              "      <td>A NOITE</td>\n",
              "      <td>02/11/2022</td>\n",
              "      <td>01/01/2023 02:57:28</td>\n",
              "      <td>...</td>\n",
              "      <td>NaN</td>\n",
              "      <td>NaN</td>\n",
              "      <td>NaN</td>\n",
              "      <td>NaN</td>\n",
              "      <td>NaN</td>\n",
              "      <td>0</td>\n",
              "      <td>0.0</td>\n",
              "      <td>NaN</td>\n",
              "      <td>NaN</td>\n",
              "      <td>NaN</td>\n",
              "    </tr>\n",
              "    <tr>\n",
              "      <th>6</th>\n",
              "      <td>2023</td>\n",
              "      <td>3</td>\n",
              "      <td>3/2023</td>\n",
              "      <td>01/01/2023 02:57:28</td>\n",
              "      <td>01/01/2023 02:57:28</td>\n",
              "      <td>01/11/2022</td>\n",
              "      <td>22:50</td>\n",
              "      <td>A NOITE</td>\n",
              "      <td>02/11/2022</td>\n",
              "      <td>01/01/2023 02:57:28</td>\n",
              "      <td>...</td>\n",
              "      <td>QJW6D05</td>\n",
              "      <td>SP</td>\n",
              "      <td>EMBU DAS ARTES</td>\n",
              "      <td>Preta</td>\n",
              "      <td>KAWASAKI/VERSYS-X 300 A</td>\n",
              "      <td>2019</td>\n",
              "      <td>2020.0</td>\n",
              "      <td>MOTOCICLO</td>\n",
              "      <td>NaN</td>\n",
              "      <td>NaN</td>\n",
              "    </tr>\n",
              "    <tr>\n",
              "      <th>7</th>\n",
              "      <td>2023</td>\n",
              "      <td>8697</td>\n",
              "      <td>8697/2023</td>\n",
              "      <td>01/01/2023 03:30:10</td>\n",
              "      <td>01/01/2023 03:30:10</td>\n",
              "      <td>31/12/2022</td>\n",
              "      <td>22:20</td>\n",
              "      <td>A NOITE</td>\n",
              "      <td>31/12/2022</td>\n",
              "      <td>01/01/2023 03:30:10</td>\n",
              "      <td>...</td>\n",
              "      <td>NaN</td>\n",
              "      <td>NaN</td>\n",
              "      <td>NaN</td>\n",
              "      <td>NaN</td>\n",
              "      <td>NaN</td>\n",
              "      <td>0</td>\n",
              "      <td>0.0</td>\n",
              "      <td>NaN</td>\n",
              "      <td>NaN</td>\n",
              "      <td>NaN</td>\n",
              "    </tr>\n",
              "    <tr>\n",
              "      <th>8</th>\n",
              "      <td>2023</td>\n",
              "      <td>8697</td>\n",
              "      <td>8697/2023</td>\n",
              "      <td>01/01/2023 03:30:10</td>\n",
              "      <td>01/01/2023 03:30:10</td>\n",
              "      <td>31/12/2022</td>\n",
              "      <td>22:20</td>\n",
              "      <td>A NOITE</td>\n",
              "      <td>31/12/2022</td>\n",
              "      <td>01/01/2023 03:30:10</td>\n",
              "      <td>...</td>\n",
              "      <td>FXZ3H05</td>\n",
              "      <td>SP</td>\n",
              "      <td>S.PAULO</td>\n",
              "      <td>Preta</td>\n",
              "      <td>HONDA/FIT EXL CVT</td>\n",
              "      <td>2021</td>\n",
              "      <td>NaN</td>\n",
              "      <td>AUTOMOVEL</td>\n",
              "      <td>NaN</td>\n",
              "      <td>NaN</td>\n",
              "    </tr>\n",
              "    <tr>\n",
              "      <th>9</th>\n",
              "      <td>2023</td>\n",
              "      <td>8697</td>\n",
              "      <td>8697/2023</td>\n",
              "      <td>01/01/2023 03:30:10</td>\n",
              "      <td>01/01/2023 03:30:10</td>\n",
              "      <td>31/12/2022</td>\n",
              "      <td>22:20</td>\n",
              "      <td>A NOITE</td>\n",
              "      <td>31/12/2022</td>\n",
              "      <td>01/01/2023 03:30:10</td>\n",
              "      <td>...</td>\n",
              "      <td>NaN</td>\n",
              "      <td>NaN</td>\n",
              "      <td>NaN</td>\n",
              "      <td>NaN</td>\n",
              "      <td>NaN</td>\n",
              "      <td>0</td>\n",
              "      <td>0.0</td>\n",
              "      <td>NaN</td>\n",
              "      <td>NaN</td>\n",
              "      <td>NaN</td>\n",
              "    </tr>\n",
              "  </tbody>\n",
              "</table>\n",
              "<p>10 rows × 56 columns</p>\n",
              "</div>\n",
              "      <button class=\"colab-df-convert\" onclick=\"convertToInteractive('df-a8e33616-7f9a-4551-bacb-fec9fff5df5d')\"\n",
              "              title=\"Convert this dataframe to an interactive table.\"\n",
              "              style=\"display:none;\">\n",
              "        \n",
              "  <svg xmlns=\"http://www.w3.org/2000/svg\" height=\"24px\"viewBox=\"0 0 24 24\"\n",
              "       width=\"24px\">\n",
              "    <path d=\"M0 0h24v24H0V0z\" fill=\"none\"/>\n",
              "    <path d=\"M18.56 5.44l.94 2.06.94-2.06 2.06-.94-2.06-.94-.94-2.06-.94 2.06-2.06.94zm-11 1L8.5 8.5l.94-2.06 2.06-.94-2.06-.94L8.5 2.5l-.94 2.06-2.06.94zm10 10l.94 2.06.94-2.06 2.06-.94-2.06-.94-.94-2.06-.94 2.06-2.06.94z\"/><path d=\"M17.41 7.96l-1.37-1.37c-.4-.4-.92-.59-1.43-.59-.52 0-1.04.2-1.43.59L10.3 9.45l-7.72 7.72c-.78.78-.78 2.05 0 2.83L4 21.41c.39.39.9.59 1.41.59.51 0 1.02-.2 1.41-.59l7.78-7.78 2.81-2.81c.8-.78.8-2.07 0-2.86zM5.41 20L4 18.59l7.72-7.72 1.47 1.35L5.41 20z\"/>\n",
              "  </svg>\n",
              "      </button>\n",
              "      \n",
              "  <style>\n",
              "    .colab-df-container {\n",
              "      display:flex;\n",
              "      flex-wrap:wrap;\n",
              "      gap: 12px;\n",
              "    }\n",
              "\n",
              "    .colab-df-convert {\n",
              "      background-color: #E8F0FE;\n",
              "      border: none;\n",
              "      border-radius: 50%;\n",
              "      cursor: pointer;\n",
              "      display: none;\n",
              "      fill: #1967D2;\n",
              "      height: 32px;\n",
              "      padding: 0 0 0 0;\n",
              "      width: 32px;\n",
              "    }\n",
              "\n",
              "    .colab-df-convert:hover {\n",
              "      background-color: #E2EBFA;\n",
              "      box-shadow: 0px 1px 2px rgba(60, 64, 67, 0.3), 0px 1px 3px 1px rgba(60, 64, 67, 0.15);\n",
              "      fill: #174EA6;\n",
              "    }\n",
              "\n",
              "    [theme=dark] .colab-df-convert {\n",
              "      background-color: #3B4455;\n",
              "      fill: #D2E3FC;\n",
              "    }\n",
              "\n",
              "    [theme=dark] .colab-df-convert:hover {\n",
              "      background-color: #434B5C;\n",
              "      box-shadow: 0px 1px 3px 1px rgba(0, 0, 0, 0.15);\n",
              "      filter: drop-shadow(0px 1px 2px rgba(0, 0, 0, 0.3));\n",
              "      fill: #FFFFFF;\n",
              "    }\n",
              "  </style>\n",
              "\n",
              "      <script>\n",
              "        const buttonEl =\n",
              "          document.querySelector('#df-a8e33616-7f9a-4551-bacb-fec9fff5df5d button.colab-df-convert');\n",
              "        buttonEl.style.display =\n",
              "          google.colab.kernel.accessAllowed ? 'block' : 'none';\n",
              "\n",
              "        async function convertToInteractive(key) {\n",
              "          const element = document.querySelector('#df-a8e33616-7f9a-4551-bacb-fec9fff5df5d');\n",
              "          const dataTable =\n",
              "            await google.colab.kernel.invokeFunction('convertToInteractive',\n",
              "                                                     [key], {});\n",
              "          if (!dataTable) return;\n",
              "\n",
              "          const docLinkHtml = 'Like what you see? Visit the ' +\n",
              "            '<a target=\"_blank\" href=https://colab.research.google.com/notebooks/data_table.ipynb>data table notebook</a>'\n",
              "            + ' to learn more about interactive tables.';\n",
              "          element.innerHTML = '';\n",
              "          dataTable['output_type'] = 'display_data';\n",
              "          await google.colab.output.renderOutput(dataTable, element);\n",
              "          const docLink = document.createElement('div');\n",
              "          docLink.innerHTML = docLinkHtml;\n",
              "          element.appendChild(docLink);\n",
              "        }\n",
              "      </script>\n",
              "    </div>\n",
              "  </div>\n",
              "  "
            ]
          },
          "metadata": {},
          "execution_count": 130
        }
      ]
    },
    {
      "cell_type": "code",
      "source": [
        "df_roubos.tail(10)"
      ],
      "metadata": {
        "colab": {
          "base_uri": "https://localhost:8080/",
          "height": 647
        },
        "id": "VHUgPrGid_vG",
        "outputId": "93df14d4-7540-46fb-c5bb-f86aab1e4ef4"
      },
      "execution_count": null,
      "outputs": [
        {
          "output_type": "execute_result",
          "data": {
            "text/plain": [
              "        ANO_BO   NUM_BO NUMERO_BOLETIM       BO_INICIADO        BO_EMITIDO  \\\n",
              "236782    2018     4914      4914/2018  31/12/2018 22:29  31/12/2018 22:56   \n",
              "236783    2018    11065     11065/2018  31/12/2018 23:02  31/12/2018 23:16   \n",
              "236784    2018  1650501   1650501/2018  31/12/2018 23:40  31/12/2018 23:40   \n",
              "236785    2018  1650501   1650501/2018  31/12/2018 23:40  31/12/2018 23:40   \n",
              "236786    2018  1650508   1650508/2018  31/12/2018 23:45  31/12/2018 23:45   \n",
              "236787    2018    13194     13194/2018  31/12/2018 23:41  31/12/2018 23:49   \n",
              "236788    2018  1650499   1650499/2018  31/12/2018 23:50  31/12/2018 23:50   \n",
              "236789    2018  1650499   1650499/2018  31/12/2018 23:50  31/12/2018 23:50   \n",
              "236790    2018     9327      9327/2018  31/12/2018 23:30  31/12/2018 23:51   \n",
              "236791    2018     5766      5766/2018  31/12/2018 23:36  31/12/2018 23:59   \n",
              "\n",
              "       DATAOCORRENCIA HORAOCORRENCIA PERIDOOCORRENCIA DATACOMUNICACAO  \\\n",
              "236782     31/12/2018          14:00          A TARDE      31/12/2018   \n",
              "236783     31/12/2018          21:20          A NOITE      31/12/2018   \n",
              "236784     30/12/2018          15:40          A TARDE      31/12/2018   \n",
              "236785     30/12/2018          15:40          A TARDE      31/12/2018   \n",
              "236786     31/12/2018          17:40          A TARDE      31/12/2018   \n",
              "236787     31/12/2018          23:30          A NOITE      31/12/2018   \n",
              "236788     31/12/2018          21:40          A NOITE      31/12/2018   \n",
              "236789     31/12/2018          21:40          A NOITE      31/12/2018   \n",
              "236790     31/12/2018          22:00          A NOITE      31/12/2018   \n",
              "236791     31/12/2018          23:30          A NOITE      31/12/2018   \n",
              "\n",
              "          DATAELABORACAO  ...    CIDADE_VEICULO DESCR_COR_VEICULO  \\\n",
              "236782  31/12/2018 22:29  ...         SAO PAULO             Cinza   \n",
              "236783  31/12/2018 23:02  ...         SAO PAULO          Vermelho   \n",
              "236784  31/12/2018 23:40  ...               NaN             Preta   \n",
              "236785  31/12/2018 23:40  ...  FRANCISCO MORATO            Branco   \n",
              "236786  31/12/2018 23:45  ...         SÃO PAULO             Prata   \n",
              "236787  31/12/2018 23:41  ...         SAO PAULO             Preta   \n",
              "236788  31/12/2018 23:50  ...               NaN              Azul   \n",
              "236789  31/12/2018 23:50  ...         SÃO PAULO             Prata   \n",
              "236790  31/12/2018 23:30  ...         SAO PAULO             Prata   \n",
              "236791  31/12/2018 23:36  ...         SAO PAULO             Cinza   \n",
              "\n",
              "             DESCR_MARCA_VEICULO ANO_FABRICACAO  ANO_MODELO  \\\n",
              "236782  CHEVROLET/COBALT 1.8 LTZ         2015.0      2016.0   \n",
              "236783       FIAT/ARGO DRIVE 1.3         2018.0      2018.0   \n",
              "236784            H/HONDA CG 125            NaN         NaN   \n",
              "236785                       NaN         2018.0         NaN   \n",
              "236786        I/PEUGEOT 207HB XR         2011.0         NaN   \n",
              "236787        YAMAHA/FAZER YS250         2006.0      2006.0   \n",
              "236788                       NaN            NaN         NaN   \n",
              "236789    JEEP/RENEGADE SPORT MT         2017.0         NaN   \n",
              "236790          I/FORD FIESTA SE         2011.0      2012.0   \n",
              "236791     HONDA/CG 150 TITAN KS         2008.0      2008.0   \n",
              "\n",
              "       DESCR_TIPO_VEICULO QUANT_CELULAR MARCA_CELULAR Unnamed: 54 Unnamed: 55  \n",
              "236782          AUTOMOVEL           NaN           NaN         NaN         NaN  \n",
              "236783          AUTOMOVEL           NaN           NaN         NaN         NaN  \n",
              "236784          MOTOCICLO           NaN           NaN         NaN         NaN  \n",
              "236785          MOTOCICLO           NaN           NaN         NaN         NaN  \n",
              "236786          AUTOMOVEL           NaN           NaN         NaN         NaN  \n",
              "236787          MOTOCICLO           NaN           NaN         NaN         NaN  \n",
              "236788          MOTOCICLO           NaN           NaN         NaN         NaN  \n",
              "236789          AUTOMOVEL           NaN           NaN         NaN         NaN  \n",
              "236790          AUTOMOVEL           NaN           NaN         NaN         NaN  \n",
              "236791          MOTOCICLO           NaN           NaN         NaN         NaN  \n",
              "\n",
              "[10 rows x 56 columns]"
            ],
            "text/html": [
              "\n",
              "  <div id=\"df-d8a554b8-db95-420e-95d5-755a66d4a3cb\">\n",
              "    <div class=\"colab-df-container\">\n",
              "      <div>\n",
              "<style scoped>\n",
              "    .dataframe tbody tr th:only-of-type {\n",
              "        vertical-align: middle;\n",
              "    }\n",
              "\n",
              "    .dataframe tbody tr th {\n",
              "        vertical-align: top;\n",
              "    }\n",
              "\n",
              "    .dataframe thead th {\n",
              "        text-align: right;\n",
              "    }\n",
              "</style>\n",
              "<table border=\"1\" class=\"dataframe\">\n",
              "  <thead>\n",
              "    <tr style=\"text-align: right;\">\n",
              "      <th></th>\n",
              "      <th>ANO_BO</th>\n",
              "      <th>NUM_BO</th>\n",
              "      <th>NUMERO_BOLETIM</th>\n",
              "      <th>BO_INICIADO</th>\n",
              "      <th>BO_EMITIDO</th>\n",
              "      <th>DATAOCORRENCIA</th>\n",
              "      <th>HORAOCORRENCIA</th>\n",
              "      <th>PERIDOOCORRENCIA</th>\n",
              "      <th>DATACOMUNICACAO</th>\n",
              "      <th>DATAELABORACAO</th>\n",
              "      <th>...</th>\n",
              "      <th>CIDADE_VEICULO</th>\n",
              "      <th>DESCR_COR_VEICULO</th>\n",
              "      <th>DESCR_MARCA_VEICULO</th>\n",
              "      <th>ANO_FABRICACAO</th>\n",
              "      <th>ANO_MODELO</th>\n",
              "      <th>DESCR_TIPO_VEICULO</th>\n",
              "      <th>QUANT_CELULAR</th>\n",
              "      <th>MARCA_CELULAR</th>\n",
              "      <th>Unnamed: 54</th>\n",
              "      <th>Unnamed: 55</th>\n",
              "    </tr>\n",
              "  </thead>\n",
              "  <tbody>\n",
              "    <tr>\n",
              "      <th>236782</th>\n",
              "      <td>2018</td>\n",
              "      <td>4914</td>\n",
              "      <td>4914/2018</td>\n",
              "      <td>31/12/2018 22:29</td>\n",
              "      <td>31/12/2018 22:56</td>\n",
              "      <td>31/12/2018</td>\n",
              "      <td>14:00</td>\n",
              "      <td>A TARDE</td>\n",
              "      <td>31/12/2018</td>\n",
              "      <td>31/12/2018 22:29</td>\n",
              "      <td>...</td>\n",
              "      <td>SAO PAULO</td>\n",
              "      <td>Cinza</td>\n",
              "      <td>CHEVROLET/COBALT 1.8 LTZ</td>\n",
              "      <td>2015.0</td>\n",
              "      <td>2016.0</td>\n",
              "      <td>AUTOMOVEL</td>\n",
              "      <td>NaN</td>\n",
              "      <td>NaN</td>\n",
              "      <td>NaN</td>\n",
              "      <td>NaN</td>\n",
              "    </tr>\n",
              "    <tr>\n",
              "      <th>236783</th>\n",
              "      <td>2018</td>\n",
              "      <td>11065</td>\n",
              "      <td>11065/2018</td>\n",
              "      <td>31/12/2018 23:02</td>\n",
              "      <td>31/12/2018 23:16</td>\n",
              "      <td>31/12/2018</td>\n",
              "      <td>21:20</td>\n",
              "      <td>A NOITE</td>\n",
              "      <td>31/12/2018</td>\n",
              "      <td>31/12/2018 23:02</td>\n",
              "      <td>...</td>\n",
              "      <td>SAO PAULO</td>\n",
              "      <td>Vermelho</td>\n",
              "      <td>FIAT/ARGO DRIVE 1.3</td>\n",
              "      <td>2018.0</td>\n",
              "      <td>2018.0</td>\n",
              "      <td>AUTOMOVEL</td>\n",
              "      <td>NaN</td>\n",
              "      <td>NaN</td>\n",
              "      <td>NaN</td>\n",
              "      <td>NaN</td>\n",
              "    </tr>\n",
              "    <tr>\n",
              "      <th>236784</th>\n",
              "      <td>2018</td>\n",
              "      <td>1650501</td>\n",
              "      <td>1650501/2018</td>\n",
              "      <td>31/12/2018 23:40</td>\n",
              "      <td>31/12/2018 23:40</td>\n",
              "      <td>30/12/2018</td>\n",
              "      <td>15:40</td>\n",
              "      <td>A TARDE</td>\n",
              "      <td>31/12/2018</td>\n",
              "      <td>31/12/2018 23:40</td>\n",
              "      <td>...</td>\n",
              "      <td>NaN</td>\n",
              "      <td>Preta</td>\n",
              "      <td>H/HONDA CG 125</td>\n",
              "      <td>NaN</td>\n",
              "      <td>NaN</td>\n",
              "      <td>MOTOCICLO</td>\n",
              "      <td>NaN</td>\n",
              "      <td>NaN</td>\n",
              "      <td>NaN</td>\n",
              "      <td>NaN</td>\n",
              "    </tr>\n",
              "    <tr>\n",
              "      <th>236785</th>\n",
              "      <td>2018</td>\n",
              "      <td>1650501</td>\n",
              "      <td>1650501/2018</td>\n",
              "      <td>31/12/2018 23:40</td>\n",
              "      <td>31/12/2018 23:40</td>\n",
              "      <td>30/12/2018</td>\n",
              "      <td>15:40</td>\n",
              "      <td>A TARDE</td>\n",
              "      <td>31/12/2018</td>\n",
              "      <td>31/12/2018 23:40</td>\n",
              "      <td>...</td>\n",
              "      <td>FRANCISCO MORATO</td>\n",
              "      <td>Branco</td>\n",
              "      <td>NaN</td>\n",
              "      <td>2018.0</td>\n",
              "      <td>NaN</td>\n",
              "      <td>MOTOCICLO</td>\n",
              "      <td>NaN</td>\n",
              "      <td>NaN</td>\n",
              "      <td>NaN</td>\n",
              "      <td>NaN</td>\n",
              "    </tr>\n",
              "    <tr>\n",
              "      <th>236786</th>\n",
              "      <td>2018</td>\n",
              "      <td>1650508</td>\n",
              "      <td>1650508/2018</td>\n",
              "      <td>31/12/2018 23:45</td>\n",
              "      <td>31/12/2018 23:45</td>\n",
              "      <td>31/12/2018</td>\n",
              "      <td>17:40</td>\n",
              "      <td>A TARDE</td>\n",
              "      <td>31/12/2018</td>\n",
              "      <td>31/12/2018 23:45</td>\n",
              "      <td>...</td>\n",
              "      <td>SÃO PAULO</td>\n",
              "      <td>Prata</td>\n",
              "      <td>I/PEUGEOT 207HB XR</td>\n",
              "      <td>2011.0</td>\n",
              "      <td>NaN</td>\n",
              "      <td>AUTOMOVEL</td>\n",
              "      <td>NaN</td>\n",
              "      <td>NaN</td>\n",
              "      <td>NaN</td>\n",
              "      <td>NaN</td>\n",
              "    </tr>\n",
              "    <tr>\n",
              "      <th>236787</th>\n",
              "      <td>2018</td>\n",
              "      <td>13194</td>\n",
              "      <td>13194/2018</td>\n",
              "      <td>31/12/2018 23:41</td>\n",
              "      <td>31/12/2018 23:49</td>\n",
              "      <td>31/12/2018</td>\n",
              "      <td>23:30</td>\n",
              "      <td>A NOITE</td>\n",
              "      <td>31/12/2018</td>\n",
              "      <td>31/12/2018 23:41</td>\n",
              "      <td>...</td>\n",
              "      <td>SAO PAULO</td>\n",
              "      <td>Preta</td>\n",
              "      <td>YAMAHA/FAZER YS250</td>\n",
              "      <td>2006.0</td>\n",
              "      <td>2006.0</td>\n",
              "      <td>MOTOCICLO</td>\n",
              "      <td>NaN</td>\n",
              "      <td>NaN</td>\n",
              "      <td>NaN</td>\n",
              "      <td>NaN</td>\n",
              "    </tr>\n",
              "    <tr>\n",
              "      <th>236788</th>\n",
              "      <td>2018</td>\n",
              "      <td>1650499</td>\n",
              "      <td>1650499/2018</td>\n",
              "      <td>31/12/2018 23:50</td>\n",
              "      <td>31/12/2018 23:50</td>\n",
              "      <td>31/12/2018</td>\n",
              "      <td>21:40</td>\n",
              "      <td>A NOITE</td>\n",
              "      <td>31/12/2018</td>\n",
              "      <td>31/12/2018 23:50</td>\n",
              "      <td>...</td>\n",
              "      <td>NaN</td>\n",
              "      <td>Azul</td>\n",
              "      <td>NaN</td>\n",
              "      <td>NaN</td>\n",
              "      <td>NaN</td>\n",
              "      <td>MOTOCICLO</td>\n",
              "      <td>NaN</td>\n",
              "      <td>NaN</td>\n",
              "      <td>NaN</td>\n",
              "      <td>NaN</td>\n",
              "    </tr>\n",
              "    <tr>\n",
              "      <th>236789</th>\n",
              "      <td>2018</td>\n",
              "      <td>1650499</td>\n",
              "      <td>1650499/2018</td>\n",
              "      <td>31/12/2018 23:50</td>\n",
              "      <td>31/12/2018 23:50</td>\n",
              "      <td>31/12/2018</td>\n",
              "      <td>21:40</td>\n",
              "      <td>A NOITE</td>\n",
              "      <td>31/12/2018</td>\n",
              "      <td>31/12/2018 23:50</td>\n",
              "      <td>...</td>\n",
              "      <td>SÃO PAULO</td>\n",
              "      <td>Prata</td>\n",
              "      <td>JEEP/RENEGADE SPORT MT</td>\n",
              "      <td>2017.0</td>\n",
              "      <td>NaN</td>\n",
              "      <td>AUTOMOVEL</td>\n",
              "      <td>NaN</td>\n",
              "      <td>NaN</td>\n",
              "      <td>NaN</td>\n",
              "      <td>NaN</td>\n",
              "    </tr>\n",
              "    <tr>\n",
              "      <th>236790</th>\n",
              "      <td>2018</td>\n",
              "      <td>9327</td>\n",
              "      <td>9327/2018</td>\n",
              "      <td>31/12/2018 23:30</td>\n",
              "      <td>31/12/2018 23:51</td>\n",
              "      <td>31/12/2018</td>\n",
              "      <td>22:00</td>\n",
              "      <td>A NOITE</td>\n",
              "      <td>31/12/2018</td>\n",
              "      <td>31/12/2018 23:30</td>\n",
              "      <td>...</td>\n",
              "      <td>SAO PAULO</td>\n",
              "      <td>Prata</td>\n",
              "      <td>I/FORD FIESTA SE</td>\n",
              "      <td>2011.0</td>\n",
              "      <td>2012.0</td>\n",
              "      <td>AUTOMOVEL</td>\n",
              "      <td>NaN</td>\n",
              "      <td>NaN</td>\n",
              "      <td>NaN</td>\n",
              "      <td>NaN</td>\n",
              "    </tr>\n",
              "    <tr>\n",
              "      <th>236791</th>\n",
              "      <td>2018</td>\n",
              "      <td>5766</td>\n",
              "      <td>5766/2018</td>\n",
              "      <td>31/12/2018 23:36</td>\n",
              "      <td>31/12/2018 23:59</td>\n",
              "      <td>31/12/2018</td>\n",
              "      <td>23:30</td>\n",
              "      <td>A NOITE</td>\n",
              "      <td>31/12/2018</td>\n",
              "      <td>31/12/2018 23:36</td>\n",
              "      <td>...</td>\n",
              "      <td>SAO PAULO</td>\n",
              "      <td>Cinza</td>\n",
              "      <td>HONDA/CG 150 TITAN KS</td>\n",
              "      <td>2008.0</td>\n",
              "      <td>2008.0</td>\n",
              "      <td>MOTOCICLO</td>\n",
              "      <td>NaN</td>\n",
              "      <td>NaN</td>\n",
              "      <td>NaN</td>\n",
              "      <td>NaN</td>\n",
              "    </tr>\n",
              "  </tbody>\n",
              "</table>\n",
              "<p>10 rows × 56 columns</p>\n",
              "</div>\n",
              "      <button class=\"colab-df-convert\" onclick=\"convertToInteractive('df-d8a554b8-db95-420e-95d5-755a66d4a3cb')\"\n",
              "              title=\"Convert this dataframe to an interactive table.\"\n",
              "              style=\"display:none;\">\n",
              "        \n",
              "  <svg xmlns=\"http://www.w3.org/2000/svg\" height=\"24px\"viewBox=\"0 0 24 24\"\n",
              "       width=\"24px\">\n",
              "    <path d=\"M0 0h24v24H0V0z\" fill=\"none\"/>\n",
              "    <path d=\"M18.56 5.44l.94 2.06.94-2.06 2.06-.94-2.06-.94-.94-2.06-.94 2.06-2.06.94zm-11 1L8.5 8.5l.94-2.06 2.06-.94-2.06-.94L8.5 2.5l-.94 2.06-2.06.94zm10 10l.94 2.06.94-2.06 2.06-.94-2.06-.94-.94-2.06-.94 2.06-2.06.94z\"/><path d=\"M17.41 7.96l-1.37-1.37c-.4-.4-.92-.59-1.43-.59-.52 0-1.04.2-1.43.59L10.3 9.45l-7.72 7.72c-.78.78-.78 2.05 0 2.83L4 21.41c.39.39.9.59 1.41.59.51 0 1.02-.2 1.41-.59l7.78-7.78 2.81-2.81c.8-.78.8-2.07 0-2.86zM5.41 20L4 18.59l7.72-7.72 1.47 1.35L5.41 20z\"/>\n",
              "  </svg>\n",
              "      </button>\n",
              "      \n",
              "  <style>\n",
              "    .colab-df-container {\n",
              "      display:flex;\n",
              "      flex-wrap:wrap;\n",
              "      gap: 12px;\n",
              "    }\n",
              "\n",
              "    .colab-df-convert {\n",
              "      background-color: #E8F0FE;\n",
              "      border: none;\n",
              "      border-radius: 50%;\n",
              "      cursor: pointer;\n",
              "      display: none;\n",
              "      fill: #1967D2;\n",
              "      height: 32px;\n",
              "      padding: 0 0 0 0;\n",
              "      width: 32px;\n",
              "    }\n",
              "\n",
              "    .colab-df-convert:hover {\n",
              "      background-color: #E2EBFA;\n",
              "      box-shadow: 0px 1px 2px rgba(60, 64, 67, 0.3), 0px 1px 3px 1px rgba(60, 64, 67, 0.15);\n",
              "      fill: #174EA6;\n",
              "    }\n",
              "\n",
              "    [theme=dark] .colab-df-convert {\n",
              "      background-color: #3B4455;\n",
              "      fill: #D2E3FC;\n",
              "    }\n",
              "\n",
              "    [theme=dark] .colab-df-convert:hover {\n",
              "      background-color: #434B5C;\n",
              "      box-shadow: 0px 1px 3px 1px rgba(0, 0, 0, 0.15);\n",
              "      filter: drop-shadow(0px 1px 2px rgba(0, 0, 0, 0.3));\n",
              "      fill: #FFFFFF;\n",
              "    }\n",
              "  </style>\n",
              "\n",
              "      <script>\n",
              "        const buttonEl =\n",
              "          document.querySelector('#df-d8a554b8-db95-420e-95d5-755a66d4a3cb button.colab-df-convert');\n",
              "        buttonEl.style.display =\n",
              "          google.colab.kernel.accessAllowed ? 'block' : 'none';\n",
              "\n",
              "        async function convertToInteractive(key) {\n",
              "          const element = document.querySelector('#df-d8a554b8-db95-420e-95d5-755a66d4a3cb');\n",
              "          const dataTable =\n",
              "            await google.colab.kernel.invokeFunction('convertToInteractive',\n",
              "                                                     [key], {});\n",
              "          if (!dataTable) return;\n",
              "\n",
              "          const docLinkHtml = 'Like what you see? Visit the ' +\n",
              "            '<a target=\"_blank\" href=https://colab.research.google.com/notebooks/data_table.ipynb>data table notebook</a>'\n",
              "            + ' to learn more about interactive tables.';\n",
              "          element.innerHTML = '';\n",
              "          dataTable['output_type'] = 'display_data';\n",
              "          await google.colab.output.renderOutput(dataTable, element);\n",
              "          const docLink = document.createElement('div');\n",
              "          docLink.innerHTML = docLinkHtml;\n",
              "          element.appendChild(docLink);\n",
              "        }\n",
              "      </script>\n",
              "    </div>\n",
              "  </div>\n",
              "  "
            ]
          },
          "metadata": {},
          "execution_count": 131
        }
      ]
    },
    {
      "cell_type": "code",
      "source": [
        "df_roubos.loc[df_roubos.ANO_BO==2022]"
      ],
      "metadata": {
        "colab": {
          "base_uri": "https://localhost:8080/",
          "height": 679
        },
        "id": "qKccfPKpeMyV",
        "outputId": "f5bfd39c-9866-437f-8465-9ec345794542"
      },
      "execution_count": null,
      "outputs": [
        {
          "output_type": "execute_result",
          "data": {
            "text/plain": [
              "       ANO_BO  NUM_BO NUMERO_BOLETIM       BO_INICIADO        BO_EMITIDO  \\\n",
              "9219     2022       1         jan/22  01/01/2022 00:04  01/01/2022 00:30   \n",
              "9221     2022       2         fev/22  01/01/2022 00:41  01/01/2022 00:41   \n",
              "9222     2022       2         fev/22  01/01/2022 00:55  01/01/2022 00:55   \n",
              "9223     2022       1         jan/22  01/01/2022 01:02  01/01/2022 01:42   \n",
              "9224     2022      84        84/2022  01/01/2022 02:05  01/01/2022 02:25   \n",
              "...       ...     ...            ...               ...               ...   \n",
              "58716    2022    9684      9684/2022  29/12/2022 23:12  29/12/2022 23:12   \n",
              "58717    2022    4647      4647/2022  29/12/2022 23:18  29/12/2022 23:18   \n",
              "58718    2022    4647      4647/2022  29/12/2022 23:18  29/12/2022 23:18   \n",
              "58719    2022    4647      4647/2022  29/12/2022 23:18  29/12/2022 23:18   \n",
              "58720    2022    4647      4647/2022  29/12/2022 23:18  29/12/2022 23:18   \n",
              "\n",
              "      DATAOCORRENCIA HORAOCORRENCIA PERIDOOCORRENCIA DATACOMUNICACAO  \\\n",
              "9219      31/12/2021          22:30          A NOITE      01/01/2022   \n",
              "9221      31/12/2021          21:50          A NOITE      01/01/2022   \n",
              "9222      31/12/2021          23:30          A NOITE      01/01/2022   \n",
              "9223      31/12/2021          23:00          A NOITE      01/01/2022   \n",
              "9224      01/01/2022          00:30     DE MADRUGADA      01/01/2022   \n",
              "...              ...            ...              ...             ...   \n",
              "58716     29/12/2022          21:30          A NOITE      29/12/2022   \n",
              "58717     15/12/2022          00:10     DE MADRUGADA      15/12/2022   \n",
              "58718     15/12/2022          00:10     DE MADRUGADA      15/12/2022   \n",
              "58719     15/12/2022          00:10     DE MADRUGADA      15/12/2022   \n",
              "58720     15/12/2022          00:10     DE MADRUGADA      15/12/2022   \n",
              "\n",
              "         DATAELABORACAO  ...        CIDADE_VEICULO DESCR_COR_VEICULO  \\\n",
              "9219   01/01/2022 00:04  ...               S.PAULO             Preta   \n",
              "9221   01/01/2022 00:41  ...  FERRAZ DE VASCONCELO             Prata   \n",
              "9222   01/01/2022 00:55  ...               S.PAULO          Vermelho   \n",
              "9223   01/01/2022 01:02  ...               S.PAULO             Cinza   \n",
              "9224   01/01/2022 02:05  ...             SÃO PAULO             Preta   \n",
              "...                 ...  ...                   ...               ...   \n",
              "58716  29/12/2022 23:12  ...        BELO HORIZONTE            Branco   \n",
              "58717  29/12/2022 23:18  ...                   NaN               NaN   \n",
              "58718  29/12/2022 23:18  ...               S.PAULO             Prata   \n",
              "58719  29/12/2022 23:18  ...                   NaN               NaN   \n",
              "58720  29/12/2022 23:18  ...               S.PAULO             Prata   \n",
              "\n",
              "           DESCR_MARCA_VEICULO ANO_FABRICACAO  ANO_MODELO DESCR_TIPO_VEICULO  \\\n",
              "9219    I/PEUGEOT 307 16 PR PK         2007.0      2008.0          AUTOMOVEL   \n",
              "9221   I/HYUNDAI TUCSON GL 20L         2007.0         NaN          AUTOMOVEL   \n",
              "9222            FIAT/PALIO ELX         2001.0      2001.0          AUTOMOVEL   \n",
              "9223   NISSAN/KICKS ACTIVE CVT         2021.0      2022.0          AUTOMOVEL   \n",
              "9224          HONDA/CG 160 FAN         2019.0         NaN          MOTOCICLO   \n",
              "...                        ...            ...         ...                ...   \n",
              "58716  FIAT/UNO ATTRACTIVE 1.0         2021.0      2021.0          AUTOMOVEL   \n",
              "58717                      NaN            0.0         0.0                NaN   \n",
              "58718  FIAT/DOBLO ESSENCE 7L E         2017.0      2017.0          AUTOMOVEL   \n",
              "58719                      NaN            0.0         0.0                NaN   \n",
              "58720  FIAT/DOBLO ESSENCE 7L E         2017.0      2017.0          AUTOMOVEL   \n",
              "\n",
              "      QUANT_CELULAR MARCA_CELULAR Unnamed: 54 Unnamed: 55  \n",
              "9219            NaN           NaN         NaN         NaN  \n",
              "9221            NaN           NaN         NaN         NaN  \n",
              "9222            NaN           NaN         NaN         NaN  \n",
              "9223            NaN           NaN         NaN         NaN  \n",
              "9224            NaN           NaN         NaN         NaN  \n",
              "...             ...           ...         ...         ...  \n",
              "58716           NaN           NaN         NaN         NaN  \n",
              "58717           NaN           NaN         NaN         NaN  \n",
              "58718           NaN           NaN         NaN         NaN  \n",
              "58719           NaN           NaN         NaN         NaN  \n",
              "58720           NaN           NaN         NaN         NaN  \n",
              "\n",
              "[49497 rows x 56 columns]"
            ],
            "text/html": [
              "\n",
              "  <div id=\"df-8ec08deb-aa4a-46ac-a360-c8679b8986a9\">\n",
              "    <div class=\"colab-df-container\">\n",
              "      <div>\n",
              "<style scoped>\n",
              "    .dataframe tbody tr th:only-of-type {\n",
              "        vertical-align: middle;\n",
              "    }\n",
              "\n",
              "    .dataframe tbody tr th {\n",
              "        vertical-align: top;\n",
              "    }\n",
              "\n",
              "    .dataframe thead th {\n",
              "        text-align: right;\n",
              "    }\n",
              "</style>\n",
              "<table border=\"1\" class=\"dataframe\">\n",
              "  <thead>\n",
              "    <tr style=\"text-align: right;\">\n",
              "      <th></th>\n",
              "      <th>ANO_BO</th>\n",
              "      <th>NUM_BO</th>\n",
              "      <th>NUMERO_BOLETIM</th>\n",
              "      <th>BO_INICIADO</th>\n",
              "      <th>BO_EMITIDO</th>\n",
              "      <th>DATAOCORRENCIA</th>\n",
              "      <th>HORAOCORRENCIA</th>\n",
              "      <th>PERIDOOCORRENCIA</th>\n",
              "      <th>DATACOMUNICACAO</th>\n",
              "      <th>DATAELABORACAO</th>\n",
              "      <th>...</th>\n",
              "      <th>CIDADE_VEICULO</th>\n",
              "      <th>DESCR_COR_VEICULO</th>\n",
              "      <th>DESCR_MARCA_VEICULO</th>\n",
              "      <th>ANO_FABRICACAO</th>\n",
              "      <th>ANO_MODELO</th>\n",
              "      <th>DESCR_TIPO_VEICULO</th>\n",
              "      <th>QUANT_CELULAR</th>\n",
              "      <th>MARCA_CELULAR</th>\n",
              "      <th>Unnamed: 54</th>\n",
              "      <th>Unnamed: 55</th>\n",
              "    </tr>\n",
              "  </thead>\n",
              "  <tbody>\n",
              "    <tr>\n",
              "      <th>9219</th>\n",
              "      <td>2022</td>\n",
              "      <td>1</td>\n",
              "      <td>jan/22</td>\n",
              "      <td>01/01/2022 00:04</td>\n",
              "      <td>01/01/2022 00:30</td>\n",
              "      <td>31/12/2021</td>\n",
              "      <td>22:30</td>\n",
              "      <td>A NOITE</td>\n",
              "      <td>01/01/2022</td>\n",
              "      <td>01/01/2022 00:04</td>\n",
              "      <td>...</td>\n",
              "      <td>S.PAULO</td>\n",
              "      <td>Preta</td>\n",
              "      <td>I/PEUGEOT 307 16 PR PK</td>\n",
              "      <td>2007.0</td>\n",
              "      <td>2008.0</td>\n",
              "      <td>AUTOMOVEL</td>\n",
              "      <td>NaN</td>\n",
              "      <td>NaN</td>\n",
              "      <td>NaN</td>\n",
              "      <td>NaN</td>\n",
              "    </tr>\n",
              "    <tr>\n",
              "      <th>9221</th>\n",
              "      <td>2022</td>\n",
              "      <td>2</td>\n",
              "      <td>fev/22</td>\n",
              "      <td>01/01/2022 00:41</td>\n",
              "      <td>01/01/2022 00:41</td>\n",
              "      <td>31/12/2021</td>\n",
              "      <td>21:50</td>\n",
              "      <td>A NOITE</td>\n",
              "      <td>01/01/2022</td>\n",
              "      <td>01/01/2022 00:41</td>\n",
              "      <td>...</td>\n",
              "      <td>FERRAZ DE VASCONCELO</td>\n",
              "      <td>Prata</td>\n",
              "      <td>I/HYUNDAI TUCSON GL 20L</td>\n",
              "      <td>2007.0</td>\n",
              "      <td>NaN</td>\n",
              "      <td>AUTOMOVEL</td>\n",
              "      <td>NaN</td>\n",
              "      <td>NaN</td>\n",
              "      <td>NaN</td>\n",
              "      <td>NaN</td>\n",
              "    </tr>\n",
              "    <tr>\n",
              "      <th>9222</th>\n",
              "      <td>2022</td>\n",
              "      <td>2</td>\n",
              "      <td>fev/22</td>\n",
              "      <td>01/01/2022 00:55</td>\n",
              "      <td>01/01/2022 00:55</td>\n",
              "      <td>31/12/2021</td>\n",
              "      <td>23:30</td>\n",
              "      <td>A NOITE</td>\n",
              "      <td>01/01/2022</td>\n",
              "      <td>01/01/2022 00:55</td>\n",
              "      <td>...</td>\n",
              "      <td>S.PAULO</td>\n",
              "      <td>Vermelho</td>\n",
              "      <td>FIAT/PALIO ELX</td>\n",
              "      <td>2001.0</td>\n",
              "      <td>2001.0</td>\n",
              "      <td>AUTOMOVEL</td>\n",
              "      <td>NaN</td>\n",
              "      <td>NaN</td>\n",
              "      <td>NaN</td>\n",
              "      <td>NaN</td>\n",
              "    </tr>\n",
              "    <tr>\n",
              "      <th>9223</th>\n",
              "      <td>2022</td>\n",
              "      <td>1</td>\n",
              "      <td>jan/22</td>\n",
              "      <td>01/01/2022 01:02</td>\n",
              "      <td>01/01/2022 01:42</td>\n",
              "      <td>31/12/2021</td>\n",
              "      <td>23:00</td>\n",
              "      <td>A NOITE</td>\n",
              "      <td>01/01/2022</td>\n",
              "      <td>01/01/2022 01:02</td>\n",
              "      <td>...</td>\n",
              "      <td>S.PAULO</td>\n",
              "      <td>Cinza</td>\n",
              "      <td>NISSAN/KICKS ACTIVE CVT</td>\n",
              "      <td>2021.0</td>\n",
              "      <td>2022.0</td>\n",
              "      <td>AUTOMOVEL</td>\n",
              "      <td>NaN</td>\n",
              "      <td>NaN</td>\n",
              "      <td>NaN</td>\n",
              "      <td>NaN</td>\n",
              "    </tr>\n",
              "    <tr>\n",
              "      <th>9224</th>\n",
              "      <td>2022</td>\n",
              "      <td>84</td>\n",
              "      <td>84/2022</td>\n",
              "      <td>01/01/2022 02:05</td>\n",
              "      <td>01/01/2022 02:25</td>\n",
              "      <td>01/01/2022</td>\n",
              "      <td>00:30</td>\n",
              "      <td>DE MADRUGADA</td>\n",
              "      <td>01/01/2022</td>\n",
              "      <td>01/01/2022 02:05</td>\n",
              "      <td>...</td>\n",
              "      <td>SÃO PAULO</td>\n",
              "      <td>Preta</td>\n",
              "      <td>HONDA/CG 160 FAN</td>\n",
              "      <td>2019.0</td>\n",
              "      <td>NaN</td>\n",
              "      <td>MOTOCICLO</td>\n",
              "      <td>NaN</td>\n",
              "      <td>NaN</td>\n",
              "      <td>NaN</td>\n",
              "      <td>NaN</td>\n",
              "    </tr>\n",
              "    <tr>\n",
              "      <th>...</th>\n",
              "      <td>...</td>\n",
              "      <td>...</td>\n",
              "      <td>...</td>\n",
              "      <td>...</td>\n",
              "      <td>...</td>\n",
              "      <td>...</td>\n",
              "      <td>...</td>\n",
              "      <td>...</td>\n",
              "      <td>...</td>\n",
              "      <td>...</td>\n",
              "      <td>...</td>\n",
              "      <td>...</td>\n",
              "      <td>...</td>\n",
              "      <td>...</td>\n",
              "      <td>...</td>\n",
              "      <td>...</td>\n",
              "      <td>...</td>\n",
              "      <td>...</td>\n",
              "      <td>...</td>\n",
              "      <td>...</td>\n",
              "      <td>...</td>\n",
              "    </tr>\n",
              "    <tr>\n",
              "      <th>58716</th>\n",
              "      <td>2022</td>\n",
              "      <td>9684</td>\n",
              "      <td>9684/2022</td>\n",
              "      <td>29/12/2022 23:12</td>\n",
              "      <td>29/12/2022 23:12</td>\n",
              "      <td>29/12/2022</td>\n",
              "      <td>21:30</td>\n",
              "      <td>A NOITE</td>\n",
              "      <td>29/12/2022</td>\n",
              "      <td>29/12/2022 23:12</td>\n",
              "      <td>...</td>\n",
              "      <td>BELO HORIZONTE</td>\n",
              "      <td>Branco</td>\n",
              "      <td>FIAT/UNO ATTRACTIVE 1.0</td>\n",
              "      <td>2021.0</td>\n",
              "      <td>2021.0</td>\n",
              "      <td>AUTOMOVEL</td>\n",
              "      <td>NaN</td>\n",
              "      <td>NaN</td>\n",
              "      <td>NaN</td>\n",
              "      <td>NaN</td>\n",
              "    </tr>\n",
              "    <tr>\n",
              "      <th>58717</th>\n",
              "      <td>2022</td>\n",
              "      <td>4647</td>\n",
              "      <td>4647/2022</td>\n",
              "      <td>29/12/2022 23:18</td>\n",
              "      <td>29/12/2022 23:18</td>\n",
              "      <td>15/12/2022</td>\n",
              "      <td>00:10</td>\n",
              "      <td>DE MADRUGADA</td>\n",
              "      <td>15/12/2022</td>\n",
              "      <td>29/12/2022 23:18</td>\n",
              "      <td>...</td>\n",
              "      <td>NaN</td>\n",
              "      <td>NaN</td>\n",
              "      <td>NaN</td>\n",
              "      <td>0.0</td>\n",
              "      <td>0.0</td>\n",
              "      <td>NaN</td>\n",
              "      <td>NaN</td>\n",
              "      <td>NaN</td>\n",
              "      <td>NaN</td>\n",
              "      <td>NaN</td>\n",
              "    </tr>\n",
              "    <tr>\n",
              "      <th>58718</th>\n",
              "      <td>2022</td>\n",
              "      <td>4647</td>\n",
              "      <td>4647/2022</td>\n",
              "      <td>29/12/2022 23:18</td>\n",
              "      <td>29/12/2022 23:18</td>\n",
              "      <td>15/12/2022</td>\n",
              "      <td>00:10</td>\n",
              "      <td>DE MADRUGADA</td>\n",
              "      <td>15/12/2022</td>\n",
              "      <td>29/12/2022 23:18</td>\n",
              "      <td>...</td>\n",
              "      <td>S.PAULO</td>\n",
              "      <td>Prata</td>\n",
              "      <td>FIAT/DOBLO ESSENCE 7L E</td>\n",
              "      <td>2017.0</td>\n",
              "      <td>2017.0</td>\n",
              "      <td>AUTOMOVEL</td>\n",
              "      <td>NaN</td>\n",
              "      <td>NaN</td>\n",
              "      <td>NaN</td>\n",
              "      <td>NaN</td>\n",
              "    </tr>\n",
              "    <tr>\n",
              "      <th>58719</th>\n",
              "      <td>2022</td>\n",
              "      <td>4647</td>\n",
              "      <td>4647/2022</td>\n",
              "      <td>29/12/2022 23:18</td>\n",
              "      <td>29/12/2022 23:18</td>\n",
              "      <td>15/12/2022</td>\n",
              "      <td>00:10</td>\n",
              "      <td>DE MADRUGADA</td>\n",
              "      <td>15/12/2022</td>\n",
              "      <td>29/12/2022 23:18</td>\n",
              "      <td>...</td>\n",
              "      <td>NaN</td>\n",
              "      <td>NaN</td>\n",
              "      <td>NaN</td>\n",
              "      <td>0.0</td>\n",
              "      <td>0.0</td>\n",
              "      <td>NaN</td>\n",
              "      <td>NaN</td>\n",
              "      <td>NaN</td>\n",
              "      <td>NaN</td>\n",
              "      <td>NaN</td>\n",
              "    </tr>\n",
              "    <tr>\n",
              "      <th>58720</th>\n",
              "      <td>2022</td>\n",
              "      <td>4647</td>\n",
              "      <td>4647/2022</td>\n",
              "      <td>29/12/2022 23:18</td>\n",
              "      <td>29/12/2022 23:18</td>\n",
              "      <td>15/12/2022</td>\n",
              "      <td>00:10</td>\n",
              "      <td>DE MADRUGADA</td>\n",
              "      <td>15/12/2022</td>\n",
              "      <td>29/12/2022 23:18</td>\n",
              "      <td>...</td>\n",
              "      <td>S.PAULO</td>\n",
              "      <td>Prata</td>\n",
              "      <td>FIAT/DOBLO ESSENCE 7L E</td>\n",
              "      <td>2017.0</td>\n",
              "      <td>2017.0</td>\n",
              "      <td>AUTOMOVEL</td>\n",
              "      <td>NaN</td>\n",
              "      <td>NaN</td>\n",
              "      <td>NaN</td>\n",
              "      <td>NaN</td>\n",
              "    </tr>\n",
              "  </tbody>\n",
              "</table>\n",
              "<p>49497 rows × 56 columns</p>\n",
              "</div>\n",
              "      <button class=\"colab-df-convert\" onclick=\"convertToInteractive('df-8ec08deb-aa4a-46ac-a360-c8679b8986a9')\"\n",
              "              title=\"Convert this dataframe to an interactive table.\"\n",
              "              style=\"display:none;\">\n",
              "        \n",
              "  <svg xmlns=\"http://www.w3.org/2000/svg\" height=\"24px\"viewBox=\"0 0 24 24\"\n",
              "       width=\"24px\">\n",
              "    <path d=\"M0 0h24v24H0V0z\" fill=\"none\"/>\n",
              "    <path d=\"M18.56 5.44l.94 2.06.94-2.06 2.06-.94-2.06-.94-.94-2.06-.94 2.06-2.06.94zm-11 1L8.5 8.5l.94-2.06 2.06-.94-2.06-.94L8.5 2.5l-.94 2.06-2.06.94zm10 10l.94 2.06.94-2.06 2.06-.94-2.06-.94-.94-2.06-.94 2.06-2.06.94z\"/><path d=\"M17.41 7.96l-1.37-1.37c-.4-.4-.92-.59-1.43-.59-.52 0-1.04.2-1.43.59L10.3 9.45l-7.72 7.72c-.78.78-.78 2.05 0 2.83L4 21.41c.39.39.9.59 1.41.59.51 0 1.02-.2 1.41-.59l7.78-7.78 2.81-2.81c.8-.78.8-2.07 0-2.86zM5.41 20L4 18.59l7.72-7.72 1.47 1.35L5.41 20z\"/>\n",
              "  </svg>\n",
              "      </button>\n",
              "      \n",
              "  <style>\n",
              "    .colab-df-container {\n",
              "      display:flex;\n",
              "      flex-wrap:wrap;\n",
              "      gap: 12px;\n",
              "    }\n",
              "\n",
              "    .colab-df-convert {\n",
              "      background-color: #E8F0FE;\n",
              "      border: none;\n",
              "      border-radius: 50%;\n",
              "      cursor: pointer;\n",
              "      display: none;\n",
              "      fill: #1967D2;\n",
              "      height: 32px;\n",
              "      padding: 0 0 0 0;\n",
              "      width: 32px;\n",
              "    }\n",
              "\n",
              "    .colab-df-convert:hover {\n",
              "      background-color: #E2EBFA;\n",
              "      box-shadow: 0px 1px 2px rgba(60, 64, 67, 0.3), 0px 1px 3px 1px rgba(60, 64, 67, 0.15);\n",
              "      fill: #174EA6;\n",
              "    }\n",
              "\n",
              "    [theme=dark] .colab-df-convert {\n",
              "      background-color: #3B4455;\n",
              "      fill: #D2E3FC;\n",
              "    }\n",
              "\n",
              "    [theme=dark] .colab-df-convert:hover {\n",
              "      background-color: #434B5C;\n",
              "      box-shadow: 0px 1px 3px 1px rgba(0, 0, 0, 0.15);\n",
              "      filter: drop-shadow(0px 1px 2px rgba(0, 0, 0, 0.3));\n",
              "      fill: #FFFFFF;\n",
              "    }\n",
              "  </style>\n",
              "\n",
              "      <script>\n",
              "        const buttonEl =\n",
              "          document.querySelector('#df-8ec08deb-aa4a-46ac-a360-c8679b8986a9 button.colab-df-convert');\n",
              "        buttonEl.style.display =\n",
              "          google.colab.kernel.accessAllowed ? 'block' : 'none';\n",
              "\n",
              "        async function convertToInteractive(key) {\n",
              "          const element = document.querySelector('#df-8ec08deb-aa4a-46ac-a360-c8679b8986a9');\n",
              "          const dataTable =\n",
              "            await google.colab.kernel.invokeFunction('convertToInteractive',\n",
              "                                                     [key], {});\n",
              "          if (!dataTable) return;\n",
              "\n",
              "          const docLinkHtml = 'Like what you see? Visit the ' +\n",
              "            '<a target=\"_blank\" href=https://colab.research.google.com/notebooks/data_table.ipynb>data table notebook</a>'\n",
              "            + ' to learn more about interactive tables.';\n",
              "          element.innerHTML = '';\n",
              "          dataTable['output_type'] = 'display_data';\n",
              "          await google.colab.output.renderOutput(dataTable, element);\n",
              "          const docLink = document.createElement('div');\n",
              "          docLink.innerHTML = docLinkHtml;\n",
              "          element.appendChild(docLink);\n",
              "        }\n",
              "      </script>\n",
              "    </div>\n",
              "  </div>\n",
              "  "
            ]
          },
          "metadata": {},
          "execution_count": 132
        }
      ]
    },
    {
      "cell_type": "markdown",
      "source": [
        "Analisando os dados do ano de 2023, percebemos muitas inconsistências, como colunas trocadas e duas colunas a mais vazias, além do fato de ter somente dois meses disponíveis para análise, portanto, decidimos dropar o ano 2023."
      ],
      "metadata": {
        "id": "ol2y0bEffeol"
      }
    },
    {
      "cell_type": "code",
      "source": [
        "df_roubos = pd.concat([df_roubos_2022,df_roubos_2021,df_roubos_2020,df_roubos_2019,df_roubos_2018], axis=0).reset_index(drop=True)\n",
        "df_furtos = pd.concat([df_furtos_2022,df_furtos_2021,df_furtos_2020,df_furtos_2019,df_furtos_2018], axis=0).reset_index(drop=True)"
      ],
      "metadata": {
        "id": "bmY-8C_EfHlf"
      },
      "execution_count": null,
      "outputs": []
    },
    {
      "cell_type": "markdown",
      "source": [
        "As colunas NUM_BO, NUMERO_BOLETIM, BO_INICIADO, BO_EMITIDO, DATACOMUNICACAO,DATAELABORACAO, BO_AUTORIA, NUMERO_BOLETIM_PRINCIPAL, EXAME, SOLUCAO,PLACA_VEICULO, DELEGACIA_NOME, DELEGACIA_CIRCUNSCRICAO, ESPECIE, RUBRICA,DESDOBRAMENTO, TIPOPESSOA, VITIMAFATAL, NATURALIDADE, NACIONALIDADE, SEXO,IDADE,DATANASCIMENTO, IDADE, ESTADOCIVIL, PROFISSAO, GRAUINSTRUCAO, CORCUTIS,\n",
        "NATUREZAVINCULADA, TIPOVINCULO, RELACIONAMENTO, PARENTESCO, PLACAVEICULO, QUANT_CELULAR, MARCA_CELULAR ou por estarem vazios ou porque não serão úteis para análise proposta."
      ],
      "metadata": {
        "id": "5cPFzpU-hI8c"
      }
    },
    {
      "cell_type": "code",
      "source": [
        "df_roubos.drop(['NUM_BO', 'NUMERO_BOLETIM', 'BO_INICIADO', 'BO_EMITIDO', 'DATACOMUNICACAO',\n",
        "                'DATAELABORACAO', 'BO_AUTORIA', 'NUMERO_BOLETIM_PRINCIPAL', 'EXAME',\n",
        "                'SOLUCAO', 'PLACA_VEICULO','DELEGACIA_NOME', 'DELEGACIA_CIRCUNSCRICAO',\n",
        "                'ESPECIE', 'RUBRICA', 'DESDOBRAMENTO', 'TIPOPESSOA',\n",
        "                'VITIMAFATAL', 'NATURALIDADE', 'NACIONALIDADE', 'SEXO',\n",
        "                'IDADE','DATANASCIMENTO','ESTADOCIVIL','PROFISSAO',\n",
        "                'GRAUINSTRUCAO','CORCUTIS','NATUREZAVINCULADA','TIPOVINCULO',\n",
        "                'RELACIONAMENTO','PARENTESCO','PLACA_VEICULO', 'QUANT_CELULAR',\n",
        "                'MARCA_CELULAR'],axis=1,inplace=True)"
      ],
      "metadata": {
        "id": "FkxiBv4Lgyrh"
      },
      "execution_count": null,
      "outputs": []
    },
    {
      "cell_type": "code",
      "source": [
        "# Colunas restante após o Drop\n",
        "df_roubos.dtypes"
      ],
      "metadata": {
        "colab": {
          "base_uri": "https://localhost:8080/"
        },
        "id": "lb6l9saKvfdW",
        "outputId": "7ffa6467-50a0-4db4-e056-1c7d7aee34ab"
      },
      "execution_count": null,
      "outputs": [
        {
          "output_type": "execute_result",
          "data": {
            "text/plain": [
              "ANO_BO                   int64\n",
              "DATAOCORRENCIA          object\n",
              "HORAOCORRENCIA          object\n",
              "PERIDOOCORRENCIA        object\n",
              "FLAGRANTE               object\n",
              "LOGRADOURO              object\n",
              "NUMERO                 float64\n",
              "BAIRRO                  object\n",
              "CIDADE                  object\n",
              "UF                      object\n",
              "LATITUDE                object\n",
              "LONGITUDE               object\n",
              "DESCRICAOLOCAL          object\n",
              "STATUS                  object\n",
              "UF_VEICULO              object\n",
              "CIDADE_VEICULO          object\n",
              "DESCR_COR_VEICULO       object\n",
              "DESCR_MARCA_VEICULO     object\n",
              "ANO_FABRICACAO         float64\n",
              "ANO_MODELO             float64\n",
              "DESCR_TIPO_VEICULO      object\n",
              "dtype: object"
            ]
          },
          "metadata": {},
          "execution_count": 136
        }
      ]
    },
    {
      "cell_type": "code",
      "source": [
        "df_roubos.isna().sum()"
      ],
      "metadata": {
        "colab": {
          "base_uri": "https://localhost:8080/"
        },
        "id": "n1bXV8H1v0Cz",
        "outputId": "eebe3d39-993b-449e-9270-bbe823ff59bc"
      },
      "execution_count": null,
      "outputs": [
        {
          "output_type": "execute_result",
          "data": {
            "text/plain": [
              "ANO_BO                     0\n",
              "DATAOCORRENCIA             0\n",
              "HORAOCORRENCIA          5843\n",
              "PERIDOOCORRENCIA           0\n",
              "FLAGRANTE                  0\n",
              "LOGRADOURO             10194\n",
              "NUMERO                    91\n",
              "BAIRRO                  1616\n",
              "CIDADE                    91\n",
              "UF                        91\n",
              "LATITUDE               15575\n",
              "LONGITUDE              15575\n",
              "DESCRICAOLOCAL             0\n",
              "STATUS                     0\n",
              "UF_VEICULO             66575\n",
              "CIDADE_VEICULO         67598\n",
              "DESCR_COR_VEICULO      63015\n",
              "DESCR_MARCA_VEICULO    67677\n",
              "ANO_FABRICACAO          7632\n",
              "ANO_MODELO             33276\n",
              "DESCR_TIPO_VEICULO     63115\n",
              "dtype: int64"
            ]
          },
          "metadata": {},
          "execution_count": 137
        }
      ]
    },
    {
      "cell_type": "code",
      "source": [
        "df_roubos.shape"
      ],
      "metadata": {
        "colab": {
          "base_uri": "https://localhost:8080/"
        },
        "id": "Cyy-S8o1wHCU",
        "outputId": "ae4e1957-2450-4114-ea6a-552bc9c44855"
      },
      "execution_count": null,
      "outputs": [
        {
          "output_type": "execute_result",
          "data": {
            "text/plain": [
              "(227573, 21)"
            ]
          },
          "metadata": {},
          "execution_count": 138
        }
      ]
    },
    {
      "cell_type": "markdown",
      "source": [
        "A coluna com mais valores nulos é DESCR_MARCA_VEICULO, que tem 29,74% de valores nulos. Como não passou de 30%, optamos por não dropar os valores nulos."
      ],
      "metadata": {
        "id": "wHpfALSYwWvz"
      }
    },
    {
      "cell_type": "markdown",
      "source": [
        "##Conversão de formatos"
      ],
      "metadata": {
        "id": "WWJAiBdyBTVM"
      }
    },
    {
      "cell_type": "code",
      "source": [
        "df_roubos.dtypes"
      ],
      "metadata": {
        "colab": {
          "base_uri": "https://localhost:8080/"
        },
        "id": "D2jorAIqwMix",
        "outputId": "5ef060f7-a7e6-45fd-b71f-b508194090dd"
      },
      "execution_count": null,
      "outputs": [
        {
          "output_type": "execute_result",
          "data": {
            "text/plain": [
              "ANO_BO                   int64\n",
              "DATAOCORRENCIA          object\n",
              "HORAOCORRENCIA          object\n",
              "PERIDOOCORRENCIA        object\n",
              "FLAGRANTE               object\n",
              "LOGRADOURO              object\n",
              "NUMERO                 float64\n",
              "BAIRRO                  object\n",
              "CIDADE                  object\n",
              "UF                      object\n",
              "LATITUDE                object\n",
              "LONGITUDE               object\n",
              "DESCRICAOLOCAL          object\n",
              "STATUS                  object\n",
              "UF_VEICULO              object\n",
              "CIDADE_VEICULO          object\n",
              "DESCR_COR_VEICULO       object\n",
              "DESCR_MARCA_VEICULO     object\n",
              "ANO_FABRICACAO         float64\n",
              "ANO_MODELO             float64\n",
              "DESCR_TIPO_VEICULO      object\n",
              "dtype: object"
            ]
          },
          "metadata": {},
          "execution_count": 139
        }
      ]
    },
    {
      "cell_type": "code",
      "source": [
        "df_roubos['DATAOCORRENCIA'].isna().sum()"
      ],
      "metadata": {
        "colab": {
          "base_uri": "https://localhost:8080/"
        },
        "id": "mMZbOXptZ3by",
        "outputId": "c9ad5a06-a4f8-4503-c2d8-565d1a485bc1"
      },
      "execution_count": null,
      "outputs": [
        {
          "output_type": "execute_result",
          "data": {
            "text/plain": [
              "0"
            ]
          },
          "metadata": {},
          "execution_count": 143
        }
      ]
    },
    {
      "cell_type": "code",
      "source": [
        "for data in df_roubos['DATAOCORRENCIA']:\n",
        "    try:\n",
        "        pd.to_datetime(data, format='%d/%m/%Y')\n",
        "    except Exception as e:\n",
        "        print(f\"Erro ao converter {data}: {e}\")"
      ],
      "metadata": {
        "colab": {
          "base_uri": "https://localhost:8080/"
        },
        "id": "xORrcswtVkOL",
        "outputId": "4b4c4367-9668-4dbe-b469-d27f8805227a"
      },
      "execution_count": null,
      "outputs": [
        {
          "output_type": "stream",
          "name": "stdout",
          "text": [
            "Erro ao converter 17/12/0202: Out of bounds nanosecond timestamp: 202-12-17 00:00:00\n",
            "Erro ao converter 23/01/1019: Out of bounds nanosecond timestamp: 1019-01-23 00:00:00\n",
            "Erro ao converter 02/03/1019: Out of bounds nanosecond timestamp: 1019-03-02 00:00:00\n"
          ]
        }
      ]
    },
    {
      "cell_type": "code",
      "source": [
        "df_roubos.DATAOCORRENCIA.replace(to_replace =\"17/12/0202\",value = '17/12/2020', regex=True,inplace=True)\n",
        "df_roubos.DATAOCORRENCIA.replace(to_replace =\"23/01/1019\",value = '23/01/2019', regex=True,inplace=True)\n",
        "df_roubos.DATAOCORRENCIA.replace(to_replace =\"02/03/1019\",value = '02/03/2019', regex=True,inplace=True)"
      ],
      "metadata": {
        "id": "STjB2CpL6tS_"
      },
      "execution_count": null,
      "outputs": []
    },
    {
      "cell_type": "code",
      "source": [
        "df_roubos['DATAOCORRENCIA'] = pd.to_datetime(df_roubos['DATAOCORRENCIA'], format='%d/%m/%Y')\n"
      ],
      "metadata": {
        "id": "KmgzwNIH2nBH"
      },
      "execution_count": null,
      "outputs": []
    },
    {
      "cell_type": "code",
      "source": [
        "for data in df_roubos['HORAOCORRENCIA']:\n",
        "    try:\n",
        "        pd.to_datetime(data, format='%H:%M')\n",
        "    except Exception as e:\n",
        "        print(f\"Erro ao converter {data}: {e}\")"
      ],
      "metadata": {
        "id": "kbyJaJr5XSV5"
      },
      "execution_count": null,
      "outputs": []
    },
    {
      "cell_type": "code",
      "source": [
        "df_roubos['HORAOCORRENCIA']= pd.to_datetime(df_roubos['HORAOCORRENCIA'],format='%H:%M')"
      ],
      "metadata": {
        "id": "DKG9TRnMAOPr"
      },
      "execution_count": null,
      "outputs": []
    },
    {
      "cell_type": "code",
      "source": [
        "df_roubos['NUMERO'] = df_roubos['NUMERO'].astype(str)"
      ],
      "metadata": {
        "id": "TQ__dVOQBoQ9"
      },
      "execution_count": null,
      "outputs": []
    },
    {
      "cell_type": "code",
      "source": [
        "df_roubos['ANO_FABRICACAO']=df_roubos.ANO_FABRICACAO.round().astype('Int64')"
      ],
      "metadata": {
        "id": "um9u48FzFHuW"
      },
      "execution_count": null,
      "outputs": []
    },
    {
      "cell_type": "code",
      "source": [
        "df_roubos['ANO_MODELO']=df_roubos.ANO_MODELO.round().astype('Int64')"
      ],
      "metadata": {
        "id": "KiC-WSFeFiLH"
      },
      "execution_count": null,
      "outputs": []
    },
    {
      "cell_type": "code",
      "source": [
        "df_roubos.dtypes"
      ],
      "metadata": {
        "colab": {
          "base_uri": "https://localhost:8080/"
        },
        "id": "RaTQFadWA_CQ",
        "outputId": "a1075cba-fd8b-4949-cdae-9bdcd013e04d"
      },
      "execution_count": null,
      "outputs": [
        {
          "output_type": "execute_result",
          "data": {
            "text/plain": [
              "ANO_BO                          int64\n",
              "DATAOCORRENCIA         datetime64[ns]\n",
              "HORAOCORRENCIA         datetime64[ns]\n",
              "PERIDOOCORRENCIA               object\n",
              "FLAGRANTE                      object\n",
              "LOGRADOURO                     object\n",
              "NUMERO                         object\n",
              "BAIRRO                         object\n",
              "CIDADE                         object\n",
              "UF                             object\n",
              "LATITUDE                       object\n",
              "LONGITUDE                      object\n",
              "DESCRICAOLOCAL                 object\n",
              "STATUS                         object\n",
              "UF_VEICULO                     object\n",
              "CIDADE_VEICULO                 object\n",
              "DESCR_COR_VEICULO              object\n",
              "DESCR_MARCA_VEICULO            object\n",
              "ANO_FABRICACAO                  Int64\n",
              "ANO_MODELO                      Int64\n",
              "DESCR_TIPO_VEICULO             object\n",
              "dtype: object"
            ]
          },
          "metadata": {},
          "execution_count": 149
        }
      ]
    },
    {
      "cell_type": "markdown",
      "source": [
        "## Visualizações e Insights Roubos"
      ],
      "metadata": {
        "id": "wP-E0u3U3buD"
      }
    },
    {
      "cell_type": "code",
      "source": [
        "df_roubos.columns"
      ],
      "metadata": {
        "id": "xOUVaZ0J1ok2",
        "colab": {
          "base_uri": "https://localhost:8080/"
        },
        "outputId": "077d879c-1fd4-45f7-c854-713097af1cd2"
      },
      "execution_count": null,
      "outputs": [
        {
          "output_type": "execute_result",
          "data": {
            "text/plain": [
              "Index(['ANO_BO', 'DATAOCORRENCIA', 'HORAOCORRENCIA', 'PERIDOOCORRENCIA',\n",
              "       'FLAGRANTE', 'LOGRADOURO', 'NUMERO', 'BAIRRO', 'CIDADE', 'UF',\n",
              "       'LATITUDE', 'LONGITUDE', 'DESCRICAOLOCAL', 'STATUS', 'UF_VEICULO',\n",
              "       'CIDADE_VEICULO', 'DESCR_COR_VEICULO', 'DESCR_MARCA_VEICULO',\n",
              "       'ANO_FABRICACAO', 'ANO_MODELO', 'DESCR_TIPO_VEICULO'],\n",
              "      dtype='object')"
            ]
          },
          "metadata": {},
          "execution_count": 150
        }
      ]
    },
    {
      "cell_type": "code",
      "source": [
        "df_roubos.groupby(['BAIRRO']).size().sort_values(ascending=False).head(10)"
      ],
      "metadata": {
        "colab": {
          "base_uri": "https://localhost:8080/"
        },
        "id": "7ccoDK0b3qEJ",
        "outputId": "72509cd6-6aeb-4eb5-ad44-128f30c1f4b3"
      },
      "execution_count": null,
      "outputs": [
        {
          "output_type": "execute_result",
          "data": {
            "text/plain": [
              "BAIRRO\n",
              "JABAQUARA         8609\n",
              "SACOMA            6876\n",
              "SAO MATEUS        6180\n",
              "SAPOPEMBA         5552\n",
              "SAO RAFAEL        5504\n",
              "IGUATEMI          5486\n",
              "ITAQUERA          4778\n",
              "IPIRANGA          4744\n",
              "CIDADE ADEMAR     4489\n",
              "ITAIM PAULISTA    4370\n",
              "dtype: int64"
            ]
          },
          "metadata": {},
          "execution_count": 151
        }
      ]
    },
    {
      "cell_type": "code",
      "source": [
        "df_roubos.groupby(['ANO_BO']).size().sort_values(ascending=False)"
      ],
      "metadata": {
        "colab": {
          "base_uri": "https://localhost:8080/"
        },
        "id": "2_zPgSWa3xPg",
        "outputId": "42098a2a-b5ff-4335-d0d7-063b4a664519"
      },
      "execution_count": null,
      "outputs": [
        {
          "output_type": "execute_result",
          "data": {
            "text/plain": [
              "ANO_BO\n",
              "2018    63065\n",
              "2019    51097\n",
              "2022    49497\n",
              "2020    34400\n",
              "2021    29191\n",
              "2023      323\n",
              "dtype: int64"
            ]
          },
          "metadata": {},
          "execution_count": 152
        }
      ]
    },
    {
      "cell_type": "code",
      "source": [
        "df_roubos.groupby(['ANO_BO']).size().plot.bar(figsize=(8,6),xlabel='ANO_BO',ylabel='N. Ocorrencias')"
      ],
      "metadata": {
        "colab": {
          "base_uri": "https://localhost:8080/",
          "height": 580
        },
        "id": "Ae_gxokv4Jxd",
        "outputId": "4969ca45-6190-49a6-fdcd-c35706d4a193"
      },
      "execution_count": null,
      "outputs": [
        {
          "output_type": "execute_result",
          "data": {
            "text/plain": [
              "<Axes: xlabel='ANO_BO', ylabel='N. Ocorrencias'>"
            ]
          },
          "metadata": {},
          "execution_count": 153
        },
        {
          "output_type": "display_data",
          "data": {
            "text/plain": [
              "<Figure size 800x600 with 1 Axes>"
            ],
            "image/png": "[encoded data removed]"
          },
          "metadata": {}
        }
      ]
    },
    {
      "cell_type": "code",
      "source": [
        "df_roubos.groupby('PERIDOOCORRENCIA',dropna=False).size().sort_values(ascending=False).plot.pie()"
      ],
      "metadata": {
        "colab": {
          "base_uri": "https://localhost:8080/",
          "height": 423
        },
        "id": "s95IpRr24nHO",
        "outputId": "3911a7c3-c55a-470e-cbca-0ea8a3495fed"
      },
      "execution_count": null,
      "outputs": [
        {
          "output_type": "execute_result",
          "data": {
            "text/plain": [
              "<Axes: >"
            ]
          },
          "metadata": {},
          "execution_count": 154
        },
        {
          "output_type": "display_data",
          "data": {
            "text/plain": [
              "<Figure size 640x480 with 1 Axes>"
            ],
            "image/png": "[encoded data removed]"
          },
          "metadata": {}
        }
      ]
    },
    {
      "cell_type": "code",
      "source": [
        "df_roubos.groupby(['DESCR_COR_VEICULO']).size().sort_values(ascending=False)"
      ],
      "metadata": {
        "colab": {
          "base_uri": "https://localhost:8080/"
        },
        "id": "U33iz-6r5q8p",
        "outputId": "83bed0a3-a982-4a3f-d6ce-fb1b71883dc2"
      },
      "execution_count": null,
      "outputs": [
        {
          "output_type": "execute_result",
          "data": {
            "text/plain": [
              "DESCR_COR_VEICULO\n",
              "Branco           41590\n",
              "Preta            36981\n",
              "Prata            30124\n",
              "Vermelho         18782\n",
              "Cinza            18052\n",
              "Azul              8993\n",
              "Verde             2604\n",
              "Amarelo           2368\n",
              "Não Informado     1571\n",
              "Marrom            1141\n",
              "Laranja            864\n",
              "Bege               729\n",
              "Roxa               296\n",
              "Fantasia           215\n",
              "Dourada            215\n",
              "Grena               20\n",
              "Rosa                13\n",
              "dtype: int64"
            ]
          },
          "metadata": {},
          "execution_count": 155
        }
      ]
    },
    {
      "cell_type": "code",
      "source": [
        "df_roubos.groupby('FLAGRANTE',dropna=False).size().sort_values(ascending=False).plot.pie()"
      ],
      "metadata": {
        "colab": {
          "base_uri": "https://localhost:8080/",
          "height": 423
        },
        "id": "BVpql19w6LcV",
        "outputId": "f0319c92-2f56-42d0-d029-9bc7a930d6c5"
      },
      "execution_count": null,
      "outputs": [
        {
          "output_type": "execute_result",
          "data": {
            "text/plain": [
              "<Axes: >"
            ]
          },
          "metadata": {},
          "execution_count": 156
        },
        {
          "output_type": "display_data",
          "data": {
            "text/plain": [
              "<Figure size 640x480 with 1 Axes>"
            ],
            "image/png": "[encoded data removed]"
          },
          "metadata": {}
        }
      ]
    },
    {
      "cell_type": "code",
      "source": [
        "df_roubos.shape"
      ],
      "metadata": {
        "colab": {
          "base_uri": "https://localhost:8080/"
        },
        "id": "Ir0Z6nb8ZEZU",
        "outputId": "f3be5447-c4d1-458d-da60-7b35883404a0"
      },
      "execution_count": null,
      "outputs": [
        {
          "output_type": "execute_result",
          "data": {
            "text/plain": [
              "(227573, 21)"
            ]
          },
          "metadata": {},
          "execution_count": 157
        }
      ]
    },
    {
      "cell_type": "markdown",
      "source": [
        "Vamos arrumar e Unificar o valor \"Via Pública\" com \"Via pública\""
      ],
      "metadata": {
        "id": "DgCdVDZvsl1v"
      }
    },
    {
      "cell_type": "code",
      "source": [
        "df_roubos.DESCRICAOLOCAL.replace(to_replace =\"Via Pública\",value = 'Via pública', regex=True,inplace=True)\n"
      ],
      "metadata": {
        "id": "AMoWKOxNsv4Z"
      },
      "execution_count": null,
      "outputs": []
    },
    {
      "cell_type": "code",
      "source": [
        "df_roubos.groupby(['DESCRICAOLOCAL']).size().sort_values(ascending=False)"
      ],
      "metadata": {
        "colab": {
          "base_uri": "https://localhost:8080/"
        },
        "id": "5AqOECXr6wno",
        "outputId": "fdde3277-fc38-4074-e6a3-c97a249aeb77"
      },
      "execution_count": null,
      "outputs": [
        {
          "output_type": "execute_result",
          "data": {
            "text/plain": [
              "DESCRICAOLOCAL\n",
              "Via pública                        205221\n",
              "Residência                           6549\n",
              "Comércio e serviços                  3503\n",
              "Outros                               2868\n",
              "Veículo em movimento                 2824\n",
              "Garagem ou abrigo de residência      1468\n",
              "Rodovia/Estrada                      1211\n",
              "Centro Comerc./Empresarial            588\n",
              "Area não ocupada                      469\n",
              "Restaurante e afins                   433\n",
              "Estacionamento particular             331\n",
              "Condominio Residencial                318\n",
              "Repartição Pública                    264\n",
              "Estabelecimento de ensino             200\n",
              "Estacionamento público                183\n",
              "Saúde                                 158\n",
              "Favela                                131\n",
              "Terminal/Estação                      119\n",
              "Shopping Center                       106\n",
              "Estabelecimento bancário              105\n",
              "Garagem coletiva de prédio             82\n",
              "Escritório                             70\n",
              "Estacionamento com vigilância          67\n",
              "Local clandestino/ilegal               53\n",
              "Lazer e recreação                      44\n",
              "Estabelecimento industrial             40\n",
              "Serviços e bens públicos               39\n",
              "Unidade rural                          37\n",
              "Templo e afins                         33\n",
              "Hospedagem                             29\n",
              "Condominio Comercial                   15\n",
              "Internet                               12\n",
              "Entidade assistencial                   3\n",
              "dtype: int64"
            ]
          },
          "metadata": {},
          "execution_count": 159
        }
      ]
    },
    {
      "cell_type": "code",
      "source": [
        "df_roubos.groupby('STATUS',dropna=False).size().sort_values(ascending=False).plot.pie()"
      ],
      "metadata": {
        "colab": {
          "base_uri": "https://localhost:8080/",
          "height": 423
        },
        "id": "XA4AoBPB7FLS",
        "outputId": "c941b518-3002-46f7-c8f9-58d6d930a381"
      },
      "execution_count": null,
      "outputs": [
        {
          "output_type": "execute_result",
          "data": {
            "text/plain": [
              "<Axes: >"
            ]
          },
          "metadata": {},
          "execution_count": 160
        },
        {
          "output_type": "display_data",
          "data": {
            "text/plain": [
              "<Figure size 640x480 with 1 Axes>"
            ],
            "image/png": "[encoded data removed]"
          },
          "metadata": {}
        }
      ]
    },
    {
      "cell_type": "code",
      "source": [
        "df_roubos.groupby(['UF_VEICULO']).size().sort_values(ascending=False)"
      ],
      "metadata": {
        "colab": {
          "base_uri": "https://localhost:8080/"
        },
        "id": "REUWyzBKc1aD",
        "outputId": "8fa57263-3b29-402e-940f-e36ad3ea8d65"
      },
      "execution_count": null,
      "outputs": [
        {
          "output_type": "execute_result",
          "data": {
            "text/plain": [
              "UF_VEICULO\n",
              "SP    148142\n",
              "MG      7472\n",
              "PR      1392\n",
              "SC       970\n",
              "RJ       475\n",
              "RS       434\n",
              "BA       320\n",
              "ES       226\n",
              "GO       217\n",
              "MT       211\n",
              "MS       188\n",
              "PB       153\n",
              "CE       152\n",
              "PE       134\n",
              "AL        94\n",
              "PA        76\n",
              "DF        50\n",
              "MA        50\n",
              "RN        50\n",
              "SE        42\n",
              "TO        40\n",
              "PI        33\n",
              "RO        29\n",
              "AM        18\n",
              "AC        13\n",
              "OP        12\n",
              "RR         3\n",
              "AP         2\n",
              "dtype: int64"
            ]
          },
          "metadata": {},
          "execution_count": 161
        }
      ]
    },
    {
      "cell_type": "code",
      "source": [
        "df_roubos.groupby(['DESCR_MARCA_VEICULO']).size().sort_values(ascending=False)"
      ],
      "metadata": {
        "colab": {
          "base_uri": "https://localhost:8080/"
        },
        "id": "KkIE0XLd7u7Z",
        "outputId": "ef452e0b-02ad-4a63-8b33-b491b626ea74"
      },
      "execution_count": null,
      "outputs": [
        {
          "output_type": "execute_result",
          "data": {
            "text/plain": [
              "DESCR_MARCA_VEICULO\n",
              "HONDA/CG 160 FAN            2417\n",
              "HONDA/XRE 300               1875\n",
              "HYUNDAI/HB20 1.0M COMFOR    1577\n",
              "CHEVROLET/ONIX 1.0MT LT     1473\n",
              "HONDA/CB 300R               1438\n",
              "                            ... \n",
              "RENAULT/MASTER TVAN            1\n",
              "RENAULT/MASTER NIKSMC.CH       1\n",
              "RENAULT/MASTER NIKS MO20       1\n",
              "I/AUDI Q5 SPB 2.0TFSI          1\n",
              "I/PEUGEOT 107 1.0BVM 5PN       1\n",
              "Length: 5598, dtype: int64"
            ]
          },
          "metadata": {},
          "execution_count": 162
        }
      ]
    },
    {
      "cell_type": "markdown",
      "source": [
        "###Criando coluna com modelo do carro"
      ],
      "metadata": {
        "id": "UDjWa5otWAqj"
      }
    },
    {
      "cell_type": "code",
      "source": [
        "#Filtro para letras dentro do valor\n",
        "filtrointerno = df_roubos.DESCR_MARCA_VEICULO.fillna('').str.contains('HONDA/CG150')\n",
        "df_roubos.loc[filtrointerno].groupby(['DESCR_MARCA_VEICULO']).size().sort_values(ascending=False)"
      ],
      "metadata": {
        "colab": {
          "base_uri": "https://localhost:8080/"
        },
        "id": "TU56yzvA-LQZ",
        "outputId": "3e98515d-f49f-4094-818e-21a0553b02fc"
      },
      "execution_count": null,
      "outputs": [
        {
          "output_type": "execute_result",
          "data": {
            "text/plain": [
              "DESCR_MARCA_VEICULO\n",
              "HONDA/CG150 FAN ESDI        768\n",
              "HONDA/CG150 START           104\n",
              "HONDA/CG150 TITAN MIX KS    100\n",
              "HONDA/CG150 CARGO ESD        87\n",
              "HONDA/CG150FANCARGO ESDI     64\n",
              "HONDA/CG150 TITAN MIX EX     63\n",
              "HONDA/CG150 TITAN MIX ES     47\n",
              "HONDA/CG150 TITAN MIXESD     32\n",
              "HONDA/CG150 SPECIAL EDIT      1\n",
              "dtype: int64"
            ]
          },
          "metadata": {},
          "execution_count": 163
        }
      ]
    },
    {
      "cell_type": "code",
      "source": [
        "df_roubos['modelo'] = df_roubos['DESCR_MARCA_VEICULO'].str.split(' ', n=2, expand=True)[0] + ' ' + df_roubos['DESCR_MARCA_VEICULO'].str.split(' ', n=2, expand=True)[1]\n",
        "df_roubos['modelo'].head(5)"
      ],
      "metadata": {
        "colab": {
          "base_uri": "https://localhost:8080/"
        },
        "id": "1lGb9AyKw3H9",
        "outputId": "2cd03028-3820-4241-e37a-06e91b055ec2"
      },
      "execution_count": null,
      "outputs": [
        {
          "output_type": "execute_result",
          "data": {
            "text/plain": [
              "0          I/PEUGEOT 307\n",
              "1             FORD/KA SE\n",
              "2       I/HYUNDAI TUCSON\n",
              "3         FIAT/PALIO ELX\n",
              "4    NISSAN/KICKS ACTIVE\n",
              "Name: modelo, dtype: object"
            ]
          },
          "metadata": {},
          "execution_count": 164
        }
      ]
    },
    {
      "cell_type": "code",
      "source": [
        "df_roubos['modelo'] = np.where(df_roubos['modelo'].str.startswith('I/'),df_roubos['modelo'],df_roubos['modelo'].str.split(' ', n=2, expand=True)[0])\n",
        "df_roubos['modelo'] = df_roubos['modelo'].fillna(df_roubos['DESCR_MARCA_VEICULO'])\n",
        "df_roubos['modelo'].head(5)"
      ],
      "metadata": {
        "colab": {
          "base_uri": "https://localhost:8080/"
        },
        "id": "25FvJajI-dxV",
        "outputId": "d49db250-2727-4f25-d375-2e5f5916d1a3"
      },
      "execution_count": null,
      "outputs": [
        {
          "output_type": "execute_result",
          "data": {
            "text/plain": [
              "0       I/PEUGEOT 307\n",
              "1             FORD/KA\n",
              "2    I/HYUNDAI TUCSON\n",
              "3          FIAT/PALIO\n",
              "4        NISSAN/KICKS\n",
              "Name: modelo, dtype: object"
            ]
          },
          "metadata": {},
          "execution_count": 165
        }
      ]
    },
    {
      "cell_type": "code",
      "source": [
        "df_roubos.groupby(['modelo']).size().sort_values(ascending=False).head(20)"
      ],
      "metadata": {
        "colab": {
          "base_uri": "https://localhost:8080/"
        },
        "id": "Zz0jc7_S_fKf",
        "outputId": "80995544-2043-4e24-c59e-a0d2060cdd18"
      },
      "execution_count": null,
      "outputs": [
        {
          "output_type": "execute_result",
          "data": {
            "text/plain": [
              "modelo\n",
              "HONDA/CG           10823\n",
              "CHEVROLET/ONIX      4122\n",
              "FORD/KA             3603\n",
              "HYUNDAI/HB20        3380\n",
              "HONDA/FIT           3341\n",
              "HONDA/CB            2898\n",
              "RENAULT/SANDERO     2786\n",
              "HONDA/XRE           2752\n",
              "FIAT/PALIO          2695\n",
              "FIAT/FIORINO        2488\n",
              "FIAT/UNO            2377\n",
              "FORD/FIESTA         2276\n",
              "CHEV/PRISMA         2108\n",
              "VW/FOX              2106\n",
              "TOYOTA/COROLLA      2056\n",
              "HONDA/PCX           1973\n",
              "RENAULT/LOGAN       1914\n",
              "HONDA/CIVIC         1798\n",
              "JEEP/RENEGADE       1701\n",
              "YAMAHA/XTZ250       1659\n",
              "dtype: int64"
            ]
          },
          "metadata": {},
          "execution_count": 166
        }
      ]
    },
    {
      "cell_type": "markdown",
      "source": [
        "Por praticidade, decidimos trabalhar com os 20 modelos mais roubados/furtados, porque para tratar as inconsistências vindas do banco de dados, exigiria muito mais tempo dedicado ao tratamento de dados"
      ],
      "metadata": {
        "id": "UIhgTj5bBr1x"
      }
    },
    {
      "cell_type": "code",
      "source": [
        "top_20 = df_roubos.groupby(['modelo']).size().sort_values(ascending=False).head(20)\n",
        "lista_top_20 = top_20.index.tolist()\n",
        "lista_top_20"
      ],
      "metadata": {
        "colab": {
          "base_uri": "https://localhost:8080/"
        },
        "id": "-vZfMk57O1hb",
        "outputId": "81594fc2-d9d8-4602-ed16-30dbda9eff4d"
      },
      "execution_count": null,
      "outputs": [
        {
          "output_type": "execute_result",
          "data": {
            "text/plain": [
              "['HONDA/CG',\n",
              " 'CHEVROLET/ONIX',\n",
              " 'FORD/KA',\n",
              " 'HYUNDAI/HB20',\n",
              " 'HONDA/FIT',\n",
              " 'HONDA/CB',\n",
              " 'RENAULT/SANDERO',\n",
              " 'HONDA/XRE',\n",
              " 'FIAT/PALIO',\n",
              " 'FIAT/FIORINO',\n",
              " 'FIAT/UNO',\n",
              " 'FORD/FIESTA',\n",
              " 'CHEV/PRISMA',\n",
              " 'VW/FOX',\n",
              " 'TOYOTA/COROLLA',\n",
              " 'HONDA/PCX',\n",
              " 'RENAULT/LOGAN',\n",
              " 'HONDA/CIVIC',\n",
              " 'JEEP/RENEGADE',\n",
              " 'YAMAHA/XTZ250']"
            ]
          },
          "metadata": {},
          "execution_count": 167
        }
      ]
    },
    {
      "cell_type": "code",
      "source": [
        "for valor in lista_top_20:\n",
        "    filtrointerno = df_roubos.modelo.fillna('').str.contains(valor)\n",
        "    df_roubos.loc[filtrointerno, 'modelo'] = df_roubos.loc[filtrointerno, 'modelo'].str.replace(rf'{valor}.*', valor)"
      ],
      "metadata": {
        "colab": {
          "base_uri": "https://localhost:8080/"
        },
        "id": "da6okaIkM16U",
        "outputId": "3e6a3ad0-7d2d-478b-cf15-63f1eaf2ffe5"
      },
      "execution_count": null,
      "outputs": [
        {
          "output_type": "stream",
          "name": "stderr",
          "text": [
            "<ipython-input-168-5d0019fd9996>:3: FutureWarning: The default value of regex will change from True to False in a future version.\n",
            "  df_roubos.loc[filtrointerno, 'modelo'] = df_roubos.loc[filtrointerno, 'modelo'].str.replace(rf'{valor}.*', valor)\n"
          ]
        }
      ]
    },
    {
      "cell_type": "code",
      "source": [
        "df_roubos.groupby(['modelo']).size().sort_values(ascending=False).head(20)"
      ],
      "metadata": {
        "colab": {
          "base_uri": "https://localhost:8080/"
        },
        "id": "mvSicsaFWFgn",
        "outputId": "bb93b3d9-eecf-4dc3-cdd7-5d14b5816b1a"
      },
      "execution_count": null,
      "outputs": [
        {
          "output_type": "execute_result",
          "data": {
            "text/plain": [
              "modelo\n",
              "HONDA/CG           12121\n",
              "HONDA/CB            5011\n",
              "HYUNDAI/HB20        4863\n",
              "CHEVROLET/ONIX      4122\n",
              "FORD/KA             3603\n",
              "HONDA/FIT           3341\n",
              "RENAULT/SANDERO     2786\n",
              "HONDA/XRE           2752\n",
              "FIAT/PALIO          2695\n",
              "FIAT/FIORINO        2488\n",
              "FIAT/UNO            2377\n",
              "FORD/FIESTA         2276\n",
              "CHEV/PRISMA         2108\n",
              "VW/FOX              2106\n",
              "TOYOTA/COROLLA      2056\n",
              "HONDA/PCX           1973\n",
              "RENAULT/LOGAN       1914\n",
              "HONDA/CIVIC         1798\n",
              "JEEP/RENEGADE       1701\n",
              "YAMAHA/XTZ250       1663\n",
              "dtype: int64"
            ]
          },
          "metadata": {},
          "execution_count": 169
        }
      ]
    },
    {
      "cell_type": "code",
      "source": [
        "# Consultas pra ver inconsistências restantes\n",
        "filtrointerno = df_roubos.modelo.fillna('').str.contains('XTZ250')\n",
        "df_roubos.loc[filtrointerno].groupby(['modelo']).size().sort_values(ascending=False)"
      ],
      "metadata": {
        "colab": {
          "base_uri": "https://localhost:8080/"
        },
        "id": "nY5Ck32mR2fc",
        "outputId": "7d355f8a-7069-408f-d5a9-2e361660c9c2"
      },
      "execution_count": null,
      "outputs": [
        {
          "output_type": "execute_result",
          "data": {
            "text/plain": [
              "modelo\n",
              "YAMAHA/XTZ250    1663\n",
              "dtype: int64"
            ]
          },
          "metadata": {},
          "execution_count": 170
        }
      ]
    },
    {
      "cell_type": "code",
      "source": [
        "#Corrigindo inconsistência do ONIX\n",
        "df_roubos.modelo.replace(to_replace =\"CHEV/ONIX\",value = 'CHEVROLET/ONIX', regex=True,inplace=True)"
      ],
      "metadata": {
        "id": "9LbBNQIYX16c"
      },
      "execution_count": null,
      "outputs": []
    },
    {
      "cell_type": "code",
      "source": [
        "#Juntando I/HONDA FIT com HONDA/FIT\n",
        "df_roubos.modelo.replace(to_replace =\"I/HONDA FIT\",value = 'HONDA/FIT', regex=True,inplace=True)"
      ],
      "metadata": {
        "id": "I4jblIoXY9iX"
      },
      "execution_count": null,
      "outputs": []
    },
    {
      "cell_type": "code",
      "source": [
        "#Juntando I/RENAULT SANDERO COM RENAULT/SANDERO\n",
        "df_roubos.modelo.replace(to_replace =\"I/RENAULT SANDERO\",value = 'RENAULT/SANDERO', regex=True,inplace=True)"
      ],
      "metadata": {
        "id": "8s53d-BhZvdz"
      },
      "execution_count": null,
      "outputs": []
    },
    {
      "cell_type": "code",
      "source": [
        "# Fiat Palio/ Fiorino\n",
        "df_roubos.modelo.replace(to_replace =\"I/FIAT PALIO\",value = 'FIAT/PALIO', regex=True,inplace=True)\n",
        "df_roubos.modelo.replace(to_replace =\"I/FIAT FIORINO\",value = 'FIAT/FIORINO', regex=True,inplace=True)"
      ],
      "metadata": {
        "id": "grpzR_QoaA_P"
      },
      "execution_count": null,
      "outputs": []
    },
    {
      "cell_type": "code",
      "source": [
        "# CHEVROLET PRISMA\n",
        "df_roubos.modelo.replace(to_replace =\"CHEV/PRISMA\",value = 'CHEVROLET/PRISMA', regex=True,inplace=True)\n",
        "df_roubos.modelo.replace(to_replace =\"GM/PRISMA\",value = 'CHEVROLET/PRISMA', regex=True,inplace=True)"
      ],
      "metadata": {
        "id": "czUj3j6xa1RL"
      },
      "execution_count": null,
      "outputs": []
    },
    {
      "cell_type": "code",
      "source": [
        "# VW/FOX\n",
        "df_roubos.modelo.replace(to_replace =\"I/VW FOX\",value = 'VW/FOX', regex=True,inplace=True)"
      ],
      "metadata": {
        "id": "lYMqRC2Hbp6c"
      },
      "execution_count": null,
      "outputs": []
    },
    {
      "cell_type": "code",
      "source": [
        "# COROLLA\n",
        "df_roubos.modelo.replace(to_replace =\"I/TOYOTA COROLLA\",value = 'TOYOTA/COROLLA', regex=True,inplace=True)"
      ],
      "metadata": {
        "id": "qzfk-kvqcKCZ"
      },
      "execution_count": null,
      "outputs": []
    },
    {
      "cell_type": "code",
      "source": [
        "#FIESTA\n",
        "df_roubos.modelo.replace(to_replace =\"I/FORD FIESTA\",value = 'FORD/FIESTA', regex=True,inplace=True)"
      ],
      "metadata": {
        "id": "PASYYOblcYqQ"
      },
      "execution_count": null,
      "outputs": []
    },
    {
      "cell_type": "code",
      "source": [
        "#LOGAN\n",
        "df_roubos.modelo.replace(to_replace =\"I/RENAULT LOGAN\",value = 'RENAULT/LOGAN', regex=True,inplace=True)"
      ],
      "metadata": {
        "id": "ILwF1sr9ctZE"
      },
      "execution_count": null,
      "outputs": []
    },
    {
      "cell_type": "code",
      "source": [
        "#CIVIC\n",
        "df_roubos.modelo.replace(to_replace =\"I/HONDA CIVIC\",value = 'HONDA/CIVIC', regex=True,inplace=True)"
      ],
      "metadata": {
        "id": "5d0ZxPHFdIFh"
      },
      "execution_count": null,
      "outputs": []
    },
    {
      "cell_type": "code",
      "source": [
        "#RENEGADE\n",
        "df_roubos.modelo.replace(to_replace =\"I/JEEP RENEGADE\",value = 'JEEP/RENEGADE', regex=True,inplace=True)"
      ],
      "metadata": {
        "id": "Qw13btNNdWuQ"
      },
      "execution_count": null,
      "outputs": []
    },
    {
      "cell_type": "code",
      "source": [
        "df_roubos.groupby(['modelo']).size().sort_values(ascending=False).head(20)"
      ],
      "metadata": {
        "colab": {
          "base_uri": "https://localhost:8080/"
        },
        "id": "8ljPwY-fdj6_",
        "outputId": "1e92dfff-fd35-4801-d068-f77e7faba480"
      },
      "execution_count": null,
      "outputs": [
        {
          "output_type": "execute_result",
          "data": {
            "text/plain": [
              "modelo\n",
              "HONDA/CG            12121\n",
              "HONDA/CB             5011\n",
              "HYUNDAI/HB20         4863\n",
              "CHEVROLET/ONIX       4708\n",
              "FORD/KA              3603\n",
              "HONDA/FIT            3586\n",
              "FIAT/PALIO           3001\n",
              "RENAULT/SANDERO      2806\n",
              "HONDA/XRE            2752\n",
              "CHEVROLET/PRISMA     2579\n",
              "FORD/FIESTA          2526\n",
              "FIAT/FIORINO         2505\n",
              "FIAT/UNO             2377\n",
              "VW/FOX               2248\n",
              "TOYOTA/COROLLA       2195\n",
              "RENAULT/LOGAN        2002\n",
              "HONDA/PCX            1973\n",
              "HONDA/CIVIC          1844\n",
              "JEEP/RENEGADE        1740\n",
              "YAMAHA/XTZ250        1663\n",
              "dtype: int64"
            ]
          },
          "metadata": {},
          "execution_count": 182
        }
      ]
    },
    {
      "cell_type": "code",
      "source": [
        "LISTA_BAIRROS = ['JABAQUARA','SACOMA','SAO MATEUS','SAPOPEMBA','SAO RAFAEL','IGUATEMI','ITAQUERA','IPIRANGA','CIDADE ADEMAR','ITAIM PAULISTA']\n",
        "\n",
        "\n",
        "filtro = (df_roubos.ANO_BO == 2020)\n",
        "filtro2 = (df_roubos.BAIRRO.isin(['JABAQUARA','SACOMA','SAO MATEUS','SAPOPEMBA','SAO RAFAEL']))\n",
        "dfsacoma = df_roubos.loc[filtro & filtro2]\n",
        "\n",
        "dfsacoma.groupby(['BAIRRO'],dropna=False).size().sort_values(ascending=False).plot.bar(figsize=(8,6),xlabel='BAIRRO',ylabel='N. Ocorrencias')"
      ],
      "metadata": {
        "colab": {
          "base_uri": "https://localhost:8080/",
          "height": 635
        },
        "id": "GrceDEfPBjY6",
        "outputId": "8e8e9be4-35bf-481b-e963-070758c9f5b8"
      },
      "execution_count": null,
      "outputs": [
        {
          "output_type": "execute_result",
          "data": {
            "text/plain": [
              "<Axes: xlabel='BAIRRO', ylabel='N. Ocorrencias'>"
            ]
          },
          "metadata": {},
          "execution_count": 183
        },
        {
          "output_type": "display_data",
          "data": {
            "text/plain": [
              "<Figure size 800x600 with 1 Axes>"
            ],
            "image/png": "[encoded data removed]"
          },
          "metadata": {}
        }
      ]
    },
    {
      "cell_type": "code",
      "source": [
        "df_roubos.groupby('DESCR_TIPO_VEICULO',dropna=False).size().sort_values(ascending=False).plot.bar(figsize=(8,6))"
      ],
      "metadata": {
        "colab": {
          "base_uri": "https://localhost:8080/",
          "height": 680
        },
        "id": "epFJ-gLHdC6C",
        "outputId": "b3b36faf-c3e3-42ac-b241-1234574440c3"
      },
      "execution_count": null,
      "outputs": [
        {
          "output_type": "execute_result",
          "data": {
            "text/plain": [
              "<Axes: xlabel='DESCR_TIPO_VEICULO'>"
            ]
          },
          "metadata": {},
          "execution_count": 184
        },
        {
          "output_type": "display_data",
          "data": {
            "text/plain": [
              "<Figure size 800x600 with 1 Axes>"
            ],
            "image/png": "[encoded data removed]"
          },
          "metadata": {}
        }
      ]
    },
    {
      "cell_type": "markdown",
      "source": [
        "# Tratamento Furtos"
      ],
      "metadata": {
        "id": "JhBTeIG0l3yC"
      }
    },
    {
      "cell_type": "code",
      "source": [
        "df_furtos.columns"
      ],
      "metadata": {
        "colab": {
          "base_uri": "https://localhost:8080/"
        },
        "id": "AFYSWBtUnOYb",
        "outputId": "8927fabd-3cbd-4aad-a4f7-0a0a91807a00"
      },
      "execution_count": null,
      "outputs": [
        {
          "output_type": "execute_result",
          "data": {
            "text/plain": [
              "Index(['ANO_BO', 'NUM_BO', 'NUMERO_BOLETIM', 'BO_INICIADO', 'BO_EMITIDO',\n",
              "       'DATAOCORRENCIA', 'HORAOCORRENCIA', 'PERIDOOCORRENCIA',\n",
              "       'DATACOMUNICACAO', 'DATAELABORACAO', 'BO_AUTORIA', 'FLAGRANTE',\n",
              "       'NUMERO_BOLETIM_PRINCIPAL', 'LOGRADOURO', 'NUMERO', 'BAIRRO', 'CIDADE',\n",
              "       'UF', 'LATITUDE', 'LONGITUDE', 'DESCRICAOLOCAL', 'EXAME', 'SOLUCAO',\n",
              "       'DELEGACIA_NOME', 'DELEGACIA_CIRCUNSCRICAO', 'ESPECIE', 'RUBRICA',\n",
              "       'DESDOBRAMENTO', 'STATUS', 'TIPOPESSOA', 'VITIMAFATAL', 'NATURALIDADE',\n",
              "       'NACIONALIDADE', 'SEXO', 'DATANASCIMENTO', 'IDADE', 'ESTADOCIVIL',\n",
              "       'PROFISSAO', 'GRAUINSTRUCAO', 'CORCUTIS', 'NATUREZAVINCULADA',\n",
              "       'TIPOVINCULO', 'RELACIONAMENTO', 'PARENTESCO', 'PLACA_VEICULO',\n",
              "       'UF_VEICULO', 'CIDADE_VEICULO', 'DESCR_COR_VEICULO',\n",
              "       'DESCR_MARCA_VEICULO', 'ANO_FABRICACAO', 'ANO_MODELO',\n",
              "       'DESCR_TIPO_VEICULO', 'QUANT_CELULAR', 'MARCA_CELULAR'],\n",
              "      dtype='object')"
            ]
          },
          "metadata": {},
          "execution_count": 185
        }
      ]
    },
    {
      "cell_type": "code",
      "source": [
        "df_furtos.drop(['NUM_BO', 'NUMERO_BOLETIM', 'BO_INICIADO', 'BO_EMITIDO', 'DATACOMUNICACAO', 'DATAELABORACAO', 'BO_AUTORIA', 'NUMERO_BOLETIM_PRINCIPAL', 'EXAME', 'SOLUCAO', 'PLACA_VEICULO', 'DELEGACIA_NOME', 'DELEGACIA_CIRCUNSCRICAO', 'ESPECIE', 'RUBRICA', 'DESDOBRAMENTO', 'TIPOPESSOA', 'VITIMAFATAL', 'NATURALIDADE', 'NACIONALIDADE', 'SEXO','IDADE','DATANASCIMENTO','ESTADOCIVIL','PROFISSAO','GRAUINSTRUCAO','CORCUTIS','NATUREZAVINCULADA','TIPOVINCULO','RELACIONAMENTO','PARENTESCO','PLACA_VEICULO', 'QUANT_CELULAR', 'MARCA_CELULAR'],axis=1,inplace=True)"
      ],
      "metadata": {
        "id": "zkW5xp_Ml5hp"
      },
      "execution_count": null,
      "outputs": []
    },
    {
      "cell_type": "code",
      "source": [
        "df_furtos.columns"
      ],
      "metadata": {
        "colab": {
          "base_uri": "https://localhost:8080/"
        },
        "id": "6Q-OB70cnX3i",
        "outputId": "52200c2d-c478-41ca-ac6c-a7f5f2e02bc4"
      },
      "execution_count": null,
      "outputs": [
        {
          "output_type": "execute_result",
          "data": {
            "text/plain": [
              "Index(['ANO_BO', 'DATAOCORRENCIA', 'HORAOCORRENCIA', 'PERIDOOCORRENCIA',\n",
              "       'FLAGRANTE', 'LOGRADOURO', 'NUMERO', 'BAIRRO', 'CIDADE', 'UF',\n",
              "       'LATITUDE', 'LONGITUDE', 'DESCRICAOLOCAL', 'STATUS', 'UF_VEICULO',\n",
              "       'CIDADE_VEICULO', 'DESCR_COR_VEICULO', 'DESCR_MARCA_VEICULO',\n",
              "       'ANO_FABRICACAO', 'ANO_MODELO', 'DESCR_TIPO_VEICULO'],\n",
              "      dtype='object')"
            ]
          },
          "metadata": {},
          "execution_count": 187
        }
      ]
    },
    {
      "cell_type": "code",
      "source": [
        "df_furtos.shape"
      ],
      "metadata": {
        "colab": {
          "base_uri": "https://localhost:8080/"
        },
        "id": "Qpgrz8D9nZ_A",
        "outputId": "203a684b-2abb-42f9-e66f-18677101179a"
      },
      "execution_count": null,
      "outputs": [
        {
          "output_type": "execute_result",
          "data": {
            "text/plain": [
              "(233660, 21)"
            ]
          },
          "metadata": {},
          "execution_count": 188
        }
      ]
    },
    {
      "cell_type": "code",
      "source": [
        "for data in df_furtos['DATAOCORRENCIA']:\n",
        "    try:\n",
        "        pd.to_datetime(data, format='%d/%m/%Y')\n",
        "    except Exception as e:\n",
        "        print(f\"Erro ao converter {data}: {e}\")"
      ],
      "metadata": {
        "colab": {
          "base_uri": "https://localhost:8080/"
        },
        "id": "o4OAW9p1nmhg",
        "outputId": "0efd26fd-77a3-4aff-c0da-c2ad07abca84"
      },
      "execution_count": null,
      "outputs": [
        {
          "output_type": "stream",
          "name": "stdout",
          "text": [
            "Erro ao converter 27/01/0222: Out of bounds nanosecond timestamp: 222-01-27 00:00:00\n",
            "Erro ao converter 13/05/1202: Out of bounds nanosecond timestamp: 1202-05-13 00:00:00\n",
            "Erro ao converter 26/01/1202: Out of bounds nanosecond timestamp: 1202-01-26 00:00:00\n",
            "Erro ao converter 11/07/0202: Out of bounds nanosecond timestamp: 202-07-11 00:00:00\n",
            "Erro ao converter 09/12/1021: Out of bounds nanosecond timestamp: 1021-12-09 00:00:00\n",
            "Erro ao converter 10/06/1202: Out of bounds nanosecond timestamp: 1202-06-10 00:00:00\n",
            "Erro ao converter 10/11/1202: Out of bounds nanosecond timestamp: 1202-11-10 00:00:00\n",
            "Erro ao converter 28/12/1018: Out of bounds nanosecond timestamp: 1018-12-28 00:00:00\n",
            "Erro ao converter 03/02/1019: Out of bounds nanosecond timestamp: 1019-02-03 00:00:00\n",
            "Erro ao converter 08/02/1019: Out of bounds nanosecond timestamp: 1019-02-08 00:00:00\n",
            "Erro ao converter 26/04/1019: Out of bounds nanosecond timestamp: 1019-04-26 00:00:00\n",
            "Erro ao converter 16/06/1019: Out of bounds nanosecond timestamp: 1019-06-16 00:00:00\n",
            "Erro ao converter 30/08/0219: Out of bounds nanosecond timestamp: 219-08-30 00:00:00\n",
            "Erro ao converter 01/10/1019: Out of bounds nanosecond timestamp: 1019-10-01 00:00:00\n",
            "Erro ao converter 08/07/1018: Out of bounds nanosecond timestamp: 1018-07-08 00:00:00\n",
            "Erro ao converter 04/08/1018: Out of bounds nanosecond timestamp: 1018-08-04 00:00:00\n",
            "Erro ao converter 02/01/0201: Out of bounds nanosecond timestamp: 201-01-02 00:00:00\n",
            "Erro ao converter 17/11/1018: Out of bounds nanosecond timestamp: 1018-11-17 00:00:00\n"
          ]
        }
      ]
    },
    {
      "cell_type": "code",
      "source": [
        "df_furtos.DATAOCORRENCIA.replace(to_replace =\"27/01/0222\",value = '27/01/2022', regex=True,inplace=True)\n",
        "df_furtos.DATAOCORRENCIA.replace(to_replace =\"13/05/1202\",value = '13/05/2022', regex=True,inplace=True)\n",
        "df_furtos.DATAOCORRENCIA.replace(to_replace =\"26/01/1202\",value = '26/01/2021', regex=True,inplace=True)\n",
        "df_furtos.DATAOCORRENCIA.replace(to_replace =\"11/07/0202\",value = '11/07/2021', regex=True,inplace=True)\n",
        "df_furtos.DATAOCORRENCIA.replace(to_replace =\"09/12/1021\",value = '09/12/2021', regex=True,inplace=True)\n",
        "df_furtos.DATAOCORRENCIA.replace(to_replace =\"10/06/1202\",value = '10/06/2020', regex=True,inplace=True)\n",
        "df_furtos.DATAOCORRENCIA.replace(to_replace =\"14/06/1202\",value = '14/06/2020', regex=True,inplace=True)\n",
        "df_furtos.DATAOCORRENCIA.replace(to_replace =\"24/11/0202\",value = '24/11/2020', regex=True,inplace=True)\n",
        "df_furtos.DATAOCORRENCIA.replace(to_replace =\"10/11/1202\",value = '10/11/2020', regex=True,inplace=True)\n",
        "df_furtos.DATAOCORRENCIA.replace(to_replace =\"28/12/1018\",value = '28/12/2019', regex=True,inplace=True)\n",
        "df_furtos.DATAOCORRENCIA.replace(to_replace =\"03/02/1019\",value = '03/02/2019', regex=True,inplace=True)\n",
        "df_furtos.DATAOCORRENCIA.replace(to_replace =\"08/02/1019\",value = '08/02/2019', regex=True,inplace=True)\n",
        "df_furtos.DATAOCORRENCIA.replace(to_replace =\"26/04/1019\",value = '26/04/2019', regex=True,inplace=True)\n",
        "df_furtos.DATAOCORRENCIA.replace(to_replace =\"16/06/1019\",value = '16/06/2019', regex=True,inplace=True)\n",
        "df_furtos.DATAOCORRENCIA.replace(to_replace =\"30/08/0219\",value = '30/08/2019', regex=True,inplace=True)\n",
        "df_furtos.DATAOCORRENCIA.replace(to_replace ='01/10/1019',value = '01/10/2019', regex=True,inplace=True)\n",
        "df_furtos.DATAOCORRENCIA.replace(to_replace ='08/07/1018',value = '08/07/2018', regex=True,inplace=True)\n",
        "df_furtos.DATAOCORRENCIA.replace(to_replace ='04/08/1018',value = '04/08/2018', regex=True,inplace=True)\n",
        "df_furtos.DATAOCORRENCIA.replace(to_replace ='02/01/0201',value = '02/10/2018', regex=True,inplace=True)\n",
        "df_furtos.DATAOCORRENCIA.replace(to_replace ='17/11/1018',value = '17/11/2018', regex=True,inplace=True)"
      ],
      "metadata": {
        "id": "nGhiHNdJqAcn"
      },
      "execution_count": null,
      "outputs": []
    },
    {
      "cell_type": "code",
      "source": [
        "df_furtos['DATAOCORRENCIA'] = pd.to_datetime(df_furtos['DATAOCORRENCIA'], format='%d/%m/%Y')"
      ],
      "metadata": {
        "id": "9-nbwDxGp1QL"
      },
      "execution_count": null,
      "outputs": []
    },
    {
      "cell_type": "code",
      "source": [
        "for data in df_furtos['HORAOCORRENCIA']:\n",
        "    try:\n",
        "        pd.to_datetime(data, format='%H:%M')\n",
        "    except Exception as e:\n",
        "        print(f\"Erro ao converter {data}: {e}\")"
      ],
      "metadata": {
        "id": "ynYPyLF0u_K8"
      },
      "execution_count": null,
      "outputs": []
    },
    {
      "cell_type": "code",
      "source": [
        "df_furtos['HORAOCORRENCIA']= pd.to_datetime(df_furtos['HORAOCORRENCIA'],format='%H:%M')"
      ],
      "metadata": {
        "id": "-hUxdV_lwWdG"
      },
      "execution_count": null,
      "outputs": []
    },
    {
      "cell_type": "code",
      "source": [
        "df_furtos['NUMERO'] = df_furtos['NUMERO'].astype(str)\n",
        "df_furtos['ANO_FABRICACAO']=df_furtos.ANO_FABRICACAO.round().astype('Int64')\n",
        "df_furtos['ANO_MODELO']=df_furtos.ANO_MODELO.round().astype('Int64')"
      ],
      "metadata": {
        "id": "nCQnFbN5xLpp"
      },
      "execution_count": null,
      "outputs": []
    },
    {
      "cell_type": "code",
      "source": [
        "df_furtos.dtypes"
      ],
      "metadata": {
        "colab": {
          "base_uri": "https://localhost:8080/"
        },
        "id": "seJP2QG9xnIJ",
        "outputId": "fc001fd5-a1db-405f-c2e4-0c33f2e02d81"
      },
      "execution_count": null,
      "outputs": [
        {
          "output_type": "execute_result",
          "data": {
            "text/plain": [
              "ANO_BO                          int64\n",
              "DATAOCORRENCIA         datetime64[ns]\n",
              "HORAOCORRENCIA         datetime64[ns]\n",
              "PERIDOOCORRENCIA               object\n",
              "FLAGRANTE                      object\n",
              "LOGRADOURO                     object\n",
              "NUMERO                         object\n",
              "BAIRRO                         object\n",
              "CIDADE                         object\n",
              "UF                             object\n",
              "LATITUDE                       object\n",
              "LONGITUDE                      object\n",
              "DESCRICAOLOCAL                 object\n",
              "STATUS                         object\n",
              "UF_VEICULO                     object\n",
              "CIDADE_VEICULO                 object\n",
              "DESCR_COR_VEICULO              object\n",
              "DESCR_MARCA_VEICULO            object\n",
              "ANO_FABRICACAO                  Int64\n",
              "ANO_MODELO                      Int64\n",
              "DESCR_TIPO_VEICULO             object\n",
              "dtype: object"
            ]
          },
          "metadata": {},
          "execution_count": 195
        }
      ]
    },
    {
      "cell_type": "code",
      "source": [
        "df_furtos.shape"
      ],
      "metadata": {
        "colab": {
          "base_uri": "https://localhost:8080/"
        },
        "id": "m1_cZygP3-2J",
        "outputId": "34c45564-ff40-491a-c439-7f92d11fabb1"
      },
      "execution_count": null,
      "outputs": [
        {
          "output_type": "execute_result",
          "data": {
            "text/plain": [
              "(233660, 21)"
            ]
          },
          "metadata": {},
          "execution_count": 196
        }
      ]
    },
    {
      "cell_type": "code",
      "source": [
        "df_furtos.isna().sum()"
      ],
      "metadata": {
        "colab": {
          "base_uri": "https://localhost:8080/"
        },
        "id": "9IphRCJw34-1",
        "outputId": "9e54f827-ec1d-466b-c4a5-b6fcce29fa28"
      },
      "execution_count": null,
      "outputs": [
        {
          "output_type": "execute_result",
          "data": {
            "text/plain": [
              "ANO_BO                      0\n",
              "DATAOCORRENCIA              0\n",
              "HORAOCORRENCIA          35493\n",
              "PERIDOOCORRENCIA            0\n",
              "FLAGRANTE                   0\n",
              "LOGRADOURO              11694\n",
              "NUMERO                      0\n",
              "BAIRRO                   2283\n",
              "CIDADE                     16\n",
              "UF                         16\n",
              "LATITUDE                24489\n",
              "LONGITUDE               24489\n",
              "DESCRICAOLOCAL              0\n",
              "STATUS                      0\n",
              "UF_VEICULO              30981\n",
              "CIDADE_VEICULO          31074\n",
              "DESCR_COR_VEICULO       30927\n",
              "DESCR_MARCA_VEICULO     35921\n",
              "ANO_FABRICACAO           7530\n",
              "ANO_MODELO             103315\n",
              "DESCR_TIPO_VEICULO      31208\n",
              "dtype: int64"
            ]
          },
          "metadata": {},
          "execution_count": 197
        }
      ]
    },
    {
      "cell_type": "markdown",
      "source": [
        "Dropamos a coluna ANO_MODELO pois tem mais de 40% de valores nulos"
      ],
      "metadata": {
        "id": "fgxWL96o4kMb"
      }
    },
    {
      "cell_type": "code",
      "source": [
        "df_furtos.drop(['ANO_MODELO'],axis=1,inplace=True)"
      ],
      "metadata": {
        "id": "b6dwuCM74BYI"
      },
      "execution_count": null,
      "outputs": []
    },
    {
      "cell_type": "markdown",
      "source": [
        "## Visualizações e Insights Furtos"
      ],
      "metadata": {
        "id": "IM_s7yKMxrJU"
      }
    },
    {
      "cell_type": "code",
      "source": [
        "df_furtos.groupby(['BAIRRO']).size().sort_values(ascending=False).head(10)"
      ],
      "metadata": {
        "colab": {
          "base_uri": "https://localhost:8080/"
        },
        "id": "bVso9L4SxpFs",
        "outputId": "2ed290a9-792e-4734-8440-65558c301aad"
      },
      "execution_count": null,
      "outputs": [
        {
          "output_type": "execute_result",
          "data": {
            "text/plain": [
              "BAIRRO\n",
              "SAO MATEUS       6529\n",
              "SAPOPEMBA        6091\n",
              "TATUAPE          5606\n",
              "SAO LUCAS        4942\n",
              "IPIRANGA         4820\n",
              "ITAQUERA         4724\n",
              "VILA MARIANA     4559\n",
              "VILA PRUDENTE    4493\n",
              "AGUA RASA        4303\n",
              "VILA FORMOSA     4169\n",
              "dtype: int64"
            ]
          },
          "metadata": {},
          "execution_count": 199
        }
      ]
    },
    {
      "cell_type": "code",
      "source": [
        "df_furtos.groupby(['ANO_BO']).size().plot.bar(figsize=(8,6),xlabel='ANO_BO',ylabel='N. Ocorrencias')"
      ],
      "metadata": {
        "colab": {
          "base_uri": "https://localhost:8080/",
          "height": 583
        },
        "id": "mzzvd3BN5Phh",
        "outputId": "fc1d8c7a-66cc-4fff-f82b-2f85c71a0385"
      },
      "execution_count": null,
      "outputs": [
        {
          "output_type": "execute_result",
          "data": {
            "text/plain": [
              "<Axes: xlabel='ANO_BO', ylabel='N. Ocorrencias'>"
            ]
          },
          "metadata": {},
          "execution_count": 200
        },
        {
          "output_type": "display_data",
          "data": {
            "text/plain": [
              "<Figure size 800x600 with 1 Axes>"
            ],
            "image/png": "[encoded data removed]"
          },
          "metadata": {}
        }
      ]
    },
    {
      "cell_type": "code",
      "source": [
        "df_furtos.groupby('PERIDOOCORRENCIA',dropna=False).size().sort_values(ascending=False).plot.pie()"
      ],
      "metadata": {
        "colab": {
          "base_uri": "https://localhost:8080/",
          "height": 423
        },
        "id": "SLY1KPMc5cwg",
        "outputId": "7a928ee1-6eef-4266-bb5e-010ecf43f3ea"
      },
      "execution_count": null,
      "outputs": [
        {
          "output_type": "execute_result",
          "data": {
            "text/plain": [
              "<Axes: >"
            ]
          },
          "metadata": {},
          "execution_count": 201
        },
        {
          "output_type": "display_data",
          "data": {
            "text/plain": [
              "<Figure size 640x480 with 1 Axes>"
            ],
            "image/png": "[encoded data removed]"
          },
          "metadata": {}
        }
      ]
    },
    {
      "cell_type": "code",
      "source": [
        "df_furtos.groupby(['DESCR_COR_VEICULO']).size().sort_values(ascending=False)"
      ],
      "metadata": {
        "colab": {
          "base_uri": "https://localhost:8080/"
        },
        "id": "06Y_tNfw7Aqr",
        "outputId": "7197ba11-084b-4409-b69f-79ab6d2354b2"
      },
      "execution_count": null,
      "outputs": [
        {
          "output_type": "execute_result",
          "data": {
            "text/plain": [
              "DESCR_COR_VEICULO\n",
              "Preta            44558\n",
              "Prata            42633\n",
              "Branco           39946\n",
              "Vermelho         26929\n",
              "Cinza            24429\n",
              "Azul             12798\n",
              "Verde             5609\n",
              "Bege              1776\n",
              "Amarelo           1359\n",
              "Marrom            1170\n",
              "Laranja            704\n",
              "Roxa               329\n",
              "Dourada            243\n",
              "Fantasia           154\n",
              "Rosa                49\n",
              "Grena               45\n",
              "Não Informado        2\n",
              "dtype: int64"
            ]
          },
          "metadata": {},
          "execution_count": 202
        }
      ]
    },
    {
      "cell_type": "code",
      "source": [
        "df_furtos.groupby('FLAGRANTE',dropna=False).size().sort_values(ascending=False).plot.pie()"
      ],
      "metadata": {
        "colab": {
          "base_uri": "https://localhost:8080/",
          "height": 423
        },
        "id": "7vyF_Mqj7NH0",
        "outputId": "597958e0-84c2-49d4-b5e9-0fa9276891e3"
      },
      "execution_count": null,
      "outputs": [
        {
          "output_type": "execute_result",
          "data": {
            "text/plain": [
              "<Axes: >"
            ]
          },
          "metadata": {},
          "execution_count": 203
        },
        {
          "output_type": "display_data",
          "data": {
            "text/plain": [
              "<Figure size 640x480 with 1 Axes>"
            ],
            "image/png": "[encoded data removed]"
          },
          "metadata": {}
        }
      ]
    },
    {
      "cell_type": "code",
      "source": [
        "df_furtos.DESCRICAOLOCAL.replace(to_replace =\"Via Pública\",value = 'Via pública', regex=True,inplace=True)\n"
      ],
      "metadata": {
        "id": "W6fMJeS6tP7q"
      },
      "execution_count": null,
      "outputs": []
    },
    {
      "cell_type": "code",
      "source": [
        "df_furtos.groupby(['DESCRICAOLOCAL']).size().sort_values(ascending=False)"
      ],
      "metadata": {
        "colab": {
          "base_uri": "https://localhost:8080/"
        },
        "id": "OfozH2MU7ZGb",
        "outputId": "878a5d0f-d08d-42d0-c974-7f186f29f5ea"
      },
      "execution_count": null,
      "outputs": [
        {
          "output_type": "execute_result",
          "data": {
            "text/plain": [
              "DESCRICAOLOCAL\n",
              "Via pública                        198237\n",
              "Outros                              12373\n",
              "Residência                           6643\n",
              "Comércio e serviços                  5295\n",
              "Estacionamento público               3592\n",
              "Garagem ou abrigo de residência      1860\n",
              "Estacionamento particular            1156\n",
              "Estacionamento com vigilância         794\n",
              "Condominio Residencial                539\n",
              "Garagem coletiva de prédio            535\n",
              "Centro Comerc./Empresarial            507\n",
              "Repartição Pública                    401\n",
              "Area não ocupada                      290\n",
              "Lazer e recreação                     221\n",
              "Shopping Center                       145\n",
              "Condominio Comercial                  138\n",
              "Escritório                            137\n",
              "Restaurante e afins                   107\n",
              "Estabelecimento de ensino              87\n",
              "Saúde                                  87\n",
              "Rodovia/Estrada                        75\n",
              "Terminal/Estação                       66\n",
              "Local clandestino/ilegal               64\n",
              "Templo e afins                         57\n",
              "Favela                                 56\n",
              "Veículo em movimento                   55\n",
              "Estabelecimento industrial             52\n",
              "Estabelecimento bancário               27\n",
              "Hospedagem                             22\n",
              "Serviços e bens públicos               21\n",
              "Unidade rural                          13\n",
              "Sindicato                               4\n",
              "Internet                                3\n",
              "Entidade assistencial                   1\n",
              "dtype: int64"
            ]
          },
          "metadata": {},
          "execution_count": 205
        }
      ]
    },
    {
      "cell_type": "code",
      "source": [
        "df_furtos.groupby('STATUS',dropna=False).size().sort_values(ascending=False).plot.pie()"
      ],
      "metadata": {
        "colab": {
          "base_uri": "https://localhost:8080/",
          "height": 423
        },
        "id": "yv6MAtXw7iGM",
        "outputId": "7f6b8ae9-fa2b-4f8c-e71d-a55e498c9e23"
      },
      "execution_count": null,
      "outputs": [
        {
          "output_type": "execute_result",
          "data": {
            "text/plain": [
              "<Axes: >"
            ]
          },
          "metadata": {},
          "execution_count": 206
        },
        {
          "output_type": "display_data",
          "data": {
            "text/plain": [
              "<Figure size 640x480 with 1 Axes>"
            ],
            "image/png": "[encoded data removed]"
          },
          "metadata": {}
        }
      ]
    },
    {
      "cell_type": "code",
      "source": [
        "df_furtos.groupby(['UF_VEICULO']).size().sort_values(ascending=False)"
      ],
      "metadata": {
        "colab": {
          "base_uri": "https://localhost:8080/"
        },
        "id": "Eyn46tzJ7t26",
        "outputId": "064d9782-ce67-4acf-af7c-930180d73afb"
      },
      "execution_count": null,
      "outputs": [
        {
          "output_type": "execute_result",
          "data": {
            "text/plain": [
              "UF_VEICULO\n",
              "SP    190112\n",
              "MG      8824\n",
              "PR      1055\n",
              "RJ       455\n",
              "SC       368\n",
              "BA       345\n",
              "GO       264\n",
              "PB       145\n",
              "PE       136\n",
              "RS       120\n",
              "CE       116\n",
              "MS       108\n",
              "DF       104\n",
              "ES        94\n",
              "PI        63\n",
              "MT        55\n",
              "RN        49\n",
              "AL        49\n",
              "PA        44\n",
              "MA        39\n",
              "SE        33\n",
              "AM        27\n",
              "TO        26\n",
              "OP        22\n",
              "RO        12\n",
              "AC         7\n",
              "RR         4\n",
              "EX         2\n",
              "AP         1\n",
              "dtype: int64"
            ]
          },
          "metadata": {},
          "execution_count": 207
        }
      ]
    },
    {
      "cell_type": "code",
      "source": [
        "df_furtos.groupby(['DESCR_MARCA_VEICULO']).size().sort_values(ascending=False)"
      ],
      "metadata": {
        "colab": {
          "base_uri": "https://localhost:8080/"
        },
        "id": "9fPkk2Di75YS",
        "outputId": "0b66e7db-7077-4b3f-d060-627379548601"
      },
      "execution_count": null,
      "outputs": [
        {
          "output_type": "execute_result",
          "data": {
            "text/plain": [
              "DESCR_MARCA_VEICULO\n",
              "HONDA/CG 160 FAN            4044\n",
              "HONDA/PCX 150               3556\n",
              "GM/CORSA WIND               3393\n",
              "HYUNDAI/HB20 1.0M COMFOR    3264\n",
              "CHEVROLET/ONIX 1.0MT LT     2506\n",
              "                            ... \n",
              "I/SHINERAY MVK XY150 1         1\n",
              "I/SHINERAY MVK XY125 1         1\n",
              "I/SEAT POLO 16V 1.0L           1\n",
              "I/SEAT CORDOBA                 1\n",
              "YAMAHA/YZF R3 WGP 60TH         1\n",
              "Length: 5301, dtype: int64"
            ]
          },
          "metadata": {},
          "execution_count": 208
        }
      ]
    },
    {
      "cell_type": "markdown",
      "source": [
        "Arrumandos as marcas e modelos dos veículos para Furtos."
      ],
      "metadata": {
        "id": "aLKbtj_MegEe"
      }
    },
    {
      "cell_type": "code",
      "source": [
        "df_furtos['modelo'] = df_furtos['DESCR_MARCA_VEICULO'].str.split(' ', n=2, expand=True)[0] + ' ' + df_furtos['DESCR_MARCA_VEICULO'].str.split(' ', n=2, expand=True)[1]\n",
        "#linha para evitar que valores que não tem ' ' sejam anuladas na nova coluna\n",
        "\n",
        "df_furtos['modelo'].head(5)"
      ],
      "metadata": {
        "colab": {
          "base_uri": "https://localhost:8080/"
        },
        "id": "2aAeWtiKfd-0",
        "outputId": "58b6e737-948d-494c-9155-9000981d55cd"
      },
      "execution_count": null,
      "outputs": [
        {
          "output_type": "execute_result",
          "data": {
            "text/plain": [
              "0    FIAT/UNO ELETRONIC\n",
              "1                   NaN\n",
              "2         GM/CORSA WIND\n",
              "3                   NaN\n",
              "4         GM/CORSA WIND\n",
              "Name: modelo, dtype: object"
            ]
          },
          "metadata": {},
          "execution_count": 209
        }
      ]
    },
    {
      "cell_type": "code",
      "source": [
        "df_furtos['modelo'] = np.where(df_furtos['modelo'].str.startswith('I/'),\n",
        "                               df_furtos['modelo'],\n",
        "                               df_furtos['modelo'].str.split(' ', n=2, expand=True)[0])\n",
        "df_furtos['modelo'] = df_furtos['modelo'].fillna(df_furtos['DESCR_MARCA_VEICULO'])\n",
        "\n",
        "df_furtos['modelo'].head(5)\n"
      ],
      "metadata": {
        "colab": {
          "base_uri": "https://localhost:8080/"
        },
        "id": "dU2xEFWBfjoE",
        "outputId": "4953f917-e747-491d-8997-f82c31c8cd24"
      },
      "execution_count": null,
      "outputs": [
        {
          "output_type": "execute_result",
          "data": {
            "text/plain": [
              "0    FIAT/UNO\n",
              "1         NaN\n",
              "2    GM/CORSA\n",
              "3         NaN\n",
              "4    GM/CORSA\n",
              "Name: modelo, dtype: object"
            ]
          },
          "metadata": {},
          "execution_count": 210
        }
      ]
    },
    {
      "cell_type": "code",
      "source": [
        "df_furtos.groupby(['modelo']).size().sort_values(ascending=False).head(20)"
      ],
      "metadata": {
        "colab": {
          "base_uri": "https://localhost:8080/"
        },
        "id": "bViX6l4Hfnp7",
        "outputId": "f7fafdaa-f5ac-4655-f6c9-97751f7ca079"
      },
      "execution_count": null,
      "outputs": [
        {
          "output_type": "execute_result",
          "data": {
            "text/plain": [
              "modelo\n",
              "HONDA/CG           14399\n",
              "FIAT/UNO            9820\n",
              "VW/GOL              9395\n",
              "CHEVROLET/ONIX      7360\n",
              "FIAT/PALIO          7059\n",
              "GM/CORSA            6728\n",
              "HYUNDAI/HB20        6142\n",
              "FORD/KA             5412\n",
              "VW/NOVO             4753\n",
              "HONDA/PCX           4280\n",
              "FORD/FIESTA         3908\n",
              "VW/FOX              3378\n",
              "FIAT/MOBI           3044\n",
              "HONDA/XRE           2834\n",
              "VW/VOYAGE           2582\n",
              "RENAULT/SANDERO     2549\n",
              "FIAT/SIENA          2428\n",
              "CHEV/PRISMA         2215\n",
              "HONDA/CB            1854\n",
              "I/HYUNDAI I30       1795\n",
              "dtype: int64"
            ]
          },
          "metadata": {},
          "execution_count": 211
        }
      ]
    },
    {
      "cell_type": "code",
      "source": [
        "top_20 = df_furtos.groupby(['modelo']).size().sort_values(ascending=False).head(20)\n",
        "lista_top_20 = top_20.index.tolist()\n",
        "lista_top_20"
      ],
      "metadata": {
        "colab": {
          "base_uri": "https://localhost:8080/"
        },
        "id": "pjkEb6QKfsJZ",
        "outputId": "e7184131-3315-4a37-b007-b3dc6a3259a3"
      },
      "execution_count": null,
      "outputs": [
        {
          "output_type": "execute_result",
          "data": {
            "text/plain": [
              "['HONDA/CG',\n",
              " 'FIAT/UNO',\n",
              " 'VW/GOL',\n",
              " 'CHEVROLET/ONIX',\n",
              " 'FIAT/PALIO',\n",
              " 'GM/CORSA',\n",
              " 'HYUNDAI/HB20',\n",
              " 'FORD/KA',\n",
              " 'VW/NOVO',\n",
              " 'HONDA/PCX',\n",
              " 'FORD/FIESTA',\n",
              " 'VW/FOX',\n",
              " 'FIAT/MOBI',\n",
              " 'HONDA/XRE',\n",
              " 'VW/VOYAGE',\n",
              " 'RENAULT/SANDERO',\n",
              " 'FIAT/SIENA',\n",
              " 'CHEV/PRISMA',\n",
              " 'HONDA/CB',\n",
              " 'I/HYUNDAI I30']"
            ]
          },
          "metadata": {},
          "execution_count": 212
        }
      ]
    },
    {
      "cell_type": "code",
      "source": [
        "for valor in lista_top_20:\n",
        "    filtrointerno = df_furtos.modelo.fillna('').str.contains(valor)\n",
        "    df_furtos.loc[filtrointerno, 'modelo'] = df_furtos.loc[filtrointerno, 'modelo'].str.replace(rf'{valor}.*', valor)"
      ],
      "metadata": {
        "colab": {
          "base_uri": "https://localhost:8080/"
        },
        "id": "uzfpwCR1fwfs",
        "outputId": "99b39546-aee2-46a6-9d9a-63128fb6bd90"
      },
      "execution_count": null,
      "outputs": [
        {
          "output_type": "stream",
          "name": "stderr",
          "text": [
            "<ipython-input-213-bef63808debc>:3: FutureWarning: The default value of regex will change from True to False in a future version.\n",
            "  df_furtos.loc[filtrointerno, 'modelo'] = df_furtos.loc[filtrointerno, 'modelo'].str.replace(rf'{valor}.*', valor)\n"
          ]
        }
      ]
    },
    {
      "cell_type": "code",
      "source": [
        "df_furtos.groupby(['modelo']).size().sort_values(ascending=False).head(20)"
      ],
      "metadata": {
        "colab": {
          "base_uri": "https://localhost:8080/"
        },
        "id": "Hqrc1JLdf21n",
        "outputId": "678b72a2-d8ba-47ca-e21d-8c833c4edfd4"
      },
      "execution_count": null,
      "outputs": [
        {
          "output_type": "execute_result",
          "data": {
            "text/plain": [
              "modelo\n",
              "HONDA/CG           15906\n",
              "FIAT/UNO            9820\n",
              "VW/GOL              9528\n",
              "HYUNDAI/HB20        8155\n",
              "CHEVROLET/ONIX      7360\n",
              "FIAT/PALIO          7059\n",
              "GM/CORSA            6728\n",
              "FORD/KA             5412\n",
              "VW/NOVO             4753\n",
              "HONDA/PCX           4280\n",
              "FORD/FIESTA         3908\n",
              "HONDA/CB            3510\n",
              "VW/FOX              3378\n",
              "FIAT/MOBI           3044\n",
              "HONDA/XRE           2834\n",
              "VW/VOYAGE           2582\n",
              "RENAULT/SANDERO     2549\n",
              "FIAT/SIENA          2428\n",
              "CHEV/PRISMA         2215\n",
              "I/HYUNDAI I30       1795\n",
              "dtype: int64"
            ]
          },
          "metadata": {},
          "execution_count": 214
        }
      ]
    },
    {
      "cell_type": "code",
      "source": [
        "# Consultas pra ver inconsistências restantes\n",
        "filtrointerno = df_furtos.modelo.fillna('').str.contains('CB')#& df_furtos.modelo.fillna('').str.contains('HYUNDAI')\n",
        "df_furtos.loc[filtrointerno].groupby(['modelo']).size().sort_values(ascending=False)"
      ],
      "metadata": {
        "colab": {
          "base_uri": "https://localhost:8080/"
        },
        "id": "ZNJf8mA1fFJy",
        "outputId": "30217cb5-83f9-42df-f7c1-7e79d2c3d6d5"
      },
      "execution_count": null,
      "outputs": [
        {
          "output_type": "execute_result",
          "data": {
            "text/plain": [
              "modelo\n",
              "HONDA/CB              3510\n",
              "I/HONDA CBR             44\n",
              "I/HONDA CB              24\n",
              "I/HONDA CB250            9\n",
              "I/HONDA CB750F           3\n",
              "I/HONDA CB350            2\n",
              "I/HONDA CB500            2\n",
              "I/HONDA CB600F           2\n",
              "I/HONDA CBX              2\n",
              "MR/JCB                   2\n",
              "I/HONDA CB550            1\n",
              "SCANIA/P124CB6X4NZ       1\n",
              "dtype: int64"
            ]
          },
          "metadata": {},
          "execution_count": 215
        }
      ]
    },
    {
      "cell_type": "code",
      "source": [
        "#Corrigindo inconsistência do GOL\n",
        "df_furtos.modelo.replace(to_replace =\"I/VW GOL\",value = 'VW/GOL', regex=True,inplace=True)"
      ],
      "metadata": {
        "id": "QfiN_L5XgZJl"
      },
      "execution_count": null,
      "outputs": []
    },
    {
      "cell_type": "code",
      "source": [
        "#HB20\n",
        "df_furtos.modelo.replace(to_replace =\"I/HYUNDAI HB20\",value = 'HYUNDAI/HB20', regex=True,inplace=True)\n",
        "df_furtos.modelo.replace(to_replace =\"HYUNDAY/HB2010TM\",value = 'HYUNDAI/HB20', regex=True,inplace=True)"
      ],
      "metadata": {
        "id": "fJl7x0Ulg4zR"
      },
      "execution_count": null,
      "outputs": []
    },
    {
      "cell_type": "code",
      "source": [
        "#ONIX\n",
        "df_furtos.modelo.replace(to_replace =\"CHEV/ONIX\",value = 'CHEVROLET/ONIX', regex=True,inplace=True)"
      ],
      "metadata": {
        "id": "h5WdPgFnhjWB"
      },
      "execution_count": null,
      "outputs": []
    },
    {
      "cell_type": "code",
      "source": [
        "#PALIO\n",
        "df_furtos.modelo.replace(to_replace =\"I/FIAT PALIO\",value = 'FIAT/PALIO', regex=True,inplace=True)"
      ],
      "metadata": {
        "id": "wpdQNRgUhyXN"
      },
      "execution_count": null,
      "outputs": []
    },
    {
      "cell_type": "code",
      "source": [
        "#CORSA\n",
        "df_furtos.modelo.replace(to_replace =\"I/GM CORSA\",value = 'GM/CORSA', regex=True,inplace=True)"
      ],
      "metadata": {
        "id": "jWmgyijKiHL2"
      },
      "execution_count": null,
      "outputs": []
    },
    {
      "cell_type": "code",
      "source": [
        "#NOVO\n",
        "df_furtos.modelo.replace(to_replace =\"I/VW NOVO\",value = 'VW/NOVO', regex=True,inplace=True)"
      ],
      "metadata": {
        "id": "c5bzmqhRiuOn"
      },
      "execution_count": null,
      "outputs": []
    },
    {
      "cell_type": "code",
      "source": [
        "#FIESTA\n",
        "df_furtos.modelo.replace(to_replace =\"I/FORD FIESTA\",value = 'FORD/FIESTA', regex=True,inplace=True)"
      ],
      "metadata": {
        "id": "YQjPIxUKi6un"
      },
      "execution_count": null,
      "outputs": []
    },
    {
      "cell_type": "code",
      "source": [
        "#HONDA CB\n",
        "lista_modelos = df_furtos.loc[filtrointerno].groupby(['modelo']).size().sort_values(ascending=False).index.tolist()\n",
        "lista_modelos.remove('I/HONDA CBR')\n",
        "lista_modelos.remove('I/HONDA CBX')\n",
        "\n",
        "for veiculo in lista_modelos:\n",
        "  df_furtos.modelo.replace(to_replace =veiculo,value = 'HONDA/CB', regex=True,inplace=True)\n",
        "# lista_modelos"
      ],
      "metadata": {
        "id": "P_C-9R0AkTxN"
      },
      "execution_count": null,
      "outputs": []
    },
    {
      "cell_type": "code",
      "source": [
        "lista_modelos = df_furtos.loc[filtrointerno].groupby(['modelo']).size().sort_values(ascending=False).index.tolist()\n",
        "lista_modelos.remove('HONDA/CBR')\n",
        "lista_modelos.remove('HONDA/CBX')\n",
        "for veiculo in lista_modelos:\n",
        "  df_furtos.modelo.replace(to_replace =veiculo,value = 'HONDA/CB', regex=True,inplace=True)"
      ],
      "metadata": {
        "id": "Z_Cv25XMP__s"
      },
      "execution_count": null,
      "outputs": []
    },
    {
      "cell_type": "code",
      "source": [
        "#FOX\n",
        "df_furtos.modelo.replace(to_replace =\"I/VW FOX\",value = 'VW/FOX', regex=True,inplace=True)"
      ],
      "metadata": {
        "id": "amiHke7N19BW"
      },
      "execution_count": null,
      "outputs": []
    },
    {
      "cell_type": "code",
      "source": [
        "#SIENA\n",
        "df_furtos.modelo.replace(to_replace =\"I/FIAT SIENA\",value = 'FIAT/SIENA', regex=True,inplace=True)"
      ],
      "metadata": {
        "id": "nrR7mKjG2t3x"
      },
      "execution_count": null,
      "outputs": []
    },
    {
      "cell_type": "code",
      "source": [
        "#SANDERO\n",
        "df_furtos.modelo.replace(to_replace =\"I/RENAULT SANDERO\",value = 'RENAULT/SANDERO', regex=True,inplace=True)"
      ],
      "metadata": {
        "id": "F9KD_HHK3SL5"
      },
      "execution_count": null,
      "outputs": []
    },
    {
      "cell_type": "code",
      "source": [
        "#PRISMA\n",
        "df_furtos.modelo.replace(to_replace =\"CHEV/PRISMA\",value = 'CHEVROLET/PRISMA', regex=True,inplace=True)\n",
        "df_furtos.modelo.replace(to_replace =\"GM/PRISMA\",value = 'CHEVROLET/PRISMA', regex=True,inplace=True)"
      ],
      "metadata": {
        "id": "Z4fZvjLI3ptR"
      },
      "execution_count": null,
      "outputs": []
    },
    {
      "cell_type": "code",
      "source": [
        "df_furtos.groupby('DESCR_TIPO_VEICULO',dropna=False).size().sort_values(ascending=False).plot.bar(figsize=(8,6))"
      ],
      "metadata": {
        "colab": {
          "base_uri": "https://localhost:8080/",
          "height": 680
        },
        "id": "WSQLGkZl8DZI",
        "outputId": "f8a0dde6-0c51-42e3-e22e-8b08836af0fa"
      },
      "execution_count": null,
      "outputs": [
        {
          "output_type": "execute_result",
          "data": {
            "text/plain": [
              "<Axes: xlabel='DESCR_TIPO_VEICULO'>"
            ]
          },
          "metadata": {},
          "execution_count": 229
        },
        {
          "output_type": "display_data",
          "data": {
            "text/plain": [
              "<Figure size 800x600 with 1 Axes>"
            ],
            "image/png": "[encoded data removed]"
          },
          "metadata": {}
        }
      ]
    },
    {
      "cell_type": "code",
      "source": [
        "df_furtos.columns"
      ],
      "metadata": {
        "id": "-qh_yI-hDU2C",
        "colab": {
          "base_uri": "https://localhost:8080/"
        },
        "outputId": "9847c1f6-c7e1-4da6-d6d7-41487971c1dd"
      },
      "execution_count": null,
      "outputs": [
        {
          "output_type": "execute_result",
          "data": {
            "text/plain": [
              "Index(['ANO_BO', 'DATAOCORRENCIA', 'HORAOCORRENCIA', 'PERIDOOCORRENCIA',\n",
              "       'FLAGRANTE', 'LOGRADOURO', 'NUMERO', 'BAIRRO', 'CIDADE', 'UF',\n",
              "       'LATITUDE', 'LONGITUDE', 'DESCRICAOLOCAL', 'STATUS', 'UF_VEICULO',\n",
              "       'CIDADE_VEICULO', 'DESCR_COR_VEICULO', 'DESCR_MARCA_VEICULO',\n",
              "       'ANO_FABRICACAO', 'DESCR_TIPO_VEICULO', 'modelo'],\n",
              "      dtype='object')"
            ]
          },
          "metadata": {},
          "execution_count": 230
        }
      ]
    },
    {
      "cell_type": "code",
      "source": [
        "df_roubos.rename(columns={'ANO_BO': 'ANO', 'DATAOCORRENCIA': 'DATA DA OCORRÊNCIA',\n",
        "                          'PERIDOOCORRENCIA': 'PERÍODO DO DIA','NUMERO': 'NÚMERO',\n",
        "                          'DESCRICAOLOCAL':'DESCRIÇÃO DO LOCAL','UF_VEICULO':'UF DO VEÍCULO',\n",
        "                          'CIDADE_VEICULO':'CIDADE DO VEÍCULO','DESCR_COR_VEICULO':'COR DO VEÍCULO',\n",
        "                          'DESCR_MARCA_VEICULO':'VERSÃO DO VEÍCULO','ANO_FABRICACAO':'FABRICAÇÃO',\n",
        "                          'DESCR_TIPO_VEICULO':'TIPO DE VEÍCULO','modelo':'MODELO DO VEÍCULO'}, inplace=True)\n",
        "df_furtos.rename(columns={'ANO_BO': 'ANO', 'DATAOCORRENCIA': 'DATA DA OCORRÊNCIA',\n",
        "                          'PERIDOOCORRENCIA': 'PERÍODO DO DIA','NUMERO': 'NÚMERO',\n",
        "                          'DESCRICAOLOCAL':'DESCRIÇÃO DO LOCAL','UF_VEICULO':'UF DO VEÍCULO',\n",
        "                          'CIDADE_VEICULO':'CIDADE DO VEÍCULO','DESCR_COR_VEICULO':'COR DO VEÍCULO',\n",
        "                          'DESCR_MARCA_VEICULO':'VERSÃO DO VEÍCULO','ANO_FABRICACAO':'FABRICAÇÃO',\n",
        "                          'DESCR_TIPO_VEICULO':'TIPO DE VEÍCULO','modelo':'MODELO DO VEÍCULO'}, inplace=True)\n"
      ],
      "metadata": {
        "id": "daFRY3oG4eS5"
      },
      "execution_count": null,
      "outputs": []
    },
    {
      "cell_type": "code",
      "source": [
        "df_furtos.columns"
      ],
      "metadata": {
        "colab": {
          "base_uri": "https://localhost:8080/"
        },
        "id": "ynsasycD4jC4",
        "outputId": "7acccfd9-e4b3-40ba-c32f-2a4b3cb72836"
      },
      "execution_count": null,
      "outputs": [
        {
          "output_type": "execute_result",
          "data": {
            "text/plain": [
              "Index(['ANO', 'DATA DA OCORRÊNCIA', 'HORAOCORRENCIA', 'PERÍODO DO DIA',\n",
              "       'FLAGRANTE', 'LOGRADOURO', 'NÚMERO', 'BAIRRO', 'CIDADE', 'UF',\n",
              "       'LATITUDE', 'LONGITUDE', 'DESCRIÇÃO DO LOCAL', 'STATUS',\n",
              "       'UF DO VEÍCULO', 'CIDADE DO VEÍCULO', 'COR DO VEÍCULO',\n",
              "       'VERSÃO DO VEÍCULO', 'FABRICAÇÃO', 'TIPO DE VEÍCULO',\n",
              "       'MODELO DO VEÍCULO'],\n",
              "      dtype='object')"
            ]
          },
          "metadata": {},
          "execution_count": 232
        }
      ]
    },
    {
      "cell_type": "code",
      "source": [
        "df_furtos.isna().sum()*100/df_furtos.shape[0]"
      ],
      "metadata": {
        "colab": {
          "base_uri": "https://localhost:8080/"
        },
        "id": "1zSPpYFt4rzM",
        "outputId": "9b67c141-2f4f-44e0-a0a0-0e570170d1b3"
      },
      "execution_count": null,
      "outputs": [
        {
          "output_type": "execute_result",
          "data": {
            "text/plain": [
              "ANO                    0.000000\n",
              "DATA DA OCORRÊNCIA     0.000000\n",
              "HORAOCORRENCIA        15.190020\n",
              "PERÍODO DO DIA         0.000000\n",
              "FLAGRANTE              0.000000\n",
              "LOGRADOURO             5.004708\n",
              "NÚMERO                 0.000000\n",
              "BAIRRO                 0.977061\n",
              "CIDADE                 0.006848\n",
              "UF                     0.006848\n",
              "LATITUDE              10.480613\n",
              "LONGITUDE             10.480613\n",
              "DESCRIÇÃO DO LOCAL     0.000000\n",
              "STATUS                 0.000000\n",
              "UF DO VEÍCULO         13.259009\n",
              "CIDADE DO VEÍCULO     13.298810\n",
              "COR DO VEÍCULO        13.235898\n",
              "VERSÃO DO VEÍCULO     15.373192\n",
              "FABRICAÇÃO             3.222631\n",
              "TIPO DE VEÍCULO       13.356159\n",
              "MODELO DO VEÍCULO     15.373192\n",
              "dtype: float64"
            ]
          },
          "metadata": {},
          "execution_count": 233
        }
      ]
    },
    {
      "cell_type": "code",
      "source": [
        "df_roubos.isna().sum()*100/df_roubos.shape[0]"
      ],
      "metadata": {
        "colab": {
          "base_uri": "https://localhost:8080/"
        },
        "id": "8b2nEDsh9mrf",
        "outputId": "84faeb73-ee57-4e52-f700-55c79f26331b"
      },
      "execution_count": null,
      "outputs": [
        {
          "output_type": "execute_result",
          "data": {
            "text/plain": [
              "ANO                    0.000000\n",
              "DATA DA OCORRÊNCIA     0.000000\n",
              "HORAOCORRENCIA         2.567528\n",
              "PERÍODO DO DIA         0.000000\n",
              "FLAGRANTE              0.000000\n",
              "LOGRADOURO             4.479442\n",
              "NÚMERO                 0.000000\n",
              "BAIRRO                 0.710102\n",
              "CIDADE                 0.039987\n",
              "UF                     0.039987\n",
              "LATITUDE               6.843958\n",
              "LONGITUDE              6.843958\n",
              "DESCRIÇÃO DO LOCAL     0.000000\n",
              "STATUS                 0.000000\n",
              "UF DO VEÍCULO         29.254349\n",
              "CIDADE DO VEÍCULO     29.703875\n",
              "COR DO VEÍCULO        27.690016\n",
              "VERSÃO DO VEÍCULO     29.738589\n",
              "FABRICAÇÃO             3.353649\n",
              "ANO_MODELO            14.622121\n",
              "TIPO DE VEÍCULO       27.733958\n",
              "MODELO DO VEÍCULO     29.738589\n",
              "dtype: float64"
            ]
          },
          "metadata": {},
          "execution_count": 234
        }
      ]
    },
    {
      "cell_type": "code",
      "source": [
        "filtro = df_roubos['MODELO DO VEÍCULO'].isnull()\n",
        "df = df_roubos[filtro]\n",
        "df =df[['VERSÃO DO VEÍCULO','MODELO DO VEÍCULO' ]]\n",
        "filtro2 = df_roubos['VERSÃO DO VEÍCULO'].notnull()\n",
        "df[filtro2]"
      ],
      "metadata": {
        "colab": {
          "base_uri": "https://localhost:8080/",
          "height": 84
        },
        "id": "ZsGQve_E-CdD",
        "outputId": "4fb6450b-9fa4-46f6-eef0-61bf73157026"
      },
      "execution_count": null,
      "outputs": [
        {
          "output_type": "stream",
          "name": "stderr",
          "text": [
            "<ipython-input-235-bd0ff44c40c7>:5: UserWarning: Boolean Series key will be reindexed to match DataFrame index.\n",
            "  df[filtro2]\n"
          ]
        },
        {
          "output_type": "execute_result",
          "data": {
            "text/plain": [
              "Empty DataFrame\n",
              "Columns: [VERSÃO DO VEÍCULO, MODELO DO VEÍCULO]\n",
              "Index: []"
            ],
            "text/html": [
              "\n",
              "  <div id=\"df-c17b6420-76c2-4db2-b31b-6cadf73032f8\">\n",
              "    <div class=\"colab-df-container\">\n",
              "      <div>\n",
              "<style scoped>\n",
              "    .dataframe tbody tr th:only-of-type {\n",
              "        vertical-align: middle;\n",
              "    }\n",
              "\n",
              "    .dataframe tbody tr th {\n",
              "        vertical-align: top;\n",
              "    }\n",
              "\n",
              "    .dataframe thead th {\n",
              "        text-align: right;\n",
              "    }\n",
              "</style>\n",
              "<table border=\"1\" class=\"dataframe\">\n",
              "  <thead>\n",
              "    <tr style=\"text-align: right;\">\n",
              "      <th></th>\n",
              "      <th>VERSÃO DO VEÍCULO</th>\n",
              "      <th>MODELO DO VEÍCULO</th>\n",
              "    </tr>\n",
              "  </thead>\n",
              "  <tbody>\n",
              "  </tbody>\n",
              "</table>\n",
              "</div>\n",
              "      <button class=\"colab-df-convert\" onclick=\"convertToInteractive('df-c17b6420-76c2-4db2-b31b-6cadf73032f8')\"\n",
              "              title=\"Convert this dataframe to an interactive table.\"\n",
              "              style=\"display:none;\">\n",
              "        \n",
              "  <svg xmlns=\"http://www.w3.org/2000/svg\" height=\"24px\"viewBox=\"0 0 24 24\"\n",
              "       width=\"24px\">\n",
              "    <path d=\"M0 0h24v24H0V0z\" fill=\"none\"/>\n",
              "    <path d=\"M18.56 5.44l.94 2.06.94-2.06 2.06-.94-2.06-.94-.94-2.06-.94 2.06-2.06.94zm-11 1L8.5 8.5l.94-2.06 2.06-.94-2.06-.94L8.5 2.5l-.94 2.06-2.06.94zm10 10l.94 2.06.94-2.06 2.06-.94-2.06-.94-.94-2.06-.94 2.06-2.06.94z\"/><path d=\"M17.41 7.96l-1.37-1.37c-.4-.4-.92-.59-1.43-.59-.52 0-1.04.2-1.43.59L10.3 9.45l-7.72 7.72c-.78.78-.78 2.05 0 2.83L4 21.41c.39.39.9.59 1.41.59.51 0 1.02-.2 1.41-.59l7.78-7.78 2.81-2.81c.8-.78.8-2.07 0-2.86zM5.41 20L4 18.59l7.72-7.72 1.47 1.35L5.41 20z\"/>\n",
              "  </svg>\n",
              "      </button>\n",
              "      \n",
              "  <style>\n",
              "    .colab-df-container {\n",
              "      display:flex;\n",
              "      flex-wrap:wrap;\n",
              "      gap: 12px;\n",
              "    }\n",
              "\n",
              "    .colab-df-convert {\n",
              "      background-color: #E8F0FE;\n",
              "      border: none;\n",
              "      border-radius: 50%;\n",
              "      cursor: pointer;\n",
              "      display: none;\n",
              "      fill: #1967D2;\n",
              "      height: 32px;\n",
              "      padding: 0 0 0 0;\n",
              "      width: 32px;\n",
              "    }\n",
              "\n",
              "    .colab-df-convert:hover {\n",
              "      background-color: #E2EBFA;\n",
              "      box-shadow: 0px 1px 2px rgba(60, 64, 67, 0.3), 0px 1px 3px 1px rgba(60, 64, 67, 0.15);\n",
              "      fill: #174EA6;\n",
              "    }\n",
              "\n",
              "    [theme=dark] .colab-df-convert {\n",
              "      background-color: #3B4455;\n",
              "      fill: #D2E3FC;\n",
              "    }\n",
              "\n",
              "    [theme=dark] .colab-df-convert:hover {\n",
              "      background-color: #434B5C;\n",
              "      box-shadow: 0px 1px 3px 1px rgba(0, 0, 0, 0.15);\n",
              "      filter: drop-shadow(0px 1px 2px rgba(0, 0, 0, 0.3));\n",
              "      fill: #FFFFFF;\n",
              "    }\n",
              "  </style>\n",
              "\n",
              "      <script>\n",
              "        const buttonEl =\n",
              "          document.querySelector('#df-c17b6420-76c2-4db2-b31b-6cadf73032f8 button.colab-df-convert');\n",
              "        buttonEl.style.display =\n",
              "          google.colab.kernel.accessAllowed ? 'block' : 'none';\n",
              "\n",
              "        async function convertToInteractive(key) {\n",
              "          const element = document.querySelector('#df-c17b6420-76c2-4db2-b31b-6cadf73032f8');\n",
              "          const dataTable =\n",
              "            await google.colab.kernel.invokeFunction('convertToInteractive',\n",
              "                                                     [key], {});\n",
              "          if (!dataTable) return;\n",
              "\n",
              "          const docLinkHtml = 'Like what you see? Visit the ' +\n",
              "            '<a target=\"_blank\" href=https://colab.research.google.com/notebooks/data_table.ipynb>data table notebook</a>'\n",
              "            + ' to learn more about interactive tables.';\n",
              "          element.innerHTML = '';\n",
              "          dataTable['output_type'] = 'display_data';\n",
              "          await google.colab.output.renderOutput(dataTable, element);\n",
              "          const docLink = document.createElement('div');\n",
              "          docLink.innerHTML = docLinkHtml;\n",
              "          element.appendChild(docLink);\n",
              "        }\n",
              "      </script>\n",
              "    </div>\n",
              "  </div>\n",
              "  "
            ]
          },
          "metadata": {},
          "execution_count": 235
        }
      ]
    },
    {
      "cell_type": "code",
      "source": [
        "df_roubos.duplicated().sum()"
      ],
      "metadata": {
        "colab": {
          "base_uri": "https://localhost:8080/"
        },
        "id": "98xwHNw8RpFM",
        "outputId": "3b807c2d-956b-4377-ae64-a399248573d3"
      },
      "execution_count": null,
      "outputs": [
        {
          "output_type": "execute_result",
          "data": {
            "text/plain": [
              "97074"
            ]
          },
          "metadata": {},
          "execution_count": 236
        }
      ]
    },
    {
      "cell_type": "code",
      "source": [
        "df_roubos = df_roubos.drop_duplicates()"
      ],
      "metadata": {
        "id": "i_r5N5jzSado"
      },
      "execution_count": null,
      "outputs": []
    },
    {
      "cell_type": "code",
      "source": [
        "df_roubos.duplicated().sum()"
      ],
      "metadata": {
        "colab": {
          "base_uri": "https://localhost:8080/"
        },
        "id": "eUOwAM4LSiVh",
        "outputId": "7df8763b-83a2-48ac-94cb-e23332a596e4"
      },
      "execution_count": null,
      "outputs": [
        {
          "output_type": "execute_result",
          "data": {
            "text/plain": [
              "0"
            ]
          },
          "metadata": {},
          "execution_count": 238
        }
      ]
    },
    {
      "cell_type": "code",
      "source": [
        "df_furtos.duplicated().sum()"
      ],
      "metadata": {
        "colab": {
          "base_uri": "https://localhost:8080/"
        },
        "id": "W_PvHOXER1S9",
        "outputId": "26859434-0362-44bd-ed17-fa0e8f0d80af"
      },
      "execution_count": null,
      "outputs": [
        {
          "output_type": "execute_result",
          "data": {
            "text/plain": [
              "38002"
            ]
          },
          "metadata": {},
          "execution_count": 239
        }
      ]
    },
    {
      "cell_type": "code",
      "source": [
        "df_furtos = df_furtos.drop_duplicates()"
      ],
      "metadata": {
        "id": "d-CUfsMsSkC7"
      },
      "execution_count": null,
      "outputs": []
    },
    {
      "cell_type": "code",
      "source": [
        "df_furtos.duplicated().sum()"
      ],
      "metadata": {
        "colab": {
          "base_uri": "https://localhost:8080/"
        },
        "id": "hW3irmk8So2Q",
        "outputId": "8e15e655-4ab3-44fc-ca81-17afce56e07f"
      },
      "execution_count": null,
      "outputs": [
        {
          "output_type": "execute_result",
          "data": {
            "text/plain": [
              "0"
            ]
          },
          "metadata": {},
          "execution_count": 241
        }
      ]
    },
    {
      "cell_type": "markdown",
      "source": [
        "#Exportandos os arquivos CSV"
      ],
      "metadata": {
        "id": "FyuOCflLtbAy"
      }
    },
    {
      "cell_type": "code",
      "source": [
        "df_furtos.to_csv('furtos_tratados.csv', index=False)"
      ],
      "metadata": {
        "id": "B9ucv1rDtfAj"
      },
      "execution_count": null,
      "outputs": []
    },
    {
      "cell_type": "code",
      "source": [
        "df_roubos.to_csv('roubos_tratados.csv', index=False)\n"
      ],
      "metadata": {
        "id": "VeX-JTvXt9B3"
      },
      "execution_count": null,
      "outputs": []
    },
    {
      "cell_type": "markdown",
      "source": [
        "#MongoDB"
      ],
      "metadata": {
        "id": "_3S_52EfXjuO"
      }
    },
    {
      "cell_type": "code",
      "source": [
        "pip install pymongo\n"
      ],
      "metadata": {
        "colab": {
          "base_uri": "https://localhost:8080/"
        },
        "id": "mZtyaExPYHg1",
        "outputId": "10409721-c26c-40c1-a7f9-99a2aee90ef9"
      },
      "execution_count": null,
      "outputs": [
        {
          "output_type": "stream",
          "name": "stdout",
          "text": [
            "Looking in indexes: https://pypi.org/simple, https://us-python.pkg.dev/colab-wheels/public/simple/\n",
            "Collecting pymongo\n",
            "  Downloading pymongo-4.3.3-cp310-cp310-manylinux_2_17_x86_64.manylinux2014_x86_64.whl (492 kB)\n",
            "\u001b[2K     \u001b[90m━━━━━━━━━━━━━━━━━━━━━━━━━━━━━━━━━━━━━━\u001b[0m \u001b[32m492.9/492.9 kB\u001b[0m \u001b[31m13.2 MB/s\u001b[0m eta \u001b[36m0:00:00\u001b[0m\n",
            "\u001b[?25hCollecting dnspython<3.0.0,>=1.16.0\n",
            "  Downloading dnspython-2.3.0-py3-none-any.whl (283 kB)\n",
            "\u001b[2K     \u001b[90m━━━━━━━━━━━━━━━━━━━━━━━━━━━━━━━━━━━━━━\u001b[0m \u001b[32m283.7/283.7 kB\u001b[0m \u001b[31m33.6 MB/s\u001b[0m eta \u001b[36m0:00:00\u001b[0m\n",
            "\u001b[?25hInstalling collected packages: dnspython, pymongo\n",
            "Successfully installed dnspython-2.3.0 pymongo-4.3.3\n"
          ]
        }
      ]
    },
    {
      "cell_type": "code",
      "source": [
        "import pymongo\n",
        "from pymongo import MongoClient\n",
        "\n",
        "uri = \"mongodb+srv://tomaz03.0fildnq.mongodb.net/?authSource=%24external&authMechanism=MONGODB-X509&retryWrites=true&w=majority\"\n",
        "client_mongo = MongoClient(uri,\n",
        "                     tls=True,\n",
        "                     tlsCertificateKeyFile='/content/X509-cert-3463438694104533343.pem')\n",
        "\n",
        "db = client_mongo['Tratados']\n",
        "colecao = db['roubos']"
      ],
      "metadata": {
        "id": "iBmUAHl0uMHr"
      },
      "execution_count": null,
      "outputs": []
    },
    {
      "cell_type": "code",
      "source": [
        "df_furtos.isna().sum()/df_furtos.shape[0]"
      ],
      "metadata": {
        "colab": {
          "base_uri": "https://localhost:8080/"
        },
        "id": "6fyXUUkwsL0j",
        "outputId": "b83086a4-e3e5-46cb-b910-a229d7b27ee3"
      },
      "execution_count": null,
      "outputs": [
        {
          "output_type": "execute_result",
          "data": {
            "text/plain": [
              "ANO                   0.000000\n",
              "DATA DA OCORRÊNCIA    0.000000\n",
              "HORAOCORRENCIA        0.159411\n",
              "PERÍODO DO DIA        0.000000\n",
              "FLAGRANTE             0.000000\n",
              "LOGRADOURO            0.041639\n",
              "NÚMERO                0.000000\n",
              "BAIRRO                0.011121\n",
              "CIDADE                0.000020\n",
              "UF                    0.000020\n",
              "LATITUDE              0.103395\n",
              "LONGITUDE             0.103395\n",
              "DESCRIÇÃO DO LOCAL    0.000000\n",
              "STATUS                0.000000\n",
              "UF DO VEÍCULO         0.083513\n",
              "CIDADE DO VEÍCULO     0.083973\n",
              "COR DO VEÍCULO        0.083283\n",
              "VERSÃO DO VEÍCULO     0.107785\n",
              "FABRICAÇÃO            0.036768\n",
              "TIPO DE VEÍCULO       0.084556\n",
              "MODELO DO VEÍCULO     0.107785\n",
              "dtype: float64"
            ]
          },
          "metadata": {},
          "execution_count": 247
        }
      ]
    },
    {
      "cell_type": "code",
      "source": [
        "df_furtos = df_furtos.astype(object).where(df_furtos['HORAOCORRENCIA'].notnull(), None)"
      ],
      "metadata": {
        "id": "GN89Ze2EnYND"
      },
      "execution_count": null,
      "outputs": []
    },
    {
      "cell_type": "code",
      "source": [
        "df_furtos.fillna('', inplace=True)"
      ],
      "metadata": {
        "id": "XGR55mQVaUoL"
      },
      "execution_count": null,
      "outputs": []
    },
    {
      "cell_type": "code",
      "source": [
        "df_furtos.info()"
      ],
      "metadata": {
        "colab": {
          "base_uri": "https://localhost:8080/"
        },
        "id": "iMMa5nxr33nG",
        "outputId": "3f5ff51d-c33c-44a4-b862-447032963f3c"
      },
      "execution_count": null,
      "outputs": [
        {
          "output_type": "stream",
          "name": "stdout",
          "text": [
            "<class 'pandas.core.frame.DataFrame'>\n",
            "Int64Index: 195658 entries, 0 to 233659\n",
            "Data columns (total 21 columns):\n",
            " #   Column              Non-Null Count   Dtype \n",
            "---  ------              --------------   ----- \n",
            " 0   ANO                 195658 non-null  object\n",
            " 1   DATA DA OCORRÊNCIA  195658 non-null  object\n",
            " 2   HORAOCORRENCIA      195658 non-null  object\n",
            " 3   PERÍODO DO DIA      195658 non-null  object\n",
            " 4   FLAGRANTE           195658 non-null  object\n",
            " 5   LOGRADOURO          195658 non-null  object\n",
            " 6   NÚMERO              195658 non-null  object\n",
            " 7   BAIRRO              195658 non-null  object\n",
            " 8   CIDADE              195658 non-null  object\n",
            " 9   UF                  195658 non-null  object\n",
            " 10  LATITUDE            195658 non-null  object\n",
            " 11  LONGITUDE           195658 non-null  object\n",
            " 12  DESCRIÇÃO DO LOCAL  195658 non-null  object\n",
            " 13  STATUS              195658 non-null  object\n",
            " 14  UF DO VEÍCULO       195658 non-null  object\n",
            " 15  CIDADE DO VEÍCULO   195658 non-null  object\n",
            " 16  COR DO VEÍCULO      195658 non-null  object\n",
            " 17  VERSÃO DO VEÍCULO   195658 non-null  object\n",
            " 18  FABRICAÇÃO          195658 non-null  object\n",
            " 19  TIPO DE VEÍCULO     195658 non-null  object\n",
            " 20  MODELO DO VEÍCULO   195658 non-null  object\n",
            "dtypes: object(21)\n",
            "memory usage: 32.8+ MB\n"
          ]
        }
      ]
    },
    {
      "cell_type": "code",
      "source": [
        "df_roubos = df_roubos.astype(object).where(df_roubos['HORAOCORRENCIA'].notnull(), None)\n",
        "df_roubos.fillna('', inplace=True)\n",
        "colecao.insert_many(df_roubos.to_dict(\"records\"))"
      ],
      "metadata": {
        "colab": {
          "base_uri": "https://localhost:8080/"
        },
        "id": "RApWmlfnxF3D",
        "outputId": "d0fca1cb-ca2c-4fff-c275-bef53a9f8062"
      },
      "execution_count": null,
      "outputs": [
        {
          "output_type": "execute_result",
          "data": {
            "text/plain": [
              "<pymongo.results.InsertManyResult at 0x7fb8bbdb8ca0>"
            ]
          },
          "metadata": {},
          "execution_count": 251
        }
      ]
    },
    {
      "cell_type": "code",
      "source": [
        "#import time\n",
        "colecao2 = db['furtos']\n",
        "\n",
        "colecao2.insert_many(df_furtos.to_dict(\"records\"))\n",
        "\n",
        "\n",
        "# while True:\n",
        "#     try:\n",
        "#         colecao2.insert_many(df_furtos.to_dict(\"records\"))\n",
        "#         break\n",
        "#     except Exception as e:\n",
        "#         print(\"Erro ao inserir no MongoDB. Tentando novamente em 5 segundos.\")\n",
        "#         print(e)\n",
        "#         time.sleep(5)"
      ],
      "metadata": {
        "id": "zQBXyK21Ybd0",
        "colab": {
          "base_uri": "https://localhost:8080/",
          "height": 432
        },
        "outputId": "5ea23096-5c14-42db-87c7-3a6c3006a21c"
      },
      "execution_count": null,
      "outputs": [
        {
          "output_type": "error",
          "ename": "AutoReconnect",
          "evalue": "ignored",
          "traceback": [
            "\u001b[0;31m---------------------------------------------------------------------------\u001b[0m",
            "\u001b[0;31mOSError\u001b[0m                                   Traceback (most recent call last)",
            "\u001b[0;32m/usr/local/lib/python3.10/dist-packages/pymongo/pool.py\u001b[0m in \u001b[0;36mreceive_message\u001b[0;34m(self, request_id)\u001b[0m\n\u001b[1;32m    818\u001b[0m         \u001b[0;32mtry\u001b[0m\u001b[0;34m:\u001b[0m\u001b[0;34m\u001b[0m\u001b[0;34m\u001b[0m\u001b[0m\n\u001b[0;32m--> 819\u001b[0;31m             \u001b[0;32mreturn\u001b[0m \u001b[0mreceive_message\u001b[0m\u001b[0;34m(\u001b[0m\u001b[0mself\u001b[0m\u001b[0;34m,\u001b[0m \u001b[0mrequest_id\u001b[0m\u001b[0;34m,\u001b[0m \u001b[0mself\u001b[0m\u001b[0;34m.\u001b[0m\u001b[0mmax_message_size\u001b[0m\u001b[0;34m)\u001b[0m\u001b[0;34m\u001b[0m\u001b[0;34m\u001b[0m\u001b[0m\n\u001b[0m\u001b[1;32m    820\u001b[0m         \u001b[0;32mexcept\u001b[0m \u001b[0mBaseException\u001b[0m \u001b[0;32mas\u001b[0m \u001b[0merror\u001b[0m\u001b[0;34m:\u001b[0m\u001b[0;34m\u001b[0m\u001b[0;34m\u001b[0m\u001b[0m\n",
            "\u001b[0;32m/usr/local/lib/python3.10/dist-packages/pymongo/network.py\u001b[0m in \u001b[0;36mreceive_message\u001b[0;34m(sock_info, request_id, max_message_size)\u001b[0m\n\u001b[1;32m    216\u001b[0m     length, _, response_to, op_code = _UNPACK_HEADER(\n\u001b[0;32m--> 217\u001b[0;31m         \u001b[0m_receive_data_on_socket\u001b[0m\u001b[0;34m(\u001b[0m\u001b[0msock_info\u001b[0m\u001b[0;34m,\u001b[0m \u001b[0;36m16\u001b[0m\u001b[0;34m,\u001b[0m \u001b[0mdeadline\u001b[0m\u001b[0;34m)\u001b[0m\u001b[0;34m\u001b[0m\u001b[0;34m\u001b[0m\u001b[0m\n\u001b[0m\u001b[1;32m    218\u001b[0m     )\n",
            "\u001b[0;32m/usr/local/lib/python3.10/dist-packages/pymongo/network.py\u001b[0m in \u001b[0;36m_receive_data_on_socket\u001b[0;34m(sock_info, length, deadline)\u001b[0m\n\u001b[1;32m    306\u001b[0m         \u001b[0;32mif\u001b[0m \u001b[0mchunk_length\u001b[0m \u001b[0;34m==\u001b[0m \u001b[0;36m0\u001b[0m\u001b[0;34m:\u001b[0m\u001b[0;34m\u001b[0m\u001b[0;34m\u001b[0m\u001b[0m\n\u001b[0;32m--> 307\u001b[0;31m             \u001b[0;32mraise\u001b[0m \u001b[0mOSError\u001b[0m\u001b[0;34m(\u001b[0m\u001b[0;34m\"connection closed\"\u001b[0m\u001b[0;34m)\u001b[0m\u001b[0;34m\u001b[0m\u001b[0;34m\u001b[0m\u001b[0m\n\u001b[0m\u001b[1;32m    308\u001b[0m \u001b[0;34m\u001b[0m\u001b[0m\n",
            "\u001b[0;31mOSError\u001b[0m: connection closed",
            "\nThe above exception was the direct cause of the following exception:\n",
            "\u001b[0;31mAutoReconnect\u001b[0m                             Traceback (most recent call last)",
            "\u001b[0;32m<ipython-input-252-7a374b26a2a1>\u001b[0m in \u001b[0;36m<cell line: 4>\u001b[0;34m()\u001b[0m\n\u001b[1;32m      2\u001b[0m \u001b[0mcolecao2\u001b[0m \u001b[0;34m=\u001b[0m \u001b[0mdb\u001b[0m\u001b[0;34m[\u001b[0m\u001b[0;34m'furtos'\u001b[0m\u001b[0;34m]\u001b[0m\u001b[0;34m\u001b[0m\u001b[0;34m\u001b[0m\u001b[0m\n\u001b[1;32m      3\u001b[0m \u001b[0;34m\u001b[0m\u001b[0m\n\u001b[0;32m----> 4\u001b[0;31m \u001b[0mcolecao2\u001b[0m\u001b[0;34m.\u001b[0m\u001b[0minsert_many\u001b[0m\u001b[0;34m(\u001b[0m\u001b[0mdf_furtos\u001b[0m\u001b[0;34m.\u001b[0m\u001b[0mto_dict\u001b[0m\u001b[0;34m(\u001b[0m\u001b[0;34m\"records\"\u001b[0m\u001b[0;34m)\u001b[0m\u001b[0;34m)\u001b[0m\u001b[0;34m\u001b[0m\u001b[0;34m\u001b[0m\u001b[0m\n\u001b[0m\u001b[1;32m      5\u001b[0m \u001b[0;34m\u001b[0m\u001b[0m\n\u001b[1;32m      6\u001b[0m \u001b[0;34m\u001b[0m\u001b[0m\n",
            "\u001b[0;32m/usr/local/lib/python3.10/dist-packages/pymongo/_csot.py\u001b[0m in \u001b[0;36mcsot_wrapper\u001b[0;34m(self, *args, **kwargs)\u001b[0m\n\u001b[1;32m    103\u001b[0m                 \u001b[0;32mwith\u001b[0m \u001b[0m_TimeoutContext\u001b[0m\u001b[0;34m(\u001b[0m\u001b[0mtimeout\u001b[0m\u001b[0;34m)\u001b[0m\u001b[0;34m:\u001b[0m\u001b[0;34m\u001b[0m\u001b[0;34m\u001b[0m\u001b[0m\n\u001b[1;32m    104\u001b[0m                     \u001b[0;32mreturn\u001b[0m \u001b[0mfunc\u001b[0m\u001b[0;34m(\u001b[0m\u001b[0mself\u001b[0m\u001b[0;34m,\u001b[0m \u001b[0;34m*\u001b[0m\u001b[0margs\u001b[0m\u001b[0;34m,\u001b[0m \u001b[0;34m**\u001b[0m\u001b[0mkwargs\u001b[0m\u001b[0;34m)\u001b[0m\u001b[0;34m\u001b[0m\u001b[0;34m\u001b[0m\u001b[0m\n\u001b[0;32m--> 105\u001b[0;31m         \u001b[0;32mreturn\u001b[0m \u001b[0mfunc\u001b[0m\u001b[0;34m(\u001b[0m\u001b[0mself\u001b[0m\u001b[0;34m,\u001b[0m \u001b[0;34m*\u001b[0m\u001b[0margs\u001b[0m\u001b[0;34m,\u001b[0m \u001b[0;34m**\u001b[0m\u001b[0mkwargs\u001b[0m\u001b[0;34m)\u001b[0m\u001b[0;34m\u001b[0m\u001b[0;34m\u001b[0m\u001b[0m\n\u001b[0m\u001b[1;32m    106\u001b[0m \u001b[0;34m\u001b[0m\u001b[0m\n\u001b[1;32m    107\u001b[0m     \u001b[0;32mreturn\u001b[0m \u001b[0mcast\u001b[0m\u001b[0;34m(\u001b[0m\u001b[0mF\u001b[0m\u001b[0;34m,\u001b[0m \u001b[0mcsot_wrapper\u001b[0m\u001b[0;34m)\u001b[0m\u001b[0;34m\u001b[0m\u001b[0;34m\u001b[0m\u001b[0m\n",
            "\u001b[0;32m/usr/local/lib/python3.10/dist-packages/pymongo/collection.py\u001b[0m in \u001b[0;36minsert_many\u001b[0;34m(self, documents, ordered, bypass_document_validation, session, comment)\u001b[0m\n\u001b[1;32m    712\u001b[0m         \u001b[0mblk\u001b[0m \u001b[0;34m=\u001b[0m \u001b[0m_Bulk\u001b[0m\u001b[0;34m(\u001b[0m\u001b[0mself\u001b[0m\u001b[0;34m,\u001b[0m \u001b[0mordered\u001b[0m\u001b[0;34m,\u001b[0m \u001b[0mbypass_document_validation\u001b[0m\u001b[0;34m,\u001b[0m \u001b[0mcomment\u001b[0m\u001b[0;34m=\u001b[0m\u001b[0mcomment\u001b[0m\u001b[0;34m)\u001b[0m\u001b[0;34m\u001b[0m\u001b[0;34m\u001b[0m\u001b[0m\n\u001b[1;32m    713\u001b[0m         \u001b[0mblk\u001b[0m\u001b[0;34m.\u001b[0m\u001b[0mops\u001b[0m \u001b[0;34m=\u001b[0m \u001b[0;34m[\u001b[0m\u001b[0mdoc\u001b[0m \u001b[0;32mfor\u001b[0m \u001b[0mdoc\u001b[0m \u001b[0;32min\u001b[0m \u001b[0mgen\u001b[0m\u001b[0;34m(\u001b[0m\u001b[0;34m)\u001b[0m\u001b[0;34m]\u001b[0m\u001b[0;34m\u001b[0m\u001b[0;34m\u001b[0m\u001b[0m\n\u001b[0;32m--> 714\u001b[0;31m         \u001b[0mblk\u001b[0m\u001b[0;34m.\u001b[0m\u001b[0mexecute\u001b[0m\u001b[0;34m(\u001b[0m\u001b[0mwrite_concern\u001b[0m\u001b[0;34m,\u001b[0m \u001b[0msession\u001b[0m\u001b[0;34m=\u001b[0m\u001b[0msession\u001b[0m\u001b[0;34m)\u001b[0m\u001b[0;34m\u001b[0m\u001b[0;34m\u001b[0m\u001b[0m\n\u001b[0m\u001b[1;32m    715\u001b[0m         \u001b[0;32mreturn\u001b[0m \u001b[0mInsertManyResult\u001b[0m\u001b[0;34m(\u001b[0m\u001b[0minserted_ids\u001b[0m\u001b[0;34m,\u001b[0m \u001b[0mwrite_concern\u001b[0m\u001b[0;34m.\u001b[0m\u001b[0macknowledged\u001b[0m\u001b[0;34m)\u001b[0m\u001b[0;34m\u001b[0m\u001b[0;34m\u001b[0m\u001b[0m\n\u001b[1;32m    716\u001b[0m \u001b[0;34m\u001b[0m\u001b[0m\n",
            "\u001b[0;32m/usr/local/lib/python3.10/dist-packages/pymongo/bulk.py\u001b[0m in \u001b[0;36mexecute\u001b[0;34m(self, write_concern, session)\u001b[0m\n\u001b[1;32m    511\u001b[0m                 \u001b[0mself\u001b[0m\u001b[0;34m.\u001b[0m\u001b[0mexecute_no_results\u001b[0m\u001b[0;34m(\u001b[0m\u001b[0msock_info\u001b[0m\u001b[0;34m,\u001b[0m \u001b[0mgenerator\u001b[0m\u001b[0;34m,\u001b[0m \u001b[0mwrite_concern\u001b[0m\u001b[0;34m)\u001b[0m\u001b[0;34m\u001b[0m\u001b[0;34m\u001b[0m\u001b[0m\n\u001b[1;32m    512\u001b[0m         \u001b[0;32melse\u001b[0m\u001b[0;34m:\u001b[0m\u001b[0;34m\u001b[0m\u001b[0;34m\u001b[0m\u001b[0m\n\u001b[0;32m--> 513\u001b[0;31m             \u001b[0;32mreturn\u001b[0m \u001b[0mself\u001b[0m\u001b[0;34m.\u001b[0m\u001b[0mexecute_command\u001b[0m\u001b[0;34m(\u001b[0m\u001b[0mgenerator\u001b[0m\u001b[0;34m,\u001b[0m \u001b[0mwrite_concern\u001b[0m\u001b[0;34m,\u001b[0m \u001b[0msession\u001b[0m\u001b[0;34m)\u001b[0m\u001b[0;34m\u001b[0m\u001b[0;34m\u001b[0m\u001b[0m\n\u001b[0m",
            "\u001b[0;32m/usr/local/lib/python3.10/dist-packages/pymongo/bulk.py\u001b[0m in \u001b[0;36mexecute_command\u001b[0;34m(self, generator, write_concern, session)\u001b[0m\n\u001b[1;32m    389\u001b[0m         \u001b[0mclient\u001b[0m \u001b[0;34m=\u001b[0m \u001b[0mself\u001b[0m\u001b[0;34m.\u001b[0m\u001b[0mcollection\u001b[0m\u001b[0;34m.\u001b[0m\u001b[0mdatabase\u001b[0m\u001b[0;34m.\u001b[0m\u001b[0mclient\u001b[0m\u001b[0;34m\u001b[0m\u001b[0;34m\u001b[0m\u001b[0m\n\u001b[1;32m    390\u001b[0m         \u001b[0;32mwith\u001b[0m \u001b[0mclient\u001b[0m\u001b[0;34m.\u001b[0m\u001b[0m_tmp_session\u001b[0m\u001b[0;34m(\u001b[0m\u001b[0msession\u001b[0m\u001b[0;34m)\u001b[0m \u001b[0;32mas\u001b[0m \u001b[0ms\u001b[0m\u001b[0;34m:\u001b[0m\u001b[0;34m\u001b[0m\u001b[0;34m\u001b[0m\u001b[0m\n\u001b[0;32m--> 391\u001b[0;31m             \u001b[0mclient\u001b[0m\u001b[0;34m.\u001b[0m\u001b[0m_retry_with_session\u001b[0m\u001b[0;34m(\u001b[0m\u001b[0mself\u001b[0m\u001b[0;34m.\u001b[0m\u001b[0mis_retryable\u001b[0m\u001b[0;34m,\u001b[0m \u001b[0mretryable_bulk\u001b[0m\u001b[0;34m,\u001b[0m \u001b[0ms\u001b[0m\u001b[0;34m,\u001b[0m \u001b[0mself\u001b[0m\u001b[0;34m)\u001b[0m\u001b[0;34m\u001b[0m\u001b[0;34m\u001b[0m\u001b[0m\n\u001b[0m\u001b[1;32m    392\u001b[0m \u001b[0;34m\u001b[0m\u001b[0m\n\u001b[1;32m    393\u001b[0m         \u001b[0;32mif\u001b[0m \u001b[0mfull_result\u001b[0m\u001b[0;34m[\u001b[0m\u001b[0;34m\"writeErrors\"\u001b[0m\u001b[0;34m]\u001b[0m \u001b[0;32mor\u001b[0m \u001b[0mfull_result\u001b[0m\u001b[0;34m[\u001b[0m\u001b[0;34m\"writeConcernErrors\"\u001b[0m\u001b[0;34m]\u001b[0m\u001b[0;34m:\u001b[0m\u001b[0;34m\u001b[0m\u001b[0;34m\u001b[0m\u001b[0m\n",
            "\u001b[0;32m/usr/local/lib/python3.10/dist-packages/pymongo/mongo_client.py\u001b[0m in \u001b[0;36m_retry_with_session\u001b[0;34m(self, retryable, func, session, bulk)\u001b[0m\n\u001b[1;32m   1347\u001b[0m             \u001b[0mretryable\u001b[0m \u001b[0;32mand\u001b[0m \u001b[0mself\u001b[0m\u001b[0;34m.\u001b[0m\u001b[0moptions\u001b[0m\u001b[0;34m.\u001b[0m\u001b[0mretry_writes\u001b[0m \u001b[0;32mand\u001b[0m \u001b[0msession\u001b[0m \u001b[0;32mand\u001b[0m \u001b[0;32mnot\u001b[0m \u001b[0msession\u001b[0m\u001b[0;34m.\u001b[0m\u001b[0min_transaction\u001b[0m\u001b[0;34m\u001b[0m\u001b[0;34m\u001b[0m\u001b[0m\n\u001b[1;32m   1348\u001b[0m         )\n\u001b[0;32m-> 1349\u001b[0;31m         \u001b[0;32mreturn\u001b[0m \u001b[0mself\u001b[0m\u001b[0;34m.\u001b[0m\u001b[0m_retry_internal\u001b[0m\u001b[0;34m(\u001b[0m\u001b[0mretryable\u001b[0m\u001b[0;34m,\u001b[0m \u001b[0mfunc\u001b[0m\u001b[0;34m,\u001b[0m \u001b[0msession\u001b[0m\u001b[0;34m,\u001b[0m \u001b[0mbulk\u001b[0m\u001b[0;34m)\u001b[0m\u001b[0;34m\u001b[0m\u001b[0;34m\u001b[0m\u001b[0m\n\u001b[0m\u001b[1;32m   1350\u001b[0m \u001b[0;34m\u001b[0m\u001b[0m\n\u001b[1;32m   1351\u001b[0m     \u001b[0;34m@\u001b[0m\u001b[0m_csot\u001b[0m\u001b[0;34m.\u001b[0m\u001b[0mapply\u001b[0m\u001b[0;34m\u001b[0m\u001b[0;34m\u001b[0m\u001b[0m\n",
            "\u001b[0;32m/usr/local/lib/python3.10/dist-packages/pymongo/_csot.py\u001b[0m in \u001b[0;36mcsot_wrapper\u001b[0;34m(self, *args, **kwargs)\u001b[0m\n\u001b[1;32m    103\u001b[0m                 \u001b[0;32mwith\u001b[0m \u001b[0m_TimeoutContext\u001b[0m\u001b[0;34m(\u001b[0m\u001b[0mtimeout\u001b[0m\u001b[0;34m)\u001b[0m\u001b[0;34m:\u001b[0m\u001b[0;34m\u001b[0m\u001b[0;34m\u001b[0m\u001b[0m\n\u001b[1;32m    104\u001b[0m                     \u001b[0;32mreturn\u001b[0m \u001b[0mfunc\u001b[0m\u001b[0;34m(\u001b[0m\u001b[0mself\u001b[0m\u001b[0;34m,\u001b[0m \u001b[0;34m*\u001b[0m\u001b[0margs\u001b[0m\u001b[0;34m,\u001b[0m \u001b[0;34m**\u001b[0m\u001b[0mkwargs\u001b[0m\u001b[0;34m)\u001b[0m\u001b[0;34m\u001b[0m\u001b[0;34m\u001b[0m\u001b[0m\n\u001b[0;32m--> 105\u001b[0;31m         \u001b[0;32mreturn\u001b[0m \u001b[0mfunc\u001b[0m\u001b[0;34m(\u001b[0m\u001b[0mself\u001b[0m\u001b[0;34m,\u001b[0m \u001b[0;34m*\u001b[0m\u001b[0margs\u001b[0m\u001b[0;34m,\u001b[0m \u001b[0;34m**\u001b[0m\u001b[0mkwargs\u001b[0m\u001b[0;34m)\u001b[0m\u001b[0;34m\u001b[0m\u001b[0;34m\u001b[0m\u001b[0m\n\u001b[0m\u001b[1;32m    106\u001b[0m \u001b[0;34m\u001b[0m\u001b[0m\n\u001b[1;32m    107\u001b[0m     \u001b[0;32mreturn\u001b[0m \u001b[0mcast\u001b[0m\u001b[0;34m(\u001b[0m\u001b[0mF\u001b[0m\u001b[0;34m,\u001b[0m \u001b[0mcsot_wrapper\u001b[0m\u001b[0;34m)\u001b[0m\u001b[0;34m\u001b[0m\u001b[0;34m\u001b[0m\u001b[0m\n",
            "\u001b[0;32m/usr/local/lib/python3.10/dist-packages/pymongo/mongo_client.py\u001b[0m in \u001b[0;36m_retry_internal\u001b[0;34m(self, retryable, func, session, bulk)\u001b[0m\n\u001b[1;32m   1388\u001b[0m                             \u001b[0;32mraise\u001b[0m \u001b[0mlast_error\u001b[0m\u001b[0;34m\u001b[0m\u001b[0;34m\u001b[0m\u001b[0m\n\u001b[1;32m   1389\u001b[0m                         \u001b[0mretryable\u001b[0m \u001b[0;34m=\u001b[0m \u001b[0;32mFalse\u001b[0m\u001b[0;34m\u001b[0m\u001b[0;34m\u001b[0m\u001b[0m\n\u001b[0;32m-> 1390\u001b[0;31m                     \u001b[0;32mreturn\u001b[0m \u001b[0mfunc\u001b[0m\u001b[0;34m(\u001b[0m\u001b[0msession\u001b[0m\u001b[0;34m,\u001b[0m \u001b[0msock_info\u001b[0m\u001b[0;34m,\u001b[0m \u001b[0mretryable\u001b[0m\u001b[0;34m)\u001b[0m\u001b[0;34m\u001b[0m\u001b[0;34m\u001b[0m\u001b[0m\n\u001b[0m\u001b[1;32m   1391\u001b[0m             \u001b[0;32mexcept\u001b[0m \u001b[0mServerSelectionTimeoutError\u001b[0m\u001b[0;34m:\u001b[0m\u001b[0;34m\u001b[0m\u001b[0;34m\u001b[0m\u001b[0m\n\u001b[1;32m   1392\u001b[0m                 \u001b[0;32mif\u001b[0m \u001b[0mis_retrying\u001b[0m\u001b[0;34m(\u001b[0m\u001b[0;34m)\u001b[0m\u001b[0;34m:\u001b[0m\u001b[0;34m\u001b[0m\u001b[0;34m\u001b[0m\u001b[0m\n",
            "\u001b[0;32m/usr/local/lib/python3.10/dist-packages/pymongo/bulk.py\u001b[0m in \u001b[0;36mretryable_bulk\u001b[0;34m(session, sock_info, retryable)\u001b[0m\n\u001b[1;32m    383\u001b[0m \u001b[0;34m\u001b[0m\u001b[0m\n\u001b[1;32m    384\u001b[0m         \u001b[0;32mdef\u001b[0m \u001b[0mretryable_bulk\u001b[0m\u001b[0;34m(\u001b[0m\u001b[0msession\u001b[0m\u001b[0;34m,\u001b[0m \u001b[0msock_info\u001b[0m\u001b[0;34m,\u001b[0m \u001b[0mretryable\u001b[0m\u001b[0;34m)\u001b[0m\u001b[0;34m:\u001b[0m\u001b[0;34m\u001b[0m\u001b[0;34m\u001b[0m\u001b[0m\n\u001b[0;32m--> 385\u001b[0;31m             self._execute_command(\n\u001b[0m\u001b[1;32m    386\u001b[0m                 \u001b[0mgenerator\u001b[0m\u001b[0;34m,\u001b[0m \u001b[0mwrite_concern\u001b[0m\u001b[0;34m,\u001b[0m \u001b[0msession\u001b[0m\u001b[0;34m,\u001b[0m \u001b[0msock_info\u001b[0m\u001b[0;34m,\u001b[0m \u001b[0mop_id\u001b[0m\u001b[0;34m,\u001b[0m \u001b[0mretryable\u001b[0m\u001b[0;34m,\u001b[0m \u001b[0mfull_result\u001b[0m\u001b[0;34m\u001b[0m\u001b[0;34m\u001b[0m\u001b[0m\n\u001b[1;32m    387\u001b[0m             )\n",
            "\u001b[0;32m/usr/local/lib/python3.10/dist-packages/pymongo/bulk.py\u001b[0m in \u001b[0;36m_execute_command\u001b[0;34m(self, generator, write_concern, session, sock_info, op_id, retryable, full_result, final_write_concern)\u001b[0m\n\u001b[1;32m    336\u001b[0m                 \u001b[0;31m# Run as many ops as possible in one command.\u001b[0m\u001b[0;34m\u001b[0m\u001b[0;34m\u001b[0m\u001b[0m\n\u001b[1;32m    337\u001b[0m                 \u001b[0;32mif\u001b[0m \u001b[0mwrite_concern\u001b[0m\u001b[0;34m.\u001b[0m\u001b[0macknowledged\u001b[0m\u001b[0;34m:\u001b[0m\u001b[0;34m\u001b[0m\u001b[0;34m\u001b[0m\u001b[0m\n\u001b[0;32m--> 338\u001b[0;31m                     \u001b[0mresult\u001b[0m\u001b[0;34m,\u001b[0m \u001b[0mto_send\u001b[0m \u001b[0;34m=\u001b[0m \u001b[0mbwc\u001b[0m\u001b[0;34m.\u001b[0m\u001b[0mexecute\u001b[0m\u001b[0;34m(\u001b[0m\u001b[0mcmd\u001b[0m\u001b[0;34m,\u001b[0m \u001b[0mops\u001b[0m\u001b[0;34m,\u001b[0m \u001b[0mclient\u001b[0m\u001b[0;34m)\u001b[0m\u001b[0;34m\u001b[0m\u001b[0;34m\u001b[0m\u001b[0m\n\u001b[0m\u001b[1;32m    339\u001b[0m \u001b[0;34m\u001b[0m\u001b[0m\n\u001b[1;32m    340\u001b[0m                     \u001b[0;31m# Retryable writeConcernErrors halt the execution of this run.\u001b[0m\u001b[0;34m\u001b[0m\u001b[0;34m\u001b[0m\u001b[0m\n",
            "\u001b[0;32m/usr/local/lib/python3.10/dist-packages/pymongo/message.py\u001b[0m in \u001b[0;36mexecute\u001b[0;34m(self, cmd, docs, client)\u001b[0m\n\u001b[1;32m    840\u001b[0m     \u001b[0;32mdef\u001b[0m \u001b[0mexecute\u001b[0m\u001b[0;34m(\u001b[0m\u001b[0mself\u001b[0m\u001b[0;34m,\u001b[0m \u001b[0mcmd\u001b[0m\u001b[0;34m,\u001b[0m \u001b[0mdocs\u001b[0m\u001b[0;34m,\u001b[0m \u001b[0mclient\u001b[0m\u001b[0;34m)\u001b[0m\u001b[0;34m:\u001b[0m\u001b[0;34m\u001b[0m\u001b[0;34m\u001b[0m\u001b[0m\n\u001b[1;32m    841\u001b[0m         \u001b[0mrequest_id\u001b[0m\u001b[0;34m,\u001b[0m \u001b[0mmsg\u001b[0m\u001b[0;34m,\u001b[0m \u001b[0mto_send\u001b[0m \u001b[0;34m=\u001b[0m \u001b[0mself\u001b[0m\u001b[0;34m.\u001b[0m\u001b[0m_batch_command\u001b[0m\u001b[0;34m(\u001b[0m\u001b[0mcmd\u001b[0m\u001b[0;34m,\u001b[0m \u001b[0mdocs\u001b[0m\u001b[0;34m)\u001b[0m\u001b[0;34m\u001b[0m\u001b[0;34m\u001b[0m\u001b[0m\n\u001b[0;32m--> 842\u001b[0;31m         \u001b[0mresult\u001b[0m \u001b[0;34m=\u001b[0m \u001b[0mself\u001b[0m\u001b[0;34m.\u001b[0m\u001b[0mwrite_command\u001b[0m\u001b[0;34m(\u001b[0m\u001b[0mcmd\u001b[0m\u001b[0;34m,\u001b[0m \u001b[0mrequest_id\u001b[0m\u001b[0;34m,\u001b[0m \u001b[0mmsg\u001b[0m\u001b[0;34m,\u001b[0m \u001b[0mto_send\u001b[0m\u001b[0;34m)\u001b[0m\u001b[0;34m\u001b[0m\u001b[0;34m\u001b[0m\u001b[0m\n\u001b[0m\u001b[1;32m    843\u001b[0m         \u001b[0mclient\u001b[0m\u001b[0;34m.\u001b[0m\u001b[0m_process_response\u001b[0m\u001b[0;34m(\u001b[0m\u001b[0mresult\u001b[0m\u001b[0;34m,\u001b[0m \u001b[0mself\u001b[0m\u001b[0;34m.\u001b[0m\u001b[0msession\u001b[0m\u001b[0;34m)\u001b[0m\u001b[0;34m\u001b[0m\u001b[0;34m\u001b[0m\u001b[0m\n\u001b[1;32m    844\u001b[0m         \u001b[0;32mreturn\u001b[0m \u001b[0mresult\u001b[0m\u001b[0;34m,\u001b[0m \u001b[0mto_send\u001b[0m\u001b[0;34m\u001b[0m\u001b[0;34m\u001b[0m\u001b[0m\n",
            "\u001b[0;32m/usr/local/lib/python3.10/dist-packages/pymongo/message.py\u001b[0m in \u001b[0;36mwrite_command\u001b[0;34m(self, cmd, request_id, msg, docs)\u001b[0m\n\u001b[1;32m    918\u001b[0m             \u001b[0mstart\u001b[0m \u001b[0;34m=\u001b[0m \u001b[0mdatetime\u001b[0m\u001b[0;34m.\u001b[0m\u001b[0mdatetime\u001b[0m\u001b[0;34m.\u001b[0m\u001b[0mnow\u001b[0m\u001b[0;34m(\u001b[0m\u001b[0;34m)\u001b[0m\u001b[0;34m\u001b[0m\u001b[0;34m\u001b[0m\u001b[0m\n\u001b[1;32m    919\u001b[0m         \u001b[0;32mtry\u001b[0m\u001b[0;34m:\u001b[0m\u001b[0;34m\u001b[0m\u001b[0;34m\u001b[0m\u001b[0m\n\u001b[0;32m--> 920\u001b[0;31m             \u001b[0mreply\u001b[0m \u001b[0;34m=\u001b[0m \u001b[0mself\u001b[0m\u001b[0;34m.\u001b[0m\u001b[0msock_info\u001b[0m\u001b[0;34m.\u001b[0m\u001b[0mwrite_command\u001b[0m\u001b[0;34m(\u001b[0m\u001b[0mrequest_id\u001b[0m\u001b[0;34m,\u001b[0m \u001b[0mmsg\u001b[0m\u001b[0;34m,\u001b[0m \u001b[0mself\u001b[0m\u001b[0;34m.\u001b[0m\u001b[0mcodec\u001b[0m\u001b[0;34m)\u001b[0m\u001b[0;34m\u001b[0m\u001b[0;34m\u001b[0m\u001b[0m\n\u001b[0m\u001b[1;32m    921\u001b[0m             \u001b[0;32mif\u001b[0m \u001b[0mself\u001b[0m\u001b[0;34m.\u001b[0m\u001b[0mpublish\u001b[0m\u001b[0;34m:\u001b[0m\u001b[0;34m\u001b[0m\u001b[0;34m\u001b[0m\u001b[0m\n\u001b[1;32m    922\u001b[0m                 \u001b[0mduration\u001b[0m \u001b[0;34m=\u001b[0m \u001b[0;34m(\u001b[0m\u001b[0mdatetime\u001b[0m\u001b[0;34m.\u001b[0m\u001b[0mdatetime\u001b[0m\u001b[0;34m.\u001b[0m\u001b[0mnow\u001b[0m\u001b[0;34m(\u001b[0m\u001b[0;34m)\u001b[0m \u001b[0;34m-\u001b[0m \u001b[0mstart\u001b[0m\u001b[0;34m)\u001b[0m \u001b[0;34m+\u001b[0m \u001b[0mduration\u001b[0m\u001b[0;34m\u001b[0m\u001b[0;34m\u001b[0m\u001b[0m\n",
            "\u001b[0;32m/usr/local/lib/python3.10/dist-packages/pymongo/pool.py\u001b[0m in \u001b[0;36mwrite_command\u001b[0;34m(self, request_id, msg, codec_options)\u001b[0m\n\u001b[1;32m    851\u001b[0m         \"\"\"\n\u001b[1;32m    852\u001b[0m         \u001b[0mself\u001b[0m\u001b[0;34m.\u001b[0m\u001b[0msend_message\u001b[0m\u001b[0;34m(\u001b[0m\u001b[0mmsg\u001b[0m\u001b[0;34m,\u001b[0m \u001b[0;36m0\u001b[0m\u001b[0;34m)\u001b[0m\u001b[0;34m\u001b[0m\u001b[0;34m\u001b[0m\u001b[0m\n\u001b[0;32m--> 853\u001b[0;31m         \u001b[0mreply\u001b[0m \u001b[0;34m=\u001b[0m \u001b[0mself\u001b[0m\u001b[0;34m.\u001b[0m\u001b[0mreceive_message\u001b[0m\u001b[0;34m(\u001b[0m\u001b[0mrequest_id\u001b[0m\u001b[0;34m)\u001b[0m\u001b[0;34m\u001b[0m\u001b[0;34m\u001b[0m\u001b[0m\n\u001b[0m\u001b[1;32m    854\u001b[0m         \u001b[0mresult\u001b[0m \u001b[0;34m=\u001b[0m \u001b[0mreply\u001b[0m\u001b[0;34m.\u001b[0m\u001b[0mcommand_response\u001b[0m\u001b[0;34m(\u001b[0m\u001b[0mcodec_options\u001b[0m\u001b[0;34m)\u001b[0m\u001b[0;34m\u001b[0m\u001b[0;34m\u001b[0m\u001b[0m\n\u001b[1;32m    855\u001b[0m \u001b[0;34m\u001b[0m\u001b[0m\n",
            "\u001b[0;32m/usr/local/lib/python3.10/dist-packages/pymongo/pool.py\u001b[0m in \u001b[0;36mreceive_message\u001b[0;34m(self, request_id)\u001b[0m\n\u001b[1;32m    819\u001b[0m             \u001b[0;32mreturn\u001b[0m \u001b[0mreceive_message\u001b[0m\u001b[0;34m(\u001b[0m\u001b[0mself\u001b[0m\u001b[0;34m,\u001b[0m \u001b[0mrequest_id\u001b[0m\u001b[0;34m,\u001b[0m \u001b[0mself\u001b[0m\u001b[0;34m.\u001b[0m\u001b[0mmax_message_size\u001b[0m\u001b[0;34m)\u001b[0m\u001b[0;34m\u001b[0m\u001b[0;34m\u001b[0m\u001b[0m\n\u001b[1;32m    820\u001b[0m         \u001b[0;32mexcept\u001b[0m \u001b[0mBaseException\u001b[0m \u001b[0;32mas\u001b[0m \u001b[0merror\u001b[0m\u001b[0;34m:\u001b[0m\u001b[0;34m\u001b[0m\u001b[0;34m\u001b[0m\u001b[0m\n\u001b[0;32m--> 821\u001b[0;31m             \u001b[0mself\u001b[0m\u001b[0;34m.\u001b[0m\u001b[0m_raise_connection_failure\u001b[0m\u001b[0;34m(\u001b[0m\u001b[0merror\u001b[0m\u001b[0;34m)\u001b[0m\u001b[0;34m\u001b[0m\u001b[0;34m\u001b[0m\u001b[0m\n\u001b[0m\u001b[1;32m    822\u001b[0m \u001b[0;34m\u001b[0m\u001b[0m\n\u001b[1;32m    823\u001b[0m     \u001b[0;32mdef\u001b[0m \u001b[0m_raise_if_not_writable\u001b[0m\u001b[0;34m(\u001b[0m\u001b[0mself\u001b[0m\u001b[0;34m,\u001b[0m \u001b[0munacknowledged\u001b[0m\u001b[0;34m)\u001b[0m\u001b[0;34m:\u001b[0m\u001b[0;34m\u001b[0m\u001b[0;34m\u001b[0m\u001b[0m\n",
            "\u001b[0;32m/usr/local/lib/python3.10/dist-packages/pymongo/pool.py\u001b[0m in \u001b[0;36m_raise_connection_failure\u001b[0;34m(self, error)\u001b[0m\n\u001b[1;32m    951\u001b[0m         \u001b[0;31m# SSLError from PyOpenSSL inherits directly from Exception.\u001b[0m\u001b[0;34m\u001b[0m\u001b[0;34m\u001b[0m\u001b[0m\n\u001b[1;32m    952\u001b[0m         \u001b[0;32mif\u001b[0m \u001b[0misinstance\u001b[0m\u001b[0;34m(\u001b[0m\u001b[0merror\u001b[0m\u001b[0;34m,\u001b[0m \u001b[0;34m(\u001b[0m\u001b[0mIOError\u001b[0m\u001b[0;34m,\u001b[0m \u001b[0mOSError\u001b[0m\u001b[0;34m,\u001b[0m \u001b[0mSSLError\u001b[0m\u001b[0;34m)\u001b[0m\u001b[0;34m)\u001b[0m\u001b[0;34m:\u001b[0m\u001b[0;34m\u001b[0m\u001b[0;34m\u001b[0m\u001b[0m\n\u001b[0;32m--> 953\u001b[0;31m             \u001b[0m_raise_connection_failure\u001b[0m\u001b[0;34m(\u001b[0m\u001b[0mself\u001b[0m\u001b[0;34m.\u001b[0m\u001b[0maddress\u001b[0m\u001b[0;34m,\u001b[0m \u001b[0merror\u001b[0m\u001b[0;34m)\u001b[0m\u001b[0;34m\u001b[0m\u001b[0;34m\u001b[0m\u001b[0m\n\u001b[0m\u001b[1;32m    954\u001b[0m         \u001b[0;32melse\u001b[0m\u001b[0;34m:\u001b[0m\u001b[0;34m\u001b[0m\u001b[0;34m\u001b[0m\u001b[0m\n\u001b[1;32m    955\u001b[0m             \u001b[0;32mraise\u001b[0m\u001b[0;34m\u001b[0m\u001b[0;34m\u001b[0m\u001b[0m\n",
            "\u001b[0;32m/usr/local/lib/python3.10/dist-packages/pymongo/pool.py\u001b[0m in \u001b[0;36m_raise_connection_failure\u001b[0;34m(address, error, msg_prefix)\u001b[0m\n\u001b[1;32m    260\u001b[0m         \u001b[0;32mraise\u001b[0m \u001b[0mNetworkTimeout\u001b[0m\u001b[0;34m(\u001b[0m\u001b[0mmsg\u001b[0m\u001b[0;34m)\u001b[0m \u001b[0;32mfrom\u001b[0m \u001b[0merror\u001b[0m\u001b[0;34m\u001b[0m\u001b[0;34m\u001b[0m\u001b[0m\n\u001b[1;32m    261\u001b[0m     \u001b[0;32melse\u001b[0m\u001b[0;34m:\u001b[0m\u001b[0;34m\u001b[0m\u001b[0;34m\u001b[0m\u001b[0m\n\u001b[0;32m--> 262\u001b[0;31m         \u001b[0;32mraise\u001b[0m \u001b[0mAutoReconnect\u001b[0m\u001b[0;34m(\u001b[0m\u001b[0mmsg\u001b[0m\u001b[0;34m)\u001b[0m \u001b[0;32mfrom\u001b[0m \u001b[0merror\u001b[0m\u001b[0;34m\u001b[0m\u001b[0;34m\u001b[0m\u001b[0m\n\u001b[0m\u001b[1;32m    263\u001b[0m \u001b[0;34m\u001b[0m\u001b[0m\n\u001b[1;32m    264\u001b[0m \u001b[0;34m\u001b[0m\u001b[0m\n",
            "\u001b[0;31mAutoReconnect\u001b[0m: ac-init183-shard-00-02.0fildnq.mongodb.net:27017: connection closed"
          ]
        }
      ]
    },
    {
      "cell_type": "code",
      "source": [
        "df_roubos.shape[0]"
      ],
      "metadata": {
        "id": "dQVvrc1m_Teg",
        "colab": {
          "base_uri": "https://localhost:8080/"
        },
        "outputId": "7ee57645-2d31-43bc-c583-0958e2d57e6a"
      },
      "execution_count": null,
      "outputs": [
        {
          "output_type": "execute_result",
          "data": {
            "text/plain": [
              "130499"
            ]
          },
          "metadata": {},
          "execution_count": 253
        }
      ]
    },
    {
      "cell_type": "code",
      "source": [
        "#Roubos\n",
        "colecao.count_documents({})"
      ],
      "metadata": {
        "id": "vzy0oBcR-8s2",
        "colab": {
          "base_uri": "https://localhost:8080/"
        },
        "outputId": "45f47d21-fa52-45db-ed0c-4111d575df20"
      },
      "execution_count": null,
      "outputs": [
        {
          "output_type": "execute_result",
          "data": {
            "text/plain": [
              "130499"
            ]
          },
          "metadata": {},
          "execution_count": 254
        }
      ]
    },
    {
      "cell_type": "code",
      "source": [
        "#furtos\n",
        "colecao2.count_documents({})"
      ],
      "metadata": {
        "id": "oOMrj8wt_Ic0",
        "colab": {
          "base_uri": "https://localhost:8080/"
        },
        "outputId": "baaafc55-b876-4d2a-eff8-30ad5765ceb5"
      },
      "execution_count": null,
      "outputs": [
        {
          "output_type": "execute_result",
          "data": {
            "text/plain": [
              "86285"
            ]
          },
          "metadata": {},
          "execution_count": 255
        }
      ]
    },
    {
      "cell_type": "code",
      "source": [
        "df_furtos.shape[0]"
      ],
      "metadata": {
        "id": "undgbNJu_LmN",
        "colab": {
          "base_uri": "https://localhost:8080/"
        },
        "outputId": "655907f2-5ea4-4a02-820c-354f7ac5f6ca"
      },
      "execution_count": null,
      "outputs": [
        {
          "output_type": "execute_result",
          "data": {
            "text/plain": [
              "195658"
            ]
          },
          "metadata": {},
          "execution_count": 256
        }
      ]
    },
    {
      "cell_type": "code",
      "source": [],
      "metadata": {
        "id": "q-D4uYWm_ghM"
      },
      "execution_count": null,
      "outputs": []
    }
  ]
}