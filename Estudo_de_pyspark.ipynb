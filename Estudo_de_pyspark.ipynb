{
  "nbformat": 4,
  "nbformat_minor": 0,
  "metadata": {
    "colab": {
      "provenance": []
    },
    "kernelspec": {
      "name": "python3",
      "display_name": "Python 3"
    },
    "language_info": {
      "name": "python"
    }
  },
  "cells": [
    {
      "cell_type": "code",
      "execution_count": null,
      "metadata": {
        "colab": {
          "base_uri": "https://localhost:8080/"
        },
        "id": "gthB1RkiiyxL",
        "outputId": "78c04474-9b05-427b-fd6c-1e3be464515a"
      },
      "outputs": [
        {
          "output_type": "stream",
          "name": "stdout",
          "text": [
            "Looking in indexes: https://pypi.org/simple, https://us-python.pkg.dev/colab-wheels/public/simple/\n",
            "Collecting pyspark\n",
            "  Downloading pyspark-3.4.0.tar.gz (310.8 MB)\n",
            "\u001b[2K     \u001b[90m━━━━━━━━━━━━━━━━━━━━━━━━━━━━━━━━━━━━━━━\u001b[0m \u001b[32m310.8/310.8 MB\u001b[0m \u001b[31m3.8 MB/s\u001b[0m eta \u001b[36m0:00:00\u001b[0m\n",
            "\u001b[?25h  Preparing metadata (setup.py) ... \u001b[?25l\u001b[?25hdone\n",
            "Requirement already satisfied: py4j==0.10.9.7 in /usr/local/lib/python3.9/dist-packages (from pyspark) (0.10.9.7)\n",
            "Building wheels for collected packages: pyspark\n",
            "  Building wheel for pyspark (setup.py) ... \u001b[?25l\u001b[?25hdone\n",
            "  Created wheel for pyspark: filename=pyspark-3.4.0-py2.py3-none-any.whl size=311317145 sha256=f5c8b3251723f41365b194ac5c97904b18d4e48c599508e66b46a2785c475032\n",
            "  Stored in directory: /root/.cache/pip/wheels/9f/34/a4/159aa12d0a510d5ff7c8f0220abbea42e5d81ecf588c4fd884\n",
            "Successfully built pyspark\n",
            "Installing collected packages: pyspark\n",
            "Successfully installed pyspark-3.4.0\n"
          ]
        }
      ],
      "source": [
        "!pip install pyspark"
      ]
    },
    {
      "cell_type": "code",
      "source": [
        "from pyspark.sql import SparkSession\n",
        "import pyspark.sql.functions as F\n",
        "import pandas as pd\n",
        "import numpy as np\n",
        "from pyspark.sql.types import IntegerType, FloatType, DoubleType"
      ],
      "metadata": {
        "id": "-g1J-AFWkvmq"
      },
      "execution_count": null,
      "outputs": []
    },
    {
      "cell_type": "code",
      "source": [
        "from google.colab import drive\n",
        "drive.mount('/content/drive')"
      ],
      "metadata": {
        "colab": {
          "base_uri": "https://localhost:8080/"
        },
        "id": "AdSwaVgsmJq5",
        "outputId": "2dc0046b-2717-4f00-b703-e20318dac07b"
      },
      "execution_count": null,
      "outputs": [
        {
          "output_type": "stream",
          "name": "stdout",
          "text": [
            "Mounted at /content/drive\n"
          ]
        }
      ]
    },
    {
      "cell_type": "code",
      "source": [
        "spark = (SparkSession.builder\n",
        "                     .master('local')\n",
        "                     .appName('spotify')\n",
        "                     .config('spark.ui.port', '4050')\n",
        "                     .getOrCreate())"
      ],
      "metadata": {
        "id": "fvfndX6Sk_xR"
      },
      "execution_count": null,
      "outputs": []
    },
    {
      "cell_type": "code",
      "source": [
        "df_aisles = (spark.read\n",
        "           .format('csv')\n",
        "           .option('delimiter', ',')\n",
        "           .option('header', 'true')\n",
        "           .option('inferschema', 'true')\n",
        "           .option('encoding', 'utf-8')\n",
        "           .option('escape','\"')\n",
        "           .load('/content/aisles.csv')\n",
        "           )"
      ],
      "metadata": {
        "id": "X_fp8HpLlw0k"
      },
      "execution_count": null,
      "outputs": []
    },
    {
      "cell_type": "code",
      "source": [
        "df_departments = (spark.read\n",
        "           .format('csv')\n",
        "           .option('delimiter', ',')\n",
        "           .option('header', 'true')\n",
        "           .option('inferschema', 'true')\n",
        "           .option('encoding', 'utf-8')\n",
        "           .option('escape','\"')\n",
        "           .load('/content/departments.csv')\n",
        "           )"
      ],
      "metadata": {
        "id": "lTcQQgj5n0xE"
      },
      "execution_count": null,
      "outputs": []
    },
    {
      "cell_type": "code",
      "source": [
        "df_orders = (spark.read\n",
        "           .format('csv')\n",
        "           .option('delimiter', ',')\n",
        "           .option('header', 'true')\n",
        "           .option('inferschema', 'true')\n",
        "           .option('encoding', 'utf-8')\n",
        "           .option('escape','\"')\n",
        "           .load('/content/orders.csv')\n",
        "           )"
      ],
      "metadata": {
        "id": "f6xFzbVIoKZB"
      },
      "execution_count": null,
      "outputs": []
    },
    {
      "cell_type": "code",
      "source": [
        "df_products = (spark.read\n",
        "           .format('csv')\n",
        "           .option('delimiter', ',')\n",
        "           .option('header', 'true')\n",
        "           .option('inferschema', 'true')\n",
        "           .option('encoding', 'utf-8')\n",
        "           .option('escape','\"')\n",
        "           .load('/content/products.csv')\n",
        "           )"
      ],
      "metadata": {
        "id": "ss74BQazoPpK"
      },
      "execution_count": null,
      "outputs": []
    },
    {
      "cell_type": "code",
      "source": [
        "df_order_products_prior = (spark.read\n",
        "           .format('csv')\n",
        "           .option('delimiter', ',')\n",
        "           .option('header', 'true')\n",
        "           .option('inferschema', 'true')\n",
        "           .option('encoding', 'utf-8')\n",
        "           .option('escape','\"')\n",
        "           .load('/content/order_products__prior.csv')\n",
        "           )"
      ],
      "metadata": {
        "id": "kQul9UTXoV7t"
      },
      "execution_count": null,
      "outputs": []
    },
    {
      "cell_type": "code",
      "source": [
        "#SHAPE aisle\n",
        "print(f'({df_aisles.count()}, {len(df_aisles.columns)})')"
      ],
      "metadata": {
        "id": "YevVdVqjova5",
        "colab": {
          "base_uri": "https://localhost:8080/"
        },
        "outputId": "5156c425-afbf-45d4-cd20-b3955f510cc7"
      },
      "execution_count": null,
      "outputs": [
        {
          "output_type": "stream",
          "name": "stdout",
          "text": [
            "(134, 2)\n"
          ]
        }
      ]
    },
    {
      "cell_type": "code",
      "source": [
        "#Analisar o esquema dos dados\n",
        "df_aisles.printSchema()"
      ],
      "metadata": {
        "colab": {
          "base_uri": "https://localhost:8080/"
        },
        "id": "FQeA1fdbp5wr",
        "outputId": "d00cbf0f-f4e6-4cea-fc3c-9ce77e473271"
      },
      "execution_count": null,
      "outputs": [
        {
          "output_type": "stream",
          "name": "stdout",
          "text": [
            "root\n",
            " |-- aisle_id: integer (nullable = true)\n",
            " |-- aisle: string (nullable = true)\n",
            "\n"
          ]
        }
      ]
    },
    {
      "cell_type": "code",
      "source": [
        "#AMOSTRA DOS DADOS\n",
        "df_aisles.show(truncate=False)"
      ],
      "metadata": {
        "colab": {
          "base_uri": "https://localhost:8080/"
        },
        "id": "TYbzZlPzp9Pz",
        "outputId": "5b087033-b650-492d-c8fe-dc93545f226d"
      },
      "execution_count": null,
      "outputs": [
        {
          "output_type": "stream",
          "name": "stdout",
          "text": [
            "+--------+----------------------------+\n",
            "|aisle_id|aisle                       |\n",
            "+--------+----------------------------+\n",
            "|1       |prepared soups salads       |\n",
            "|2       |specialty cheeses           |\n",
            "|3       |energy granola bars         |\n",
            "|4       |instant foods               |\n",
            "|5       |marinades meat preparation  |\n",
            "|6       |other                       |\n",
            "|7       |packaged meat               |\n",
            "|8       |bakery desserts             |\n",
            "|9       |pasta sauce                 |\n",
            "|10      |kitchen supplies            |\n",
            "|11      |cold flu allergy            |\n",
            "|12      |fresh pasta                 |\n",
            "|13      |prepared meals              |\n",
            "|14      |tofu meat alternatives      |\n",
            "|15      |packaged seafood            |\n",
            "|16      |fresh herbs                 |\n",
            "|17      |baking ingredients          |\n",
            "|18      |bulk dried fruits vegetables|\n",
            "|19      |oils vinegars               |\n",
            "|20      |oral hygiene                |\n",
            "+--------+----------------------------+\n",
            "only showing top 20 rows\n",
            "\n"
          ]
        }
      ]
    },
    {
      "cell_type": "code",
      "source": [
        "#SHAPE departments\n",
        "print(f'({df_departments.count()}, {len(df_departments.columns)})')"
      ],
      "metadata": {
        "colab": {
          "base_uri": "https://localhost:8080/"
        },
        "id": "dC5jroazp_YZ",
        "outputId": "e8513b59-9e8f-4f0d-afea-e37f3562103d"
      },
      "execution_count": null,
      "outputs": [
        {
          "output_type": "stream",
          "name": "stdout",
          "text": [
            "(21, 2)\n"
          ]
        }
      ]
    },
    {
      "cell_type": "code",
      "source": [
        "#Analisar o esquema dos dados\n",
        "df_departments.printSchema()"
      ],
      "metadata": {
        "colab": {
          "base_uri": "https://localhost:8080/"
        },
        "id": "v8pUVQzFrygN",
        "outputId": "89d0e258-44e1-43b5-fbe7-8043ea497c6a"
      },
      "execution_count": null,
      "outputs": [
        {
          "output_type": "stream",
          "name": "stdout",
          "text": [
            "root\n",
            " |-- department_id: integer (nullable = true)\n",
            " |-- department: string (nullable = true)\n",
            "\n"
          ]
        }
      ]
    },
    {
      "cell_type": "code",
      "source": [
        "#AMOSTRA DOS DADOS\n",
        "df_departments.show(truncate=False)"
      ],
      "metadata": {
        "colab": {
          "base_uri": "https://localhost:8080/"
        },
        "id": "BQgtDgrpr1TN",
        "outputId": "6e4763dd-a3e4-4f9c-b0e7-2176989145be"
      },
      "execution_count": null,
      "outputs": [
        {
          "output_type": "stream",
          "name": "stdout",
          "text": [
            "+-------------+---------------+\n",
            "|department_id|department     |\n",
            "+-------------+---------------+\n",
            "|1            |frozen         |\n",
            "|2            |other          |\n",
            "|3            |bakery         |\n",
            "|4            |produce        |\n",
            "|5            |alcohol        |\n",
            "|6            |international  |\n",
            "|7            |beverages      |\n",
            "|8            |pets           |\n",
            "|9            |dry goods pasta|\n",
            "|10           |bulk           |\n",
            "|11           |personal care  |\n",
            "|12           |meat seafood   |\n",
            "|13           |pantry         |\n",
            "|14           |breakfast      |\n",
            "|15           |canned goods   |\n",
            "|16           |dairy eggs     |\n",
            "|17           |household      |\n",
            "|18           |babies         |\n",
            "|19           |snacks         |\n",
            "|20           |deli           |\n",
            "+-------------+---------------+\n",
            "only showing top 20 rows\n",
            "\n"
          ]
        }
      ]
    },
    {
      "cell_type": "code",
      "source": [
        "#SHAPE orders\n",
        "print(f'({df_orders.count()}, {len(df_orders.columns)})')"
      ],
      "metadata": {
        "colab": {
          "base_uri": "https://localhost:8080/"
        },
        "id": "3aARhL34r3s2",
        "outputId": "fb33a9b4-af58-480e-8741-ca7c198b0f8d"
      },
      "execution_count": null,
      "outputs": [
        {
          "output_type": "stream",
          "name": "stdout",
          "text": [
            "(2873379, 7)\n"
          ]
        }
      ]
    },
    {
      "cell_type": "code",
      "source": [
        "#Analisar o esquema dos dados\n",
        "df_orders.printSchema()"
      ],
      "metadata": {
        "colab": {
          "base_uri": "https://localhost:8080/"
        },
        "id": "-qPB8GJ5r62K",
        "outputId": "1ef0e056-00bf-4754-95c0-e04a82c6353f"
      },
      "execution_count": null,
      "outputs": [
        {
          "output_type": "stream",
          "name": "stdout",
          "text": [
            "root\n",
            " |-- order_id: integer (nullable = true)\n",
            " |-- user_id: integer (nullable = true)\n",
            " |-- eval_set: string (nullable = true)\n",
            " |-- order_number: integer (nullable = true)\n",
            " |-- order_dow: integer (nullable = true)\n",
            " |-- order_hour_of_day: integer (nullable = true)\n",
            " |-- days_since_prior_order: double (nullable = true)\n",
            "\n"
          ]
        }
      ]
    },
    {
      "cell_type": "code",
      "source": [
        "#AMOSTRA DOS DADOS\n",
        "df_orders.show(truncate=False)"
      ],
      "metadata": {
        "colab": {
          "base_uri": "https://localhost:8080/"
        },
        "id": "lGr1ye4dr8ct",
        "outputId": "11195ebc-91ee-4d18-b2bb-b26021a2cbd4"
      },
      "execution_count": null,
      "outputs": [
        {
          "output_type": "stream",
          "name": "stdout",
          "text": [
            "+--------+-------+--------+------------+---------+-----------------+----------------------+\n",
            "|order_id|user_id|eval_set|order_number|order_dow|order_hour_of_day|days_since_prior_order|\n",
            "+--------+-------+--------+------------+---------+-----------------+----------------------+\n",
            "|2539329 |1      |prior   |1           |2        |8                |null                  |\n",
            "|2398795 |1      |prior   |2           |3        |7                |15.0                  |\n",
            "|473747  |1      |prior   |3           |3        |12               |21.0                  |\n",
            "|2254736 |1      |prior   |4           |4        |7                |29.0                  |\n",
            "|431534  |1      |prior   |5           |4        |15               |28.0                  |\n",
            "|3367565 |1      |prior   |6           |2        |7                |19.0                  |\n",
            "|550135  |1      |prior   |7           |1        |9                |20.0                  |\n",
            "|3108588 |1      |prior   |8           |1        |14               |14.0                  |\n",
            "|2295261 |1      |prior   |9           |1        |16               |0.0                   |\n",
            "|2550362 |1      |prior   |10          |4        |8                |30.0                  |\n",
            "|1187899 |1      |train   |11          |4        |8                |14.0                  |\n",
            "|2168274 |2      |prior   |1           |2        |11               |null                  |\n",
            "|1501582 |2      |prior   |2           |5        |10               |10.0                  |\n",
            "|1901567 |2      |prior   |3           |1        |10               |3.0                   |\n",
            "|738281  |2      |prior   |4           |2        |10               |8.0                   |\n",
            "|1673511 |2      |prior   |5           |3        |11               |8.0                   |\n",
            "|1199898 |2      |prior   |6           |2        |9                |13.0                  |\n",
            "|3194192 |2      |prior   |7           |2        |12               |14.0                  |\n",
            "|788338  |2      |prior   |8           |1        |15               |27.0                  |\n",
            "|1718559 |2      |prior   |9           |2        |9                |8.0                   |\n",
            "+--------+-------+--------+------------+---------+-----------------+----------------------+\n",
            "only showing top 20 rows\n",
            "\n"
          ]
        }
      ]
    },
    {
      "cell_type": "code",
      "source": [
        "#SHAPE products\n",
        "print(f'({df_products.count()}, {len(df_products.columns)})')"
      ],
      "metadata": {
        "colab": {
          "base_uri": "https://localhost:8080/"
        },
        "id": "HOJ7hitir-WF",
        "outputId": "6760bbdc-5773-4c76-86a9-4e25e70ab57b"
      },
      "execution_count": null,
      "outputs": [
        {
          "output_type": "stream",
          "name": "stdout",
          "text": [
            "(49688, 4)\n"
          ]
        }
      ]
    },
    {
      "cell_type": "code",
      "source": [
        "#Analisar o esquema dos dados\n",
        "df_products.printSchema()"
      ],
      "metadata": {
        "colab": {
          "base_uri": "https://localhost:8080/"
        },
        "id": "uvHGoNb4wpb0",
        "outputId": "a491d815-5d45-4410-a8cb-ecdedd294070"
      },
      "execution_count": null,
      "outputs": [
        {
          "output_type": "stream",
          "name": "stdout",
          "text": [
            "root\n",
            " |-- product_id: integer (nullable = true)\n",
            " |-- product_name: string (nullable = true)\n",
            " |-- aisle_id: integer (nullable = true)\n",
            " |-- department_id: integer (nullable = true)\n",
            "\n"
          ]
        }
      ]
    },
    {
      "cell_type": "code",
      "source": [
        "#AMOSTRA DOS DADOS\n",
        "df_products.show(truncate=False)"
      ],
      "metadata": {
        "colab": {
          "base_uri": "https://localhost:8080/"
        },
        "id": "gfVFR7biwrHW",
        "outputId": "eccca3f5-0041-4969-abbd-b45f0130d15e"
      },
      "execution_count": null,
      "outputs": [
        {
          "output_type": "stream",
          "name": "stdout",
          "text": [
            "+----------+-----------------------------------------------------------------+--------+-------------+\n",
            "|product_id|product_name                                                     |aisle_id|department_id|\n",
            "+----------+-----------------------------------------------------------------+--------+-------------+\n",
            "|1         |Chocolate Sandwich Cookies                                       |61      |19           |\n",
            "|2         |All-Seasons Salt                                                 |104     |13           |\n",
            "|3         |Robust Golden Unsweetened Oolong Tea                             |94      |7            |\n",
            "|4         |Smart Ones Classic Favorites Mini Rigatoni With Vodka Cream Sauce|38      |1            |\n",
            "|5         |Green Chile Anytime Sauce                                        |5       |13           |\n",
            "|6         |Dry Nose Oil                                                     |11      |11           |\n",
            "|7         |Pure Coconut Water With Orange                                   |98      |7            |\n",
            "|8         |Cut Russet Potatoes Steam N' Mash                                |116     |1            |\n",
            "|9         |Light Strawberry Blueberry Yogurt                                |120     |16           |\n",
            "|10        |Sparkling Orange Juice & Prickly Pear Beverage                   |115     |7            |\n",
            "|11        |Peach Mango Juice                                                |31      |7            |\n",
            "|12        |Chocolate Fudge Layer Cake                                       |119     |1            |\n",
            "|13        |Saline Nasal Mist                                                |11      |11           |\n",
            "|14        |Fresh Scent Dishwasher Cleaner                                   |74      |17           |\n",
            "|15        |Overnight Diapers Size 6                                         |56      |18           |\n",
            "|16        |Mint Chocolate Flavored Syrup                                    |103     |19           |\n",
            "|17        |Rendered Duck Fat                                                |35      |12           |\n",
            "|18        |Pizza for One Suprema  Frozen Pizza                              |79      |1            |\n",
            "|19        |Gluten Free Quinoa Three Cheese & Mushroom Blend                 |63      |9            |\n",
            "|20        |Pomegranate Cranberry & Aloe Vera Enrich Drink                   |98      |7            |\n",
            "+----------+-----------------------------------------------------------------+--------+-------------+\n",
            "only showing top 20 rows\n",
            "\n"
          ]
        }
      ]
    },
    {
      "cell_type": "code",
      "source": [
        "#SHAPE order_product_prior\n",
        "print(f'({df_order_products_prior.count()}, {len(df_order_products_prior.columns)})')"
      ],
      "metadata": {
        "colab": {
          "base_uri": "https://localhost:8080/"
        },
        "id": "x0e7yWXlwstN",
        "outputId": "048c2618-1eb8-4cdd-d5b2-fa50dee0dae3"
      },
      "execution_count": null,
      "outputs": [
        {
          "output_type": "stream",
          "name": "stdout",
          "text": [
            "(266532, 4)\n"
          ]
        }
      ]
    },
    {
      "cell_type": "code",
      "source": [
        "#Analisar o esquema dos dados\n",
        "#Tom, não esqueça do s no products\n",
        "df_order_products_prior.printSchema()"
      ],
      "metadata": {
        "colab": {
          "base_uri": "https://localhost:8080/"
        },
        "id": "XHBIGW3Qwu1F",
        "outputId": "83545886-bef2-47a4-d1f7-16442f2c4e83"
      },
      "execution_count": null,
      "outputs": [
        {
          "output_type": "stream",
          "name": "stdout",
          "text": [
            "root\n",
            " |-- order_id: integer (nullable = true)\n",
            " |-- product_id: integer (nullable = true)\n",
            " |-- add_to_cart_order: integer (nullable = true)\n",
            " |-- reordered: integer (nullable = true)\n",
            "\n"
          ]
        }
      ]
    },
    {
      "cell_type": "code",
      "source": [
        "#AMOSTRA DOS DADOS\n",
        "df_order_products_prior.show(truncate=False)"
      ],
      "metadata": {
        "colab": {
          "base_uri": "https://localhost:8080/"
        },
        "id": "z3LJTDLIw8RU",
        "outputId": "c67d0659-422e-4ae9-df27-2b129259d866"
      },
      "execution_count": null,
      "outputs": [
        {
          "output_type": "stream",
          "name": "stdout",
          "text": [
            "+--------+----------+-----------------+---------+\n",
            "|order_id|product_id|add_to_cart_order|reordered|\n",
            "+--------+----------+-----------------+---------+\n",
            "|2       |33120     |1                |1        |\n",
            "|2       |28985     |2                |1        |\n",
            "|2       |9327      |3                |0        |\n",
            "|2       |45918     |4                |1        |\n",
            "|2       |30035     |5                |0        |\n",
            "|2       |17794     |6                |1        |\n",
            "|2       |40141     |7                |1        |\n",
            "|2       |1819      |8                |1        |\n",
            "|2       |43668     |9                |0        |\n",
            "|3       |33754     |1                |1        |\n",
            "|3       |24838     |2                |1        |\n",
            "|3       |17704     |3                |1        |\n",
            "|3       |21903     |4                |1        |\n",
            "|3       |17668     |5                |1        |\n",
            "|3       |46667     |6                |1        |\n",
            "|3       |17461     |7                |1        |\n",
            "|3       |32665     |8                |1        |\n",
            "|4       |46842     |1                |0        |\n",
            "|4       |26434     |2                |1        |\n",
            "|4       |39758     |3                |1        |\n",
            "+--------+----------+-----------------+---------+\n",
            "only showing top 20 rows\n",
            "\n"
          ]
        }
      ]
    },
    {
      "cell_type": "code",
      "source": [
        "df_aisles.count()"
      ],
      "metadata": {
        "colab": {
          "base_uri": "https://localhost:8080/"
        },
        "id": "BOqz4Z29xBTz",
        "outputId": "2744e3d8-407a-400c-8580-263a87e50f70"
      },
      "execution_count": null,
      "outputs": [
        {
          "output_type": "execute_result",
          "data": {
            "text/plain": [
              "134"
            ]
          },
          "metadata": {},
          "execution_count": 32
        }
      ]
    },
    {
      "cell_type": "code",
      "source": [
        "df_departments.count()"
      ],
      "metadata": {
        "colab": {
          "base_uri": "https://localhost:8080/"
        },
        "id": "SuWsmN3Lxly-",
        "outputId": "b2bf43cf-5291-4439-bbe2-9cc794d35d6b"
      },
      "execution_count": null,
      "outputs": [
        {
          "output_type": "execute_result",
          "data": {
            "text/plain": [
              "21"
            ]
          },
          "metadata": {},
          "execution_count": 33
        }
      ]
    },
    {
      "cell_type": "code",
      "source": [
        "df_orders.count()"
      ],
      "metadata": {
        "colab": {
          "base_uri": "https://localhost:8080/"
        },
        "id": "UlZkW2WRxpov",
        "outputId": "a52d69c6-7be4-4904-edd7-e4abb50468ca"
      },
      "execution_count": null,
      "outputs": [
        {
          "output_type": "execute_result",
          "data": {
            "text/plain": [
              "2873379"
            ]
          },
          "metadata": {},
          "execution_count": 34
        }
      ]
    },
    {
      "cell_type": "code",
      "source": [
        "df_order_products_prior.count()"
      ],
      "metadata": {
        "colab": {
          "base_uri": "https://localhost:8080/"
        },
        "id": "skoU-ywXxrpf",
        "outputId": "bc60152a-e635-4e38-f32f-3be4d8c8cdb8"
      },
      "execution_count": null,
      "outputs": [
        {
          "output_type": "execute_result",
          "data": {
            "text/plain": [
              "266532"
            ]
          },
          "metadata": {},
          "execution_count": 35
        }
      ]
    },
    {
      "cell_type": "code",
      "source": [
        "df_products.count()"
      ],
      "metadata": {
        "colab": {
          "base_uri": "https://localhost:8080/"
        },
        "id": "3GcJOaNPxvIl",
        "outputId": "dda63bae-d20e-41a2-9dea-fd40f532c5d2"
      },
      "execution_count": null,
      "outputs": [
        {
          "output_type": "execute_result",
          "data": {
            "text/plain": [
              "49688"
            ]
          },
          "metadata": {},
          "execution_count": 36
        }
      ]
    },
    {
      "cell_type": "code",
      "source": [
        "# Crie um novo DataFrame com a quantidade de registros de cada DataFrame\n",
        "df_contagem = spark.createDataFrame([(df_aisles.count(), df_departments.count(), df_orders.count(), df_order_products_prior.count(), df_products.count())],\n",
        "                                    [\"aisles\", \"departments\", \"orders\", \"order_products_prior\", \"products\"])\n",
        "\n",
        "# Exiba o novo DataFrame\n",
        "df_contagem.show()"
      ],
      "metadata": {
        "colab": {
          "base_uri": "https://localhost:8080/"
        },
        "id": "T0D4WTlSxyRz",
        "outputId": "68c2b2f0-18c1-4056-8efa-71cd54200b00"
      },
      "execution_count": null,
      "outputs": [
        {
          "output_type": "stream",
          "name": "stdout",
          "text": [
            "+------+-----------+-------+--------------------+--------+\n",
            "|aisles|departments| orders|order_products_prior|products|\n",
            "+------+-----------+-------+--------------------+--------+\n",
            "|   134|         21|2873379|              266532|   49688|\n",
            "+------+-----------+-------+--------------------+--------+\n",
            "\n"
          ]
        }
      ]
    },
    {
      "cell_type": "code",
      "source": [
        "#EXISTEM VALORES NULOS NOS DATAFRAMES?\n",
        "df_aisles.select([F.count(F.when(F.isnan(c) | F.col(c).isNull(), c)).alias(c) for c in df_aisles.columns]).show()"
      ],
      "metadata": {
        "colab": {
          "base_uri": "https://localhost:8080/"
        },
        "id": "FEL-JGPhyaD8",
        "outputId": "b2134904-c0ef-4d5f-8d62-468cf0a8a787"
      },
      "execution_count": null,
      "outputs": [
        {
          "output_type": "stream",
          "name": "stdout",
          "text": [
            "+--------+-----+\n",
            "|aisle_id|aisle|\n",
            "+--------+-----+\n",
            "|       0|    0|\n",
            "+--------+-----+\n",
            "\n"
          ]
        }
      ]
    },
    {
      "cell_type": "code",
      "source": [
        "#EXISTEM VALORES NULOS NOS DATAFRAMES?\n",
        "df_departments.select([F.count(F.when(F.isnan(c) | F.col(c).isNull(), c)).alias(c) for c in df_departments.columns]).show()"
      ],
      "metadata": {
        "colab": {
          "base_uri": "https://localhost:8080/"
        },
        "id": "ipYH8gYk4g8b",
        "outputId": "36c14a7f-4453-47e4-d645-3b0827256296"
      },
      "execution_count": null,
      "outputs": [
        {
          "output_type": "stream",
          "name": "stdout",
          "text": [
            "+-------------+----------+\n",
            "|department_id|department|\n",
            "+-------------+----------+\n",
            "|            0|         0|\n",
            "+-------------+----------+\n",
            "\n"
          ]
        }
      ]
    },
    {
      "cell_type": "code",
      "source": [
        "#EXISTEM VALORES NULOS NOS DATAFRAMES?\n",
        "df_orders.select([F.count(F.when(F.isnan(c) | F.col(c).isNull(), c)).alias(c) for c in df_orders.columns]).show()"
      ],
      "metadata": {
        "colab": {
          "base_uri": "https://localhost:8080/"
        },
        "id": "QDfIqX5b4iiI",
        "outputId": "2da42e7c-1384-4bcd-9eb9-f4f54604c748"
      },
      "execution_count": null,
      "outputs": [
        {
          "output_type": "stream",
          "name": "stdout",
          "text": [
            "+--------+-------+--------+------------+---------+-----------------+----------------------+\n",
            "|order_id|user_id|eval_set|order_number|order_dow|order_hour_of_day|days_since_prior_order|\n",
            "+--------+-------+--------+------------+---------+-----------------+----------------------+\n",
            "|       0|      0|       0|           0|        0|                0|                173363|\n",
            "+--------+-------+--------+------------+---------+-----------------+----------------------+\n",
            "\n"
          ]
        }
      ]
    },
    {
      "cell_type": "code",
      "source": [
        "#EXISTEM VALORES NULOS NOS DATAFRAMES?\n",
        "df_products.select([F.count(F.when(F.isnan(c) | F.col(c).isNull(), c)).alias(c) for c in df_products.columns]).show()"
      ],
      "metadata": {
        "colab": {
          "base_uri": "https://localhost:8080/"
        },
        "id": "y46YJbrQ4k91",
        "outputId": "37242a55-de44-4a9a-b3e0-725c535b7215"
      },
      "execution_count": null,
      "outputs": [
        {
          "output_type": "stream",
          "name": "stdout",
          "text": [
            "+----------+------------+--------+-------------+\n",
            "|product_id|product_name|aisle_id|department_id|\n",
            "+----------+------------+--------+-------------+\n",
            "|         0|           0|       0|            0|\n",
            "+----------+------------+--------+-------------+\n",
            "\n"
          ]
        }
      ]
    },
    {
      "cell_type": "code",
      "source": [
        "#EXISTEM VALORES NULOS NOS DATAFRAMES?\n",
        "df_order_products_prior.select([F.count(F.when(F.isnan(c) | F.col(c).isNull(), c)).alias(c) for c in df_order_products_prior.columns]).show()"
      ],
      "metadata": {
        "colab": {
          "base_uri": "https://localhost:8080/"
        },
        "id": "nitNliAv4nKV",
        "outputId": "d63241b9-2b96-4c34-9fe2-9f1b32e8005a"
      },
      "execution_count": null,
      "outputs": [
        {
          "output_type": "stream",
          "name": "stdout",
          "text": [
            "+--------+----------+-----------------+---------+\n",
            "|order_id|product_id|add_to_cart_order|reordered|\n",
            "+--------+----------+-----------------+---------+\n",
            "|       0|         0|                1|        1|\n",
            "+--------+----------+-----------------+---------+\n",
            "\n"
          ]
        }
      ]
    },
    {
      "cell_type": "code",
      "source": [
        "df_order_products_prior.filter(F.col('product_id').isNull()).show()"
      ],
      "metadata": {
        "colab": {
          "base_uri": "https://localhost:8080/"
        },
        "id": "v5-Rcfnu4qmv",
        "outputId": "c8d85c62-78e6-4b5e-f171-2b61e29aaab2"
      },
      "execution_count": null,
      "outputs": [
        {
          "output_type": "stream",
          "name": "stdout",
          "text": [
            "+--------+----------+-----------------+---------+\n",
            "|order_id|product_id|add_to_cart_order|reordered|\n",
            "+--------+----------+-----------------+---------+\n",
            "+--------+----------+-----------------+---------+\n",
            "\n"
          ]
        }
      ]
    },
    {
      "cell_type": "code",
      "source": [
        "#VAMOS DROPAR A LINHA QUE CONTEM VALORES NULOS, POIS É APENAS 1 REGISTRO EM MAIS DE 7 MILHÕES\n",
        "df_order_products_prior.dropna(how='any')"
      ],
      "metadata": {
        "colab": {
          "base_uri": "https://localhost:8080/"
        },
        "id": "C_zJRGND4yhZ",
        "outputId": "44312205-d792-4a77-93c6-a9856c4744c3"
      },
      "execution_count": null,
      "outputs": [
        {
          "output_type": "execute_result",
          "data": {
            "text/plain": [
              "DataFrame[order_id: int, product_id: int, add_to_cart_order: int, reordered: int]"
            ]
          },
          "metadata": {},
          "execution_count": 48
        }
      ]
    },
    {
      "cell_type": "code",
      "source": [
        "df_products.show()"
      ],
      "metadata": {
        "colab": {
          "base_uri": "https://localhost:8080/"
        },
        "id": "Ant8qEvv41eD",
        "outputId": "56f82951-4ceb-4c50-8b04-4e2ea17deff8"
      },
      "execution_count": null,
      "outputs": [
        {
          "output_type": "stream",
          "name": "stdout",
          "text": [
            "+----------+--------------------+--------+-------------+\n",
            "|product_id|        product_name|aisle_id|department_id|\n",
            "+----------+--------------------+--------+-------------+\n",
            "|         1|Chocolate Sandwic...|      61|           19|\n",
            "|         2|    All-Seasons Salt|     104|           13|\n",
            "|         3|Robust Golden Uns...|      94|            7|\n",
            "|         4|Smart Ones Classi...|      38|            1|\n",
            "|         5|Green Chile Anyti...|       5|           13|\n",
            "|         6|        Dry Nose Oil|      11|           11|\n",
            "|         7|Pure Coconut Wate...|      98|            7|\n",
            "|         8|Cut Russet Potato...|     116|            1|\n",
            "|         9|Light Strawberry ...|     120|           16|\n",
            "|        10|Sparkling Orange ...|     115|            7|\n",
            "|        11|   Peach Mango Juice|      31|            7|\n",
            "|        12|Chocolate Fudge L...|     119|            1|\n",
            "|        13|   Saline Nasal Mist|      11|           11|\n",
            "|        14|Fresh Scent Dishw...|      74|           17|\n",
            "|        15|Overnight Diapers...|      56|           18|\n",
            "|        16|Mint Chocolate Fl...|     103|           19|\n",
            "|        17|   Rendered Duck Fat|      35|           12|\n",
            "|        18|Pizza for One Sup...|      79|            1|\n",
            "|        19|Gluten Free Quino...|      63|            9|\n",
            "|        20|Pomegranate Cranb...|      98|            7|\n",
            "+----------+--------------------+--------+-------------+\n",
            "only showing top 20 rows\n",
            "\n"
          ]
        }
      ]
    },
    {
      "cell_type": "code",
      "source": [
        "df_order_products_prior.show()"
      ],
      "metadata": {
        "colab": {
          "base_uri": "https://localhost:8080/"
        },
        "id": "gwigLivBDLGZ",
        "outputId": "0695c228-4c8f-4846-ff9b-cd17247da014"
      },
      "execution_count": null,
      "outputs": [
        {
          "output_type": "stream",
          "name": "stdout",
          "text": [
            "+--------+----------+-----------------+---------+\n",
            "|order_id|product_id|add_to_cart_order|reordered|\n",
            "+--------+----------+-----------------+---------+\n",
            "|       2|     33120|                1|        1|\n",
            "|       2|     28985|                2|        1|\n",
            "|       2|      9327|                3|        0|\n",
            "|       2|     45918|                4|        1|\n",
            "|       2|     30035|                5|        0|\n",
            "|       2|     17794|                6|        1|\n",
            "|       2|     40141|                7|        1|\n",
            "|       2|      1819|                8|        1|\n",
            "|       2|     43668|                9|        0|\n",
            "|       3|     33754|                1|        1|\n",
            "|       3|     24838|                2|        1|\n",
            "|       3|     17704|                3|        1|\n",
            "|       3|     21903|                4|        1|\n",
            "|       3|     17668|                5|        1|\n",
            "|       3|     46667|                6|        1|\n",
            "|       3|     17461|                7|        1|\n",
            "|       3|     32665|                8|        1|\n",
            "|       4|     46842|                1|        0|\n",
            "|       4|     26434|                2|        1|\n",
            "|       4|     39758|                3|        1|\n",
            "+--------+----------+-----------------+---------+\n",
            "only showing top 20 rows\n",
            "\n"
          ]
        }
      ]
    },
    {
      "cell_type": "code",
      "source": [
        "# 1º JOIN - df_order_product_prior com order\n",
        "df_join = df_order_products_prior.join(df_orders, on=['order_id'], how='left')"
      ],
      "metadata": {
        "id": "mbagnxQ3DN0C"
      },
      "execution_count": null,
      "outputs": []
    },
    {
      "cell_type": "code",
      "source": [
        "# 2º JOIN df_joincom product\n",
        "df_join = df_join.join(df_products, on=['product_id'], how='left')"
      ],
      "metadata": {
        "id": "XLU0TrrgDTqr"
      },
      "execution_count": null,
      "outputs": []
    },
    {
      "cell_type": "code",
      "source": [
        "# 3º JOIN df_join com aisles\n",
        "df_join = df_join.join(df_aisles, on=['aisle_id'], how='left')"
      ],
      "metadata": {
        "id": "oZsBukS7DXFD"
      },
      "execution_count": null,
      "outputs": []
    },
    {
      "cell_type": "code",
      "source": [
        "#4º JOIN df_join com department\n",
        "df_join = df_join.join(df_departments, on=['department_id'], how='left')"
      ],
      "metadata": {
        "id": "P6SCRDjIDYtU"
      },
      "execution_count": null,
      "outputs": []
    },
    {
      "cell_type": "code",
      "source": [
        "df_join.printSchema()"
      ],
      "metadata": {
        "colab": {
          "base_uri": "https://localhost:8080/"
        },
        "id": "gOGtLHbrDaok",
        "outputId": "7ba82e1a-ad59-4605-86ec-73b444d70a9e"
      },
      "execution_count": null,
      "outputs": [
        {
          "output_type": "stream",
          "name": "stdout",
          "text": [
            "root\n",
            " |-- department_id: integer (nullable = true)\n",
            " |-- aisle_id: integer (nullable = true)\n",
            " |-- product_id: integer (nullable = true)\n",
            " |-- order_id: integer (nullable = true)\n",
            " |-- add_to_cart_order: integer (nullable = true)\n",
            " |-- reordered: integer (nullable = true)\n",
            " |-- user_id: integer (nullable = true)\n",
            " |-- eval_set: string (nullable = true)\n",
            " |-- order_number: integer (nullable = true)\n",
            " |-- order_dow: integer (nullable = true)\n",
            " |-- order_hour_of_day: integer (nullable = true)\n",
            " |-- days_since_prior_order: double (nullable = true)\n",
            " |-- product_name: string (nullable = true)\n",
            " |-- aisle: string (nullable = true)\n",
            " |-- department: string (nullable = true)\n",
            "\n"
          ]
        }
      ]
    },
    {
      "cell_type": "code",
      "source": [
        "df_join.show()"
      ],
      "metadata": {
        "colab": {
          "base_uri": "https://localhost:8080/"
        },
        "id": "PMHH--mvDcsW",
        "outputId": "57c75315-f39c-4a69-cf7f-5006232820a3"
      },
      "execution_count": null,
      "outputs": [
        {
          "output_type": "stream",
          "name": "stdout",
          "text": [
            "+-------------+--------+----------+--------+-----------------+---------+-------+--------+------------+---------+-----------------+----------------------+--------------------+--------------------+-------------+\n",
            "|department_id|aisle_id|product_id|order_id|add_to_cart_order|reordered|user_id|eval_set|order_number|order_dow|order_hour_of_day|days_since_prior_order|        product_name|               aisle|   department|\n",
            "+-------------+--------+----------+--------+-----------------+---------+-------+--------+------------+---------+-----------------+----------------------+--------------------+--------------------+-------------+\n",
            "|           16|      86|     33120|       2|                1|        1|   null|    null|        null|     null|             null|                  null|  Organic Egg Whites|                eggs|   dairy eggs|\n",
            "|            4|      83|     28985|       2|                2|        1|   null|    null|        null|     null|             null|                  null|Michigan Organic ...|    fresh vegetables|      produce|\n",
            "|           13|     104|      9327|       2|                3|        0|   null|    null|        null|     null|             null|                  null|       Garlic Powder|   spices seasonings|       pantry|\n",
            "|           13|      19|     45918|       2|                4|        1|   null|    null|        null|     null|             null|                  null|      Coconut Butter|       oils vinegars|       pantry|\n",
            "|           13|      17|     30035|       2|                5|        0|   null|    null|        null|     null|             null|                  null|   Natural Sweetener|  baking ingredients|       pantry|\n",
            "|            4|      83|     17794|       2|                6|        1|   null|    null|        null|     null|             null|                  null|             Carrots|    fresh vegetables|      produce|\n",
            "|           13|     105|     40141|       2|                7|        1|   null|    null|        null|     null|             null|                  null|Original Unflavor...|doughs gelatins b...|       pantry|\n",
            "|           13|      88|      1819|       2|                8|        1|   null|    null|        null|     null|             null|                  null|All Natural No St...|             spreads|       pantry|\n",
            "|            4|     123|     43668|       2|                9|        0|   null|    null|        null|     null|             null|                  null|Classic Blend Col...|packaged vegetabl...|      produce|\n",
            "|           16|     120|     33754|       3|                1|        1|   null|    null|        null|     null|             null|                  null|Total 2% with Str...|              yogurt|   dairy eggs|\n",
            "|           16|      91|     24838|       3|                2|        1|   null|    null|        null|     null|             null|                  null|Unsweetened Almon...|     soy lactosefree|   dairy eggs|\n",
            "|            4|     123|     17704|       3|                3|        1|   null|    null|        null|     null|             null|                  null|              Lemons|packaged vegetabl...|      produce|\n",
            "|            4|     123|     21903|       3|                4|        1|   null|    null|        null|     null|             null|                  null|Organic Baby Spinach|packaged vegetabl...|      produce|\n",
            "|           16|      91|     17668|       3|                5|        1|   null|    null|        null|     null|             null|                  null|Unsweetened Choco...|     soy lactosefree|   dairy eggs|\n",
            "|            4|      83|     46667|       3|                6|        1|   null|    null|        null|     null|             null|                  null| Organic Ginger Root|    fresh vegetables|      produce|\n",
            "|           12|      35|     17461|       3|                7|        1|   null|    null|        null|     null|             null|                  null|Air Chilled Organ...|     poultry counter| meat seafood|\n",
            "|            3|     112|     32665|       3|                8|        1|   null|    null|        null|     null|             null|                  null|Organic Ezekiel 4...|               bread|       bakery|\n",
            "|            3|      93|     46842|       4|                1|        0|   null|    null|        null|     null|             null|                  null|Plain Pre-Sliced ...|    breakfast bakery|       bakery|\n",
            "|           11|      11|     26434|       4|                2|        1|   null|    null|        null|     null|             null|                  null|Honey/Lemon Cough...|    cold flu allergy|personal care|\n",
            "|           19|       3|     39758|       4|                3|        1|   null|    null|        null|     null|             null|                  null|Chewy 25% Low Sug...| energy granola bars|       snacks|\n",
            "+-------------+--------+----------+--------+-----------------+---------+-------+--------+------------+---------+-----------------+----------------------+--------------------+--------------------+-------------+\n",
            "only showing top 20 rows\n",
            "\n"
          ]
        }
      ]
    },
    {
      "cell_type": "code",
      "source": [
        "#EXISTEM VALORES NULOS NOS DATAFRAMES?\n",
        "df_join.select([F.count(F.when(F.isnan(c) | F.col(c).isNull(), c)).alias(c) for c in df_join.columns]).show()"
      ],
      "metadata": {
        "colab": {
          "base_uri": "https://localhost:8080/"
        },
        "id": "ZB43LMJGDejO",
        "outputId": "46b982ac-ed0a-40b3-dca8-6fa7eb23fdf6"
      },
      "execution_count": null,
      "outputs": [
        {
          "output_type": "stream",
          "name": "stdout",
          "text": [
            "+-------------+--------+----------+--------+-----------------+---------+-------+--------+------------+---------+-----------------+----------------------+------------+-----+----------+\n",
            "|department_id|aisle_id|product_id|order_id|add_to_cart_order|reordered|user_id|eval_set|order_number|order_dow|order_hour_of_day|days_since_prior_order|product_name|aisle|department|\n",
            "+-------------+--------+----------+--------+-----------------+---------+-------+--------+------------+---------+-----------------+----------------------+------------+-----+----------+\n",
            "|            0|       0|         0|       0|                1|        1|  42731|   42731|       42731|    42731|            42731|                 56875|           0|    0|         0|\n",
            "+-------------+--------+----------+--------+-----------------+---------+-------+--------+------------+---------+-----------------+----------------------+------------+-----+----------+\n",
            "\n"
          ]
        }
      ]
    },
    {
      "cell_type": "code",
      "source": [
        "#DROPAR O ÚNICO REGISTRO QUE POSSUI DADOS NULOS EM AISLE E DEPARTMENT\n",
        "df_join = df_join.dropna(how='any', subset='aisle')\n",
        "df_join = df_join.dropna(how='any', subset='department')"
      ],
      "metadata": {
        "id": "KkNIWJqBELJz"
      },
      "execution_count": null,
      "outputs": []
    },
    {
      "cell_type": "code",
      "source": [
        "media = (df_join.filter(F.col('days_since_prior_order').isNull() | F.isnan(F.col('days_since_prior_order'))).count() / df_join.select('days_since_prior_order').count() * 100)\n",
        "\n",
        "print(media)"
      ],
      "metadata": {
        "colab": {
          "base_uri": "https://localhost:8080/"
        },
        "id": "r3NyES3oEYLg",
        "outputId": "d0ca1f6f-94d7-4c33-d167-a6e25954a768"
      },
      "execution_count": null,
      "outputs": [
        {
          "output_type": "stream",
          "name": "stdout",
          "text": [
            "21.338901145078264\n"
          ]
        }
      ]
    },
    {
      "cell_type": "code",
      "source": [
        "df = df_join"
      ],
      "metadata": {
        "id": "gPEAvbNVE18l"
      },
      "execution_count": null,
      "outputs": []
    },
    {
      "cell_type": "code",
      "source": [
        "df.show()"
      ],
      "metadata": {
        "colab": {
          "base_uri": "https://localhost:8080/"
        },
        "id": "TD_v1swANAY3",
        "outputId": "2e690b75-5a62-40f5-f46b-a0519e220eca"
      },
      "execution_count": null,
      "outputs": [
        {
          "output_type": "stream",
          "name": "stdout",
          "text": [
            "+-------------+--------+----------+--------+-----------------+---------+-------+--------+------------+---------+-----------------+----------------------+--------------------+--------------------+-------------+\n",
            "|department_id|aisle_id|product_id|order_id|add_to_cart_order|reordered|user_id|eval_set|order_number|order_dow|order_hour_of_day|days_since_prior_order|        product_name|               aisle|   department|\n",
            "+-------------+--------+----------+--------+-----------------+---------+-------+--------+------------+---------+-----------------+----------------------+--------------------+--------------------+-------------+\n",
            "|           16|      86|     33120|       2|                1|        1|   null|    null|        null|     null|             null|                  null|  Organic Egg Whites|                eggs|   dairy eggs|\n",
            "|            4|      83|     28985|       2|                2|        1|   null|    null|        null|     null|             null|                  null|Michigan Organic ...|    fresh vegetables|      produce|\n",
            "|           13|     104|      9327|       2|                3|        0|   null|    null|        null|     null|             null|                  null|       Garlic Powder|   spices seasonings|       pantry|\n",
            "|           13|      19|     45918|       2|                4|        1|   null|    null|        null|     null|             null|                  null|      Coconut Butter|       oils vinegars|       pantry|\n",
            "|           13|      17|     30035|       2|                5|        0|   null|    null|        null|     null|             null|                  null|   Natural Sweetener|  baking ingredients|       pantry|\n",
            "|            4|      83|     17794|       2|                6|        1|   null|    null|        null|     null|             null|                  null|             Carrots|    fresh vegetables|      produce|\n",
            "|           13|     105|     40141|       2|                7|        1|   null|    null|        null|     null|             null|                  null|Original Unflavor...|doughs gelatins b...|       pantry|\n",
            "|           13|      88|      1819|       2|                8|        1|   null|    null|        null|     null|             null|                  null|All Natural No St...|             spreads|       pantry|\n",
            "|            4|     123|     43668|       2|                9|        0|   null|    null|        null|     null|             null|                  null|Classic Blend Col...|packaged vegetabl...|      produce|\n",
            "|           16|     120|     33754|       3|                1|        1|   null|    null|        null|     null|             null|                  null|Total 2% with Str...|              yogurt|   dairy eggs|\n",
            "|           16|      91|     24838|       3|                2|        1|   null|    null|        null|     null|             null|                  null|Unsweetened Almon...|     soy lactosefree|   dairy eggs|\n",
            "|            4|     123|     17704|       3|                3|        1|   null|    null|        null|     null|             null|                  null|              Lemons|packaged vegetabl...|      produce|\n",
            "|            4|     123|     21903|       3|                4|        1|   null|    null|        null|     null|             null|                  null|Organic Baby Spinach|packaged vegetabl...|      produce|\n",
            "|           16|      91|     17668|       3|                5|        1|   null|    null|        null|     null|             null|                  null|Unsweetened Choco...|     soy lactosefree|   dairy eggs|\n",
            "|            4|      83|     46667|       3|                6|        1|   null|    null|        null|     null|             null|                  null| Organic Ginger Root|    fresh vegetables|      produce|\n",
            "|           12|      35|     17461|       3|                7|        1|   null|    null|        null|     null|             null|                  null|Air Chilled Organ...|     poultry counter| meat seafood|\n",
            "|            3|     112|     32665|       3|                8|        1|   null|    null|        null|     null|             null|                  null|Organic Ezekiel 4...|               bread|       bakery|\n",
            "|            3|      93|     46842|       4|                1|        0|   null|    null|        null|     null|             null|                  null|Plain Pre-Sliced ...|    breakfast bakery|       bakery|\n",
            "|           11|      11|     26434|       4|                2|        1|   null|    null|        null|     null|             null|                  null|Honey/Lemon Cough...|    cold flu allergy|personal care|\n",
            "|           19|       3|     39758|       4|                3|        1|   null|    null|        null|     null|             null|                  null|Chewy 25% Low Sug...| energy granola bars|       snacks|\n",
            "+-------------+--------+----------+--------+-----------------+---------+-------+--------+------------+---------+-----------------+----------------------+--------------------+--------------------+-------------+\n",
            "only showing top 20 rows\n",
            "\n"
          ]
        }
      ]
    },
    {
      "cell_type": "code",
      "source": [
        "df.groupBy(F.col('order_number')).agg(F.count('order_number').alias('n de pedidos')).orderBy(F.col('n de pedidos').desc()).show()"
      ],
      "metadata": {
        "colab": {
          "base_uri": "https://localhost:8080/"
        },
        "id": "4GBrCrKYNB0D",
        "outputId": "d1c4efaa-599b-42af-91c0-01a91b140611"
      },
      "execution_count": null,
      "outputs": [
        {
          "output_type": "stream",
          "name": "stdout",
          "text": [
            "+------------+------------+\n",
            "|order_number|n de pedidos|\n",
            "+------------+------------+\n",
            "|           1|       14144|\n",
            "|           3|       14119|\n",
            "|           2|       13907|\n",
            "|           4|       13121|\n",
            "|           5|       11183|\n",
            "|           6|       10342|\n",
            "|           7|        9160|\n",
            "|           8|        8658|\n",
            "|           9|        7297|\n",
            "|          10|        7063|\n",
            "|          11|        6246|\n",
            "|          12|        5921|\n",
            "|          13|        5792|\n",
            "|          14|        5278|\n",
            "|          16|        4476|\n",
            "|          15|        4458|\n",
            "|          17|        4436|\n",
            "|          18|        4374|\n",
            "|          19|        4183|\n",
            "|          20|        3875|\n",
            "+------------+------------+\n",
            "only showing top 20 rows\n",
            "\n"
          ]
        }
      ]
    },
    {
      "cell_type": "code",
      "source": [
        "#QUANTIDADE DE PEDIDOS QUE MAIS APARECERAM\n",
        "df.agg(F.mode('order_number').alias('moda')).show()"
      ],
      "metadata": {
        "colab": {
          "base_uri": "https://localhost:8080/"
        },
        "id": "vqYctLFHNHa0",
        "outputId": "36326253-5374-49fd-d278-d3f08426cb74"
      },
      "execution_count": null,
      "outputs": [
        {
          "output_type": "stream",
          "name": "stdout",
          "text": [
            "+----+\n",
            "|moda|\n",
            "+----+\n",
            "|   1|\n",
            "+----+\n",
            "\n"
          ]
        }
      ]
    },
    {
      "cell_type": "code",
      "source": [
        "df_orders.groupBy(F.col('order_dow')).agg(F.count('order_dow').alias('qtd_pedidos')).orderBy(F.col('qtd_pedidos').desc()).show()"
      ],
      "metadata": {
        "colab": {
          "base_uri": "https://localhost:8080/"
        },
        "id": "gonO3KCxWrtv",
        "outputId": "9a53c8d7-c1bf-4ad3-a862-382eb534a0e8"
      },
      "execution_count": null,
      "outputs": [
        {
          "output_type": "stream",
          "name": "stdout",
          "text": [
            "+---------+-----------+\n",
            "|order_dow|qtd_pedidos|\n",
            "+---------+-----------+\n",
            "|        0|     504465|\n",
            "|        1|     493313|\n",
            "|        2|     392148|\n",
            "|        5|     381340|\n",
            "|        6|     377356|\n",
            "|        3|     367267|\n",
            "|        4|     357490|\n",
            "+---------+-----------+\n",
            "\n"
          ]
        }
      ]
    },
    {
      "cell_type": "code",
      "source": [
        "df_orders.show()"
      ],
      "metadata": {
        "colab": {
          "base_uri": "https://localhost:8080/"
        },
        "id": "SzzMdrzrWxHI",
        "outputId": "cf9c4640-d316-47ca-8aa2-504fbc536666"
      },
      "execution_count": null,
      "outputs": [
        {
          "output_type": "stream",
          "name": "stdout",
          "text": [
            "+--------+-------+--------+------------+---------+-----------------+----------------------+\n",
            "|order_id|user_id|eval_set|order_number|order_dow|order_hour_of_day|days_since_prior_order|\n",
            "+--------+-------+--------+------------+---------+-----------------+----------------------+\n",
            "| 2539329|      1|   prior|           1|        2|                8|                  null|\n",
            "| 2398795|      1|   prior|           2|        3|                7|                  15.0|\n",
            "|  473747|      1|   prior|           3|        3|               12|                  21.0|\n",
            "| 2254736|      1|   prior|           4|        4|                7|                  29.0|\n",
            "|  431534|      1|   prior|           5|        4|               15|                  28.0|\n",
            "| 3367565|      1|   prior|           6|        2|                7|                  19.0|\n",
            "|  550135|      1|   prior|           7|        1|                9|                  20.0|\n",
            "| 3108588|      1|   prior|           8|        1|               14|                  14.0|\n",
            "| 2295261|      1|   prior|           9|        1|               16|                   0.0|\n",
            "| 2550362|      1|   prior|          10|        4|                8|                  30.0|\n",
            "| 1187899|      1|   train|          11|        4|                8|                  14.0|\n",
            "| 2168274|      2|   prior|           1|        2|               11|                  null|\n",
            "| 1501582|      2|   prior|           2|        5|               10|                  10.0|\n",
            "| 1901567|      2|   prior|           3|        1|               10|                   3.0|\n",
            "|  738281|      2|   prior|           4|        2|               10|                   8.0|\n",
            "| 1673511|      2|   prior|           5|        3|               11|                   8.0|\n",
            "| 1199898|      2|   prior|           6|        2|                9|                  13.0|\n",
            "| 3194192|      2|   prior|           7|        2|               12|                  14.0|\n",
            "|  788338|      2|   prior|           8|        1|               15|                  27.0|\n",
            "| 1718559|      2|   prior|           9|        2|                9|                   8.0|\n",
            "+--------+-------+--------+------------+---------+-----------------+----------------------+\n",
            "only showing top 20 rows\n",
            "\n"
          ]
        }
      ]
    },
    {
      "cell_type": "code",
      "source": [
        "df.show()"
      ],
      "metadata": {
        "colab": {
          "base_uri": "https://localhost:8080/"
        },
        "id": "01z52N7vWzFh",
        "outputId": "e938e9d9-78e2-4f17-efb2-1ba1a5fae295"
      },
      "execution_count": null,
      "outputs": [
        {
          "output_type": "stream",
          "name": "stdout",
          "text": [
            "+-------------+--------+----------+--------+-----------------+---------+-------+--------+------------+---------+-----------------+----------------------+--------------------+--------------------+-------------+\n",
            "|department_id|aisle_id|product_id|order_id|add_to_cart_order|reordered|user_id|eval_set|order_number|order_dow|order_hour_of_day|days_since_prior_order|        product_name|               aisle|   department|\n",
            "+-------------+--------+----------+--------+-----------------+---------+-------+--------+------------+---------+-----------------+----------------------+--------------------+--------------------+-------------+\n",
            "|           16|      86|     33120|       2|                1|        1|   null|    null|        null|     null|             null|                  null|  Organic Egg Whites|                eggs|   dairy eggs|\n",
            "|            4|      83|     28985|       2|                2|        1|   null|    null|        null|     null|             null|                  null|Michigan Organic ...|    fresh vegetables|      produce|\n",
            "|           13|     104|      9327|       2|                3|        0|   null|    null|        null|     null|             null|                  null|       Garlic Powder|   spices seasonings|       pantry|\n",
            "|           13|      19|     45918|       2|                4|        1|   null|    null|        null|     null|             null|                  null|      Coconut Butter|       oils vinegars|       pantry|\n",
            "|           13|      17|     30035|       2|                5|        0|   null|    null|        null|     null|             null|                  null|   Natural Sweetener|  baking ingredients|       pantry|\n",
            "|            4|      83|     17794|       2|                6|        1|   null|    null|        null|     null|             null|                  null|             Carrots|    fresh vegetables|      produce|\n",
            "|           13|     105|     40141|       2|                7|        1|   null|    null|        null|     null|             null|                  null|Original Unflavor...|doughs gelatins b...|       pantry|\n",
            "|           13|      88|      1819|       2|                8|        1|   null|    null|        null|     null|             null|                  null|All Natural No St...|             spreads|       pantry|\n",
            "|            4|     123|     43668|       2|                9|        0|   null|    null|        null|     null|             null|                  null|Classic Blend Col...|packaged vegetabl...|      produce|\n",
            "|           16|     120|     33754|       3|                1|        1|   null|    null|        null|     null|             null|                  null|Total 2% with Str...|              yogurt|   dairy eggs|\n",
            "|           16|      91|     24838|       3|                2|        1|   null|    null|        null|     null|             null|                  null|Unsweetened Almon...|     soy lactosefree|   dairy eggs|\n",
            "|            4|     123|     17704|       3|                3|        1|   null|    null|        null|     null|             null|                  null|              Lemons|packaged vegetabl...|      produce|\n",
            "|            4|     123|     21903|       3|                4|        1|   null|    null|        null|     null|             null|                  null|Organic Baby Spinach|packaged vegetabl...|      produce|\n",
            "|           16|      91|     17668|       3|                5|        1|   null|    null|        null|     null|             null|                  null|Unsweetened Choco...|     soy lactosefree|   dairy eggs|\n",
            "|            4|      83|     46667|       3|                6|        1|   null|    null|        null|     null|             null|                  null| Organic Ginger Root|    fresh vegetables|      produce|\n",
            "|           12|      35|     17461|       3|                7|        1|   null|    null|        null|     null|             null|                  null|Air Chilled Organ...|     poultry counter| meat seafood|\n",
            "|            3|     112|     32665|       3|                8|        1|   null|    null|        null|     null|             null|                  null|Organic Ezekiel 4...|               bread|       bakery|\n",
            "|            3|      93|     46842|       4|                1|        0|   null|    null|        null|     null|             null|                  null|Plain Pre-Sliced ...|    breakfast bakery|       bakery|\n",
            "|           11|      11|     26434|       4|                2|        1|   null|    null|        null|     null|             null|                  null|Honey/Lemon Cough...|    cold flu allergy|personal care|\n",
            "|           19|       3|     39758|       4|                3|        1|   null|    null|        null|     null|             null|                  null|Chewy 25% Low Sug...| energy granola bars|       snacks|\n",
            "+-------------+--------+----------+--------+-----------------+---------+-------+--------+------------+---------+-----------------+----------------------+--------------------+--------------------+-------------+\n",
            "only showing top 20 rows\n",
            "\n"
          ]
        }
      ]
    },
    {
      "cell_type": "code",
      "source": [
        "df_orders.show()"
      ],
      "metadata": {
        "colab": {
          "base_uri": "https://localhost:8080/"
        },
        "id": "ps537OliW1Wt",
        "outputId": "ab2a3296-402d-4525-b2dc-44a343bc53d8"
      },
      "execution_count": null,
      "outputs": [
        {
          "output_type": "stream",
          "name": "stdout",
          "text": [
            "+--------+-------+--------+------------+---------+-----------------+----------------------+\n",
            "|order_id|user_id|eval_set|order_number|order_dow|order_hour_of_day|days_since_prior_order|\n",
            "+--------+-------+--------+------------+---------+-----------------+----------------------+\n",
            "| 2539329|      1|   prior|           1|        2|                8|                  null|\n",
            "| 2398795|      1|   prior|           2|        3|                7|                  15.0|\n",
            "|  473747|      1|   prior|           3|        3|               12|                  21.0|\n",
            "| 2254736|      1|   prior|           4|        4|                7|                  29.0|\n",
            "|  431534|      1|   prior|           5|        4|               15|                  28.0|\n",
            "| 3367565|      1|   prior|           6|        2|                7|                  19.0|\n",
            "|  550135|      1|   prior|           7|        1|                9|                  20.0|\n",
            "| 3108588|      1|   prior|           8|        1|               14|                  14.0|\n",
            "| 2295261|      1|   prior|           9|        1|               16|                   0.0|\n",
            "| 2550362|      1|   prior|          10|        4|                8|                  30.0|\n",
            "| 1187899|      1|   train|          11|        4|                8|                  14.0|\n",
            "| 2168274|      2|   prior|           1|        2|               11|                  null|\n",
            "| 1501582|      2|   prior|           2|        5|               10|                  10.0|\n",
            "| 1901567|      2|   prior|           3|        1|               10|                   3.0|\n",
            "|  738281|      2|   prior|           4|        2|               10|                   8.0|\n",
            "| 1673511|      2|   prior|           5|        3|               11|                   8.0|\n",
            "| 1199898|      2|   prior|           6|        2|                9|                  13.0|\n",
            "| 3194192|      2|   prior|           7|        2|               12|                  14.0|\n",
            "|  788338|      2|   prior|           8|        1|               15|                  27.0|\n",
            "| 1718559|      2|   prior|           9|        2|                9|                   8.0|\n",
            "+--------+-------+--------+------------+---------+-----------------+----------------------+\n",
            "only showing top 20 rows\n",
            "\n"
          ]
        }
      ]
    },
    {
      "cell_type": "code",
      "source": [
        "#dias_semana - CRIAR UMA LISTA COM DIAS DA SEMANA (0-6)\n",
        "#total_pedidos - LISTA DA QUANTIDADE DE PEDIDOS POR DIA DA SEMANA\n",
        "dias_semana = list(range(0, 7))\n",
        "total_pedidos = [df_orders.filter(F.col('order_dow') == 0).count(),\n",
        "                 df_orders.filter(F.col('order_dow') == 1).count(),\n",
        "                 df_orders.filter(F.col('order_dow') == 2).count(),\n",
        "                 df_orders.filter(F.col('order_dow') == 3).count(),\n",
        "                 df_orders.filter(F.col('order_dow') == 4).count(),\n",
        "                 df_orders.filter(F.col('order_dow') == 5).count(),\n",
        "                 df_orders.filter(F.col('order_dow') == 6).count()]"
      ],
      "metadata": {
        "id": "j_oRgdyVW2-1"
      },
      "execution_count": null,
      "outputs": []
    },
    {
      "cell_type": "code",
      "source": [
        "import matplotlib.pyplot as plt"
      ],
      "metadata": {
        "id": "52m9zRl2XB4s"
      },
      "execution_count": null,
      "outputs": []
    },
    {
      "cell_type": "code",
      "source": [
        "# Plot\n",
        "plt.figure(figsize = (10,5))\n",
        "plt.bar(dias_semana,total_pedidos, color = 'slateblue')\n",
        "plt.xlabel('Dia da Semana', fontsize = 14, fontweight = 'bold')\n",
        "plt.ylabel('Frequência', fontsize = 14, fontweight = 'bold')\n",
        "plt.xticks(dias_semana,['Domingo', 'Segunda', 'Terça', 'Quarta', 'Quinta', 'Sexta', 'Sábado'], rotation = 'vertical')\n",
        "plt.show()"
      ],
      "metadata": {
        "colab": {
          "base_uri": "https://localhost:8080/",
          "height": 519
        },
        "id": "J0wG2LcOW5XW",
        "outputId": "2e664de5-6bed-4041-a9b2-b207467a314a"
      },
      "execution_count": null,
      "outputs": [
        {
          "output_type": "display_data",
          "data": {
            "text/plain": [
              "<Figure size 1000x500 with 1 Axes>"
            ],
            "image/png": "[encoded data removed]"
          },
          "metadata": {}
        }
      ]
    },
    {
      "cell_type": "code",
      "source": [
        "df_orders.groupBy(F.col('order_hour_of_day')).agg(F.count('order_hour_of_day').alias('qtd_pedidos')).orderBy(F.col('qtd_pedidos').desc()).show()"
      ],
      "metadata": {
        "colab": {
          "base_uri": "https://localhost:8080/"
        },
        "id": "gFnVNfdLW7Tk",
        "outputId": "79f00fd2-7cdf-455e-ef24-dab245bbcaa6"
      },
      "execution_count": null,
      "outputs": [
        {
          "output_type": "stream",
          "name": "stdout",
          "text": [
            "+-----------------+-----------+\n",
            "|order_hour_of_day|qtd_pedidos|\n",
            "+-----------------+-----------+\n",
            "|               10|     241919|\n",
            "|               11|     239062|\n",
            "|               15|     238281|\n",
            "|               14|     237674|\n",
            "|               13|     233524|\n",
            "|               12|     229100|\n",
            "|               16|     228933|\n",
            "|                9|     216351|\n",
            "|               17|     192270|\n",
            "|               18|     153845|\n",
            "|                8|     149456|\n",
            "|               19|     118523|\n",
            "|               20|      87572|\n",
            "|                7|      76893|\n",
            "|               21|      66013|\n",
            "|               22|      51926|\n",
            "|               23|      33615|\n",
            "|                6|      25604|\n",
            "|                0|      19026|\n",
            "|                1|      10286|\n",
            "+-----------------+-----------+\n",
            "only showing top 20 rows\n",
            "\n"
          ]
        }
      ]
    },
    {
      "cell_type": "code",
      "source": [
        "lista_horas = list(range(0, 24))\n",
        "qtd_pedidos = []\n",
        "\n",
        "for i in range(24):\n",
        "  qtd_pedidos.append(df_orders.filter(F.col('order_hour_of_day') == i).count())"
      ],
      "metadata": {
        "id": "CnlRKopNfIH4"
      },
      "execution_count": null,
      "outputs": []
    },
    {
      "cell_type": "code",
      "source": [
        "# Plot\n",
        "plt.figure(figsize = (20,5))\n",
        "plt.bar(lista_horas,qtd_pedidos,color = 'forestgreen')\n",
        "plt.xticks(np.arange(0,24,1))\n",
        "plt.xlabel('Hora do Dia', fontsize = 14, fontweight = 'bold')\n",
        "plt.ylabel('Frequência', fontsize = 14, fontweight = 'bold')\n",
        "plt.show()"
      ],
      "metadata": {
        "colab": {
          "base_uri": "https://localhost:8080/",
          "height": 54
        },
        "id": "iYUXQ7C3fKcY",
        "outputId": "3a839a3b-eca8-4a90-ead0-1c68a22fa955"
      },
      "execution_count": null,
      "outputs": [
        {
          "output_type": "display_data",
          "data": {
            "text/plain": [
              "<Figure size 2000x500 with 1 Axes>"
            ],
            "image/png": "[encoded data removed]"
          },
          "metadata": {}
        }
      ]
    },
    {
      "cell_type": "code",
      "source": [],
      "metadata": {
        "id": "7buFAPu7fNr2"
      },
      "execution_count": null,
      "outputs": []
    }
  ]
}